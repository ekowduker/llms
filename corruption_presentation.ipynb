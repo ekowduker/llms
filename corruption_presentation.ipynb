{
 "cells": [
  {
   "cell_type": "markdown",
   "id": "6cbb9d83",
   "metadata": {},
   "source": [
    "### Corruption classification example"
   ]
  },
  {
   "cell_type": "markdown",
   "id": "a3eed457",
   "metadata": {},
   "source": [
    "This notebook is a very basic example to illustrate how language models can be used to detect basic fraud.  \n",
    "The audience was a gathering of law enforcement and justice professionals in Johannesburg. "
   ]
  },
  {
   "cell_type": "code",
   "execution_count": null,
   "id": "3280a450",
   "metadata": {},
   "outputs": [],
   "source": [
    "import openai\n",
    "#create get_completion helper function\n",
    "def get_completion(prompt, model=\"gpt-3.5-turbo\"):\n",
    "    messages = [{\"role\": \"user\", \"content\": prompt}]\n",
    "    response = openai.ChatCompletion.create(\n",
    "        model=model,\n",
    "        messages=messages,\n",
    "        temperature =0, #this is the degree of randomness \n",
    "    )\n",
    "    return response.choices[0].message[\"content\"]"
   ]
  },
  {
   "cell_type": "code",
   "execution_count": 10,
   "id": "532326e9",
   "metadata": {},
   "outputs": [],
   "source": [
    "example = f\"\"\"\n",
    "Frank's average monthly expense claim has always been less than ZAR100.\n",
    "His expense claim for this month is ZAR1000.\n",
    "\"\"\""
   ]
  },
  {
   "cell_type": "code",
   "execution_count": 12,
   "id": "f7705e99",
   "metadata": {},
   "outputs": [
    {
     "name": "stdout",
     "output_type": "stream",
     "text": [
      "Fraud.\n",
      "\n",
      "The example provided suggests that Frank's average monthly expense claim has always been less than ZAR100. However, his expense claim for this month is ZAR1000, which is significantly higher than his usual claims. This sudden increase in the expense claim amount raises suspicion and indicates potential fraudulent activity.\n"
     ]
    }
   ],
   "source": [
    "prompt = f\"\"\"\n",
    "Classify the example below, delimited by triple\n",
    "backticks as \"Fraud\" or \"Not fraud\".\n",
    "Explain your thinking.\"\n",
    "Example: '''{example}'''\n",
    "\"\"\"\n",
    "\n",
    "response = get_completion(prompt)\n",
    "print(response)"
   ]
  },
  {
   "cell_type": "code",
   "execution_count": null,
   "id": "44e13682",
   "metadata": {},
   "outputs": [],
   "source": []
  }
 ],
 "metadata": {
  "kernelspec": {
   "display_name": "Python 3 (ipykernel)",
   "language": "python",
   "name": "python3"
  },
  "language_info": {
   "codemirror_mode": {
    "name": "ipython",
    "version": 3
   },
   "file_extension": ".py",
   "mimetype": "text/x-python",
   "name": "python",
   "nbconvert_exporter": "python",
   "pygments_lexer": "ipython3",
   "version": "3.10.13"
  },
  "toc": {
   "base_numbering": 1,
   "nav_menu": {},
   "number_sections": true,
   "sideBar": true,
   "skip_h1_title": false,
   "title_cell": "Table of Contents",
   "title_sidebar": "Contents",
   "toc_cell": false,
   "toc_position": {},
   "toc_section_display": true,
   "toc_window_display": false
  }
 },
 "nbformat": 4,
 "nbformat_minor": 5
}
