{
 "cells": [
  {
   "cell_type": "markdown",
   "id": "b43d1926-71b7-4689-8547-84f7576f3c49",
   "metadata": {
    "tags": []
   },
   "source": [
    "## Grading Student Essays"
   ]
  },
  {
   "cell_type": "markdown",
   "id": "aad80222-badc-4285-a37a-1ea5e94df7e2",
   "metadata": {
    "tags": []
   },
   "source": [
    "In this notebook, I finetune a sequence classifier model from Hugging Face using the [Hewlett Foundation scored essay data set](https://www.kaggle.com/competitions/asap-aes/data).  \n",
    "This dataset is taken from the training_set_rel3.xlsx on Kaggle. \n",
    "The problem is treated as a regression problem to account for continuous scoring."
   ]
  },
  {
   "cell_type": "markdown",
   "id": "e8c28cb9-3dba-46b5-9829-9a360d45ca53",
   "metadata": {},
   "source": [
    "### 1 - Install and load required dependencies "
   ]
  },
  {
   "cell_type": "code",
   "execution_count": 2,
   "id": "0ddf4fe4-3807-4f5c-a2ad-84bbec5d4c54",
   "metadata": {
    "tags": []
   },
   "outputs": [
    {
     "name": "stdout",
     "output_type": "stream",
     "text": [
      "Requirement already satisfied: pip in /opt/conda/lib/python3.10/site-packages (23.3.1)\n",
      "\u001b[33mWARNING: Running pip as the 'root' user can result in broken permissions and conflicting behaviour with the system package manager. It is recommended to use a virtual environment instead: https://pip.pypa.io/warnings/venv\u001b[0m\u001b[33m\n",
      "\u001b[0mNote: you may need to restart the kernel to use updated packages.\n",
      "\u001b[33mWARNING: Running pip as the 'root' user can result in broken permissions and conflicting behaviour with the system package manager. It is recommended to use a virtual environment instead: https://pip.pypa.io/warnings/venv\u001b[0m\u001b[33m\n",
      "\u001b[0mNote: you may need to restart the kernel to use updated packages.\n",
      "\u001b[33mWARNING: Running pip as the 'root' user can result in broken permissions and conflicting behaviour with the system package manager. It is recommended to use a virtual environment instead: https://pip.pypa.io/warnings/venv\u001b[0m\u001b[33m\n",
      "\u001b[0mNote: you may need to restart the kernel to use updated packages.\n",
      "\u001b[33mWARNING: Running pip as the 'root' user can result in broken permissions and conflicting behaviour with the system package manager. It is recommended to use a virtual environment instead: https://pip.pypa.io/warnings/venv\u001b[0m\u001b[33m\n",
      "\u001b[0mNote: you may need to restart the kernel to use updated packages.\n"
     ]
    }
   ],
   "source": [
    "%pip install --upgrade pip\n",
    "%pip install --disable-pip-version-check \\\n",
    "    torch==1.13.1 \\\n",
    "    torchdata==0.5.1 --quiet\n",
    "\n",
    "%pip install \\\n",
    "    transformers==4.27.2 \\\n",
    "    datasets==2.11.0 \\\n",
    "    evaluate==0.4.0 \\\n",
    "    loralib==0.1.1 --quiet\n",
    "\n",
    "%pip install matplotlib --quiet"
   ]
  },
  {
   "cell_type": "code",
   "execution_count": 3,
   "id": "15e7bdcc-bb8f-442a-b7f8-49b706dcca8f",
   "metadata": {
    "tags": []
   },
   "outputs": [],
   "source": [
    "import numpy as np\n",
    "import torch\n",
    "from torch.utils.data import DataLoader\n",
    "from transformers import BertTokenizer, BertForSequenceClassification, AdamW, BertConfig\n",
    "from sklearn.metrics import mean_squared_error"
   ]
  },
  {
   "cell_type": "markdown",
   "id": "426ef7fb-6d3d-41a1-83d0-ee9d660007fb",
   "metadata": {},
   "source": [
    "## 2 - Define a DataSet Class"
   ]
  },
  {
   "cell_type": "code",
   "execution_count": 4,
   "id": "a63a014c-e20f-441f-b47e-e3b9d017117d",
   "metadata": {
    "tags": []
   },
   "outputs": [],
   "source": [
    "model_name = 'bert-base-uncased'\n",
    "\n",
    "class EssayDataset(torch.utils.data.Dataset):\n",
    "    def __init__(self, essays, grades):\n",
    "        self.essays = essays\n",
    "        self.grades = grades\n",
    "        self.tokenizer = BertTokenizer.from_pretrained(model_name)\n",
    "\n",
    "    def __len__(self):\n",
    "        return len(self.essays)\n",
    "\n",
    "    def __getitem__(self, idx):\n",
    "        essay = self.essays[idx]\n",
    "        grade = self.grades[idx]\n",
    "        tokens = self.tokenizer(essay, truncation=True, padding='max_length', max_length=512)\n",
    "        return {key: torch.tensor(val, dtype=torch.long) for key, val in tokens.items()}, torch.tensor(grade, dtype=torch.float)\n"
   ]
  },
  {
   "cell_type": "markdown",
   "id": "70af0fc5-3926-4b18-a297-1246bb979553",
   "metadata": {},
   "source": [
    "### 3 - Load data"
   ]
  },
  {
   "cell_type": "code",
   "execution_count": 5,
   "id": "1c925743-ef2d-4c60-ab82-57bf6dc270e8",
   "metadata": {
    "tags": []
   },
   "outputs": [
    {
     "name": "stderr",
     "output_type": "stream",
     "text": [
      "Found cached dataset csv (/root/.cache/huggingface/datasets/csv/default-38362ed01254b30c/0.0.0/6954658bab30a358235fa864b05cf819af0e179325c740e4bc853bcc7ec513e1)\n"
     ]
    },
    {
     "data": {
      "application/vnd.jupyter.widget-view+json": {
       "model_id": "6c6b8e9c82874c059daaf0508b82cee1",
       "version_major": 2,
       "version_minor": 0
      },
      "text/plain": [
       "  0%|          | 0/1 [00:00<?, ?it/s]"
      ]
     },
     "metadata": {},
     "output_type": "display_data"
    },
    {
     "name": "stdout",
     "output_type": "stream",
     "text": [
      "DatasetDict({\n",
      "    train: Dataset({\n",
      "        features: ['essay_id', 'essay', 'domain1_score'],\n",
      "        num_rows: 12978\n",
      "    })\n",
      "})\n"
     ]
    }
   ],
   "source": [
    "from datasets import load_dataset\n",
    "\n",
    "dataset = load_dataset('csv', data_files='scored_essays.csv')\n",
    "print(dataset)"
   ]
  },
  {
   "cell_type": "markdown",
   "id": "b82bcc14-c9b4-434b-b69c-a38b92871a65",
   "metadata": {
    "tags": []
   },
   "source": [
    "#### 3.1 - Shuffle and sample a smaller dataset"
   ]
  },
  {
   "cell_type": "code",
   "execution_count": 6,
   "id": "76245a47-70ae-45b5-9e93-42cc99b10b66",
   "metadata": {
    "tags": []
   },
   "outputs": [
    {
     "name": "stderr",
     "output_type": "stream",
     "text": [
      "Loading cached shuffled indices for dataset at /root/.cache/huggingface/datasets/csv/default-38362ed01254b30c/0.0.0/6954658bab30a358235fa864b05cf819af0e179325c740e4bc853bcc7ec513e1/cache-c6ce648331b3305d.arrow\n"
     ]
    },
    {
     "name": "stdout",
     "output_type": "stream",
     "text": [
      "Dataset({\n",
      "    features: ['essay_id', 'essay', 'domain1_score'],\n",
      "    num_rows: 2000\n",
      "})\n"
     ]
    }
   ],
   "source": [
    "# Shuffle the dataset\n",
    "shuffled_dataset = dataset['train'].shuffle(seed=42)\n",
    "\n",
    "# Select n random samples\n",
    "n_samples = 2000\n",
    "scored_essays = shuffled_dataset.select(range(n_samples))\n",
    "\n",
    "print(scored_essays)\n"
   ]
  },
  {
   "cell_type": "markdown",
   "id": "f4954fc1-f0ef-4ae0-8c42-b744262057f8",
   "metadata": {},
   "source": [
    "#### 3.2 - Extract the essays and grades"
   ]
  },
  {
   "cell_type": "code",
   "execution_count": 7,
   "id": "1c71d5e3-613b-4ca3-9dee-df6fb5ac822f",
   "metadata": {
    "tags": []
   },
   "outputs": [],
   "source": [
    "essays = scored_essays['essay'] # list of essay strings\n",
    "grades = scored_essays['domain1_score'] # list of numerical grades"
   ]
  },
  {
   "cell_type": "markdown",
   "id": "ae7ee900-dad5-4e1a-b203-3bf3e55e7eb0",
   "metadata": {
    "tags": []
   },
   "source": [
    "Split the data"
   ]
  },
  {
   "cell_type": "code",
   "execution_count": 8,
   "id": "6a0e7509-be66-41dc-96d2-bd460659c785",
   "metadata": {
    "tags": []
   },
   "outputs": [],
   "source": [
    "from sklearn.model_selection import train_test_split\n",
    "\n",
    "# Split into training and temporary sets (80/20 split)\n",
    "essays_train, essays_temp, grades_train, grades_temp = train_test_split(\n",
    "    essays, grades, test_size=0.2, random_state=42)\n",
    "\n",
    "# Split the temporary set into validation and test sets (50/50 split)\n",
    "essays_val, essays_test, grades_val, grades_test = train_test_split(\n",
    "    essays_temp, grades_temp, test_size=0.5, random_state=42)\n"
   ]
  },
  {
   "cell_type": "markdown",
   "id": "5f4a7d88-7572-4b02-a448-41bca8da9eb1",
   "metadata": {},
   "source": [
    "#### 3.3 Scale the grades  \n",
    "QuantileTransformer: This scaler transforms the features to follow a uniform or a normal distribution.  \n",
    "Therefore, for a given feature, this transformation tends to spread out the most frequent values and reduces the impact of (marginal) outliers."
   ]
  },
  {
   "cell_type": "code",
   "execution_count": 9,
   "id": "96452f7c-671e-4acb-9539-7b5773de7a74",
   "metadata": {
    "tags": []
   },
   "outputs": [
    {
     "name": "stderr",
     "output_type": "stream",
     "text": [
      "/opt/conda/lib/python3.10/site-packages/sklearn/preprocessing/_data.py:2590: UserWarning: n_quantiles (1000) is greater than the total number of samples (200). n_quantiles is set to n_samples.\n",
      "  warnings.warn(\n",
      "/opt/conda/lib/python3.10/site-packages/sklearn/preprocessing/_data.py:2590: UserWarning: n_quantiles (1000) is greater than the total number of samples (200). n_quantiles is set to n_samples.\n",
      "  warnings.warn(\n"
     ]
    }
   ],
   "source": [
    "from sklearn.preprocessing import StandardScaler, RobustScaler, QuantileTransformer\n",
    "\n",
    "# Convert grades_train, grades_val, and grades_test lists to numpy arrays\n",
    "grades_train = np.array(grades_train).reshape(-1,1)\n",
    "grades_val = np.array(grades_val).reshape(-1,1)\n",
    "grades_test = np.array(grades_test).reshape(-1,1)\n",
    "\n",
    "# Quantile Transformer\n",
    "quantile_transformer = QuantileTransformer(output_distribution='normal')\n",
    "grades_train_scaled = quantile_transformer.fit_transform(grades_train)\n",
    "grades_val_scaled = quantile_transformer.fit_transform(grades_val)\n",
    "grades_test_scaled = quantile_transformer.fit_transform(grades_test)"
   ]
  },
  {
   "cell_type": "markdown",
   "id": "a63a7507-3546-4b9e-9be1-a742ae3ffc28",
   "metadata": {},
   "source": [
    "### 4 - Tokenize the data  \n",
    "Create a dataset where each item is a tuple containing the tokenized essay and the corresponding numerical grade.  \n",
    "These datasets can then be used to create DataLoaders which will handle batching of data for training."
   ]
  },
  {
   "cell_type": "code",
   "execution_count": 10,
   "id": "157f9051-5b8f-441e-a2bb-de8a026c540f",
   "metadata": {
    "tags": []
   },
   "outputs": [],
   "source": [
    "train_dataset = EssayDataset(essays_train, grades_train_scaled)\n",
    "val_dataset = EssayDataset(essays_val, grades_val_scaled)\n",
    "\n",
    "train_dataloader = DataLoader(train_dataset, batch_size=8, shuffle=True)\n",
    "val_dataloader = DataLoader(val_dataset, batch_size=8, shuffle=False)"
   ]
  },
  {
   "cell_type": "markdown",
   "id": "0f4ad8cc-dafe-4a69-8c5b-b6ed35873f69",
   "metadata": {},
   "source": [
    "#### 4.1 - Initialize the original model and tokenizer"
   ]
  },
  {
   "cell_type": "code",
   "execution_count": 11,
   "id": "fe49bd43-c526-4c49-84ae-ae9ee5c48688",
   "metadata": {
    "tags": []
   },
   "outputs": [
    {
     "name": "stderr",
     "output_type": "stream",
     "text": [
      "Some weights of the model checkpoint at bert-base-uncased were not used when initializing BertForSequenceClassification: ['cls.predictions.decoder.weight', 'cls.predictions.transform.dense.weight', 'cls.predictions.transform.LayerNorm.weight', 'cls.seq_relationship.weight', 'cls.predictions.transform.dense.bias', 'cls.predictions.bias', 'cls.seq_relationship.bias', 'cls.predictions.transform.LayerNorm.bias']\n",
      "- This IS expected if you are initializing BertForSequenceClassification from the checkpoint of a model trained on another task or with another architecture (e.g. initializing a BertForSequenceClassification model from a BertForPreTraining model).\n",
      "- This IS NOT expected if you are initializing BertForSequenceClassification from the checkpoint of a model that you expect to be exactly identical (initializing a BertForSequenceClassification model from a BertForSequenceClassification model).\n",
      "Some weights of BertForSequenceClassification were not initialized from the model checkpoint at bert-base-uncased and are newly initialized: ['classifier.bias', 'classifier.weight']\n",
      "You should probably TRAIN this model on a down-stream task to be able to use it for predictions and inference.\n",
      "/opt/conda/lib/python3.10/site-packages/transformers/optimization.py:391: FutureWarning: This implementation of AdamW is deprecated and will be removed in a future version. Use the PyTorch implementation torch.optim.AdamW instead, or set `no_deprecation_warning=True` to disable this warning\n",
      "  warnings.warn(\n"
     ]
    }
   ],
   "source": [
    "original_model = BertForSequenceClassification.from_pretrained(model_name, num_labels=1)  # For regression\n",
    "optimizer = AdamW(original_model.parameters(), lr=1e-5)"
   ]
  },
  {
   "cell_type": "markdown",
   "id": "04d1fe95-3fa1-42e3-b850-d7fe89a3dfbe",
   "metadata": {},
   "source": [
    "#### 4.2 - Print the number of trainable model parameters"
   ]
  },
  {
   "cell_type": "code",
   "execution_count": 12,
   "id": "918a4389-6dd9-4a39-81fd-fbef1484a175",
   "metadata": {
    "tags": []
   },
   "outputs": [
    {
     "name": "stdout",
     "output_type": "stream",
     "text": [
      "trainable model parameters: 109483009\n",
      "all model parameters: 109483009\n",
      "percentage of trainable model parameters: 100.00%\n"
     ]
    }
   ],
   "source": [
    "def print_number_of_trainable_model_parameters(model):\n",
    "    trainable_model_params = 0\n",
    "    all_model_params = 0\n",
    "    for _, param in model.named_parameters():\n",
    "        all_model_params += param.numel()\n",
    "        if param.requires_grad:\n",
    "            trainable_model_params += param.numel()\n",
    "    return f\"trainable model parameters: {trainable_model_params}\\nall model parameters: {all_model_params}\\npercentage of trainable model parameters: {100 * trainable_model_params / all_model_params:.2f}%\"\n",
    "\n",
    "print(print_number_of_trainable_model_parameters(original_model))"
   ]
  },
  {
   "cell_type": "markdown",
   "id": "eb580252-1972-481c-8e97-de20b8704ace",
   "metadata": {
    "tags": []
   },
   "source": [
    "### 5 - Full fine tuning\n"
   ]
  },
  {
   "cell_type": "markdown",
   "id": "76fc4d1f-0cf2-4fa4-bccc-30aecb6c8051",
   "metadata": {},
   "source": [
    "Train for one epoch initially to be sure the training and validation steps work.  "
   ]
  },
  {
   "cell_type": "code",
   "execution_count": null,
   "id": "a08d703f-fc14-4039-a651-450c0e6f07be",
   "metadata": {
    "tags": []
   },
   "outputs": [],
   "source": [
    "n_epochs = 1  # Number of training epochs\n",
    "\n",
    "for epoch in range(n_epochs):\n",
    "    # Training\n",
    "    original_model.train()\n",
    "    train_loss = 0\n",
    "    for batch in train_dataloader:\n",
    "        optimizer.zero_grad()\n",
    "        \n",
    "        # Unpack the tokenized tensors and grades from the batch\n",
    "        tokenized_tensors = batch[0]\n",
    "        grade = batch[1]\n",
    "        \n",
    "        # Extract the tokenized tensors\n",
    "        input_ids = tokenized_tensors['input_ids']\n",
    "        attention_mask = tokenized_tensors['attention_mask']\n",
    "        \n",
    "        # Forward pass\n",
    "        outputs = original_model(input_ids=input_ids, attention_mask=attention_mask, labels=grade)\n",
    "        loss = outputs.loss\n",
    "        loss.backward()  # Backward pass\n",
    "        optimizer.step()\n",
    "        train_loss += loss.item()\n",
    "    \n",
    "    print(f'Epoch {epoch + 1}, Training loss: {train_loss / len(train_dataloader)}')\n",
    "    \n",
    "\n",
    "   # Validation\n",
    "    original_model.eval()\n",
    "    val_preds, val_labels = [], []\n",
    "\n",
    "    with torch.no_grad():\n",
    "        for batch in val_dataloader:\n",
    "            # Directly unpack the batch\n",
    "            tokenized_tensors = batch[0]\n",
    "            grades = batch[1]\n",
    "        \n",
    "            input_ids = tokenized_tensors['input_ids']\n",
    "            attention_mask = tokenized_tensors['attention_mask']\n",
    "            labels = grade\n",
    "\n",
    "            # Forward pass\n",
    "            outputs = original_model(input_ids=input_ids, attention_mask=attention_mask)\n",
    "            val_preds.extend(outputs.logits.squeeze().tolist())\n",
    "            val_labels.extend(labels.tolist())\n",
    "\n",
    "    val_mse = mean_squared_error(val_labels, val_preds)\n",
    "    print(f'Validation MSE: {val_mse}')\n"
   ]
  },
  {
   "cell_type": "markdown",
   "id": "92417349-0e19-478b-8a60-025925603faf",
   "metadata": {},
   "source": [
    "Modify code to include early stopping criteria"
   ]
  },
  {
   "cell_type": "code",
   "execution_count": null,
   "id": "fdd390eb-a24f-4923-b0a2-8821b6641455",
   "metadata": {
    "tags": []
   },
   "outputs": [],
   "source": [
    "import copy\n",
    "\n",
    "n_epochs = 20  # Make this a high number to benefit from early stopping\n",
    "patience = 5  # How many epochs to wait after last time validation loss improved.\n",
    "patience_counter = 0  # Counter for early stopping\n",
    "best_val_loss = float('inf')\n",
    "best_model = None\n",
    "\n",
    "for epoch in range(n_epochs):\n",
    "    # Training\n",
    "    original_model.train()\n",
    "    train_loss = 0\n",
    "    for batch in train_dataloader:\n",
    "        optimizer.zero_grad()\n",
    "        \n",
    "        # Unpack the tokenized tensors and grades from the batch\n",
    "        tokenized_tensors = batch[0]\n",
    "        grade = batch[1]\n",
    "        \n",
    "        # Extract the tokenized tensors\n",
    "        input_ids = tokenized_tensors['input_ids']\n",
    "        attention_mask = tokenized_tensors['attention_mask']\n",
    "        \n",
    "        # Forward pass\n",
    "        outputs = original_model(input_ids=input_ids, attention_mask=attention_mask, labels=grade)\n",
    "        loss = outputs.loss\n",
    "        loss.backward()  # Backward pass\n",
    "        optimizer.step()\n",
    "        train_loss += loss.item()\n",
    "    \n",
    "    print(f'Epoch {epoch + 1}, Training loss: {train_loss / len(train_dataloader)}')\n",
    "    \n",
    "\n",
    "   # Validation\n",
    "    original_model.eval()\n",
    "    val_preds, val_labels = [], []\n",
    "\n",
    "    with torch.no_grad():\n",
    "        for batch in val_dataloader:\n",
    "            # Directly unpack the batch\n",
    "            tokenized_tensors = batch[0]\n",
    "            grade = batch[1]\n",
    "        \n",
    "            input_ids = tokenized_tensors['input_ids']\n",
    "            attention_mask = tokenized_tensors['attention_mask']\n",
    "            labels = grade\n",
    "\n",
    "            # Forward pass\n",
    "            outputs = original_model(input_ids=input_ids, attention_mask=attention_mask)\n",
    "            val_preds.extend(outputs.logits.squeeze().tolist())\n",
    "            val_labels.extend(labels.tolist())\n",
    "\n",
    "    val_mse = mean_squared_error(val_labels, val_preds)\n",
    "    print(f'Validation MSE: {val_mse}')\n",
    "    \n",
    "    # Check if validation loss improved\n",
    "    if val_mse < best_val_loss:\n",
    "        best_val_loss = val_mse\n",
    "        best_model = copy.deepcopy(original_model.state_dict())\n",
    "        patience_counter = 0\n",
    "        print(f'Validation MSE improved to {val_mse}. Saving model!')\n",
    "    else:\n",
    "        patience_counter += 1\n",
    "        print(f'Validation MSE did not improve. Patience: {patience_counter}/{patience}')\n",
    "    \n",
    "    # Early stopping check\n",
    "    if patience_counter >= patience:\n",
    "        print(f'Stopping early after {patience_counter} epochs without improvement.')\n",
    "        break\n"
   ]
  },
  {
   "cell_type": "markdown",
   "id": "fdec38dd-9631-4f9c-86af-e39fbf892da6",
   "metadata": {
    "tags": []
   },
   "source": [
    "Save the best model and the corresponding tokenizer"
   ]
  },
  {
   "cell_type": "code",
   "execution_count": null,
   "id": "6435ddb3-0b54-45ca-b86e-1ae0dc1c4381",
   "metadata": {
    "tags": []
   },
   "outputs": [],
   "source": [
    "model_path = './full-finetune-essay-score-training'\n",
    "\n",
    "# Ensure the best model weights are loaded\n",
    "original_model.load_state_dict(best_model)\n",
    "\n",
    "# Save model weights\n",
    "original_model.save_pretrained(model_path)\n",
    "\n",
    "# Save tokenizer from the train_dataset\n",
    "train_dataset.tokenizer.save_pretrained(model_path)\n"
   ]
  },
  {
   "cell_type": "markdown",
   "id": "325f1af2-4720-495b-8cd2-8e8f08525cea",
   "metadata": {},
   "source": [
    "Optional: Reload model and tokenizer from file when needed"
   ]
  },
  {
   "cell_type": "code",
   "execution_count": null,
   "id": "cdf013fe-7f98-4f00-88e8-8b76d7a25b51",
   "metadata": {},
   "outputs": [],
   "source": [
    "original_model = BertForSequenceClassification.from_pretrained(model_path)\n",
    "tokenizer = BertTokenizer.from_pretrained(model_path)"
   ]
  },
  {
   "cell_type": "markdown",
   "id": "ab60039e-d3b4-47d7-a00f-1d04bd99f83c",
   "metadata": {},
   "source": [
    "### 6 - Parameter efficient fine tuning"
   ]
  },
  {
   "cell_type": "markdown",
   "id": "509c9833-b1e9-414c-bf2a-e3d05f181d5d",
   "metadata": {},
   "source": [
    "#### 6.1 - Setup the PEFT/LoRA model for Fine-Tuning\n",
    "\n",
    "Performing full-finetuning can lead to catastrophic forgetting because it changes all parameters on the model. Since PEFT only updates a small subset of parameters, it's more robust against this catastrophic forgetting effect.\n",
    "\n",
    "Set up the PEFT/LoRA model for fine-tuning with a new layer/parameter adapter. Using PEFT/LoRA, you are freezing the underlying LLM and only training the adapter. Have a look at the LoRA configuration below. Note the rank (`r`) hyper-parameter, which defines the rank/dimension of the adapter to be trained."
   ]
  },
  {
   "cell_type": "code",
   "execution_count": 13,
   "id": "10b388af-0a15-47ee-97ff-e4f688d3034b",
   "metadata": {
    "tags": []
   },
   "outputs": [
    {
     "name": "stdout",
     "output_type": "stream",
     "text": [
      "\u001b[33mWARNING: Running pip as the 'root' user can result in broken permissions and conflicting behaviour with the system package manager. It is recommended to use a virtual environment instead: https://pip.pypa.io/warnings/venv\u001b[0m\u001b[33m\n",
      "\u001b[0mNote: you may need to restart the kernel to use updated packages.\n"
     ]
    }
   ],
   "source": [
    "%pip install peft==0.3.0 --quiet\n",
    "\n",
    "from peft import LoraConfig, get_peft_model, TaskType\n",
    "\n",
    "lora_config = LoraConfig(\n",
    "    r=32,  # Rank\n",
    "    lora_alpha=32,\n",
    "    target_modules=[\"attention.self.query\", \"attention.self.value\"],\n",
    "    lora_dropout=0.05,\n",
    "    bias=\"none\",\n",
    "    task_type=TaskType.SEQ_CLS # Sequence classificatio task\n",
    ")\n"
   ]
  },
  {
   "cell_type": "markdown",
   "id": "d78c927b-7aee-4cb9-b1b9-4b7a1d99cb16",
   "metadata": {
    "tags": []
   },
   "source": [
    "#### 6.2 - Add LoRA adapter layers/parameters to the original LLM to be trained."
   ]
  },
  {
   "cell_type": "code",
   "execution_count": 14,
   "id": "0c9bbd6f-e4f5-436c-b8da-b58c65983e58",
   "metadata": {
    "tags": []
   },
   "outputs": [
    {
     "name": "stdout",
     "output_type": "stream",
     "text": [
      "trainable model parameters: 1181186\n",
      "all model parameters: 110663426\n",
      "percentage of trainable model parameters: 1.07%\n"
     ]
    }
   ],
   "source": [
    "peft_model = get_peft_model(original_model, lora_config)\n",
    "\n",
    "print(print_number_of_trainable_model_parameters(peft_model))"
   ]
  },
  {
   "cell_type": "markdown",
   "id": "082e1d4c-b2b6-485e-a7bb-1fe7926ba97c",
   "metadata": {},
   "source": [
    "#### 6.3 - Train PEFT Adapter\n",
    "\n",
    "Define training arguments and create `Trainer` instance."
   ]
  },
  {
   "cell_type": "code",
   "execution_count": 15,
   "id": "740f47e2-38b7-44b0-83f2-47a169290b54",
   "metadata": {
    "tags": []
   },
   "outputs": [
    {
     "name": "stdout",
     "output_type": "stream",
     "text": [
      "Epoch 1, Training loss: 0.9469961788132787\n",
      "Validation MSE: 0.7365528004692424\n",
      "Validation MSE improved to 0.7365528004692424. Saving model!\n",
      "Epoch 2, Training loss: 0.6022367420792579\n",
      "Validation MSE: 0.6282056848808154\n",
      "Validation MSE improved to 0.6282056848808154. Saving model!\n",
      "Epoch 3, Training loss: 0.4471785858646035\n",
      "Validation MSE: 0.654266343730865\n",
      "Validation MSE did not improve. Patience: 1/5\n",
      "Epoch 4, Training loss: 0.4250129825156182\n",
      "Validation MSE: 0.7791248460339716\n",
      "Validation MSE did not improve. Patience: 2/5\n",
      "Epoch 5, Training loss: 0.5221770444791765\n",
      "Validation MSE: 0.7224576622965544\n",
      "Validation MSE did not improve. Patience: 3/5\n",
      "Epoch 6, Training loss: 0.3821337918192148\n",
      "Validation MSE: 0.7441996288568903\n",
      "Validation MSE did not improve. Patience: 4/5\n",
      "Epoch 7, Training loss: 0.34620294894091785\n",
      "Validation MSE: 0.7106972401324078\n",
      "Validation MSE did not improve. Patience: 5/5\n",
      "Stopping early after 5 epochs without improvement.\n"
     ]
    }
   ],
   "source": [
    "import copy\n",
    "\n",
    "n_epochs = 20  # Make this a high number to benefit from early stopping\n",
    "patience = 5  # How many epochs to wait after last time validation loss improved.\n",
    "patience_counter = 0  # Counter for early stopping\n",
    "best_val_loss = float('inf')\n",
    "best_model = None\n",
    "\n",
    "optimizer = AdamW(peft_model.parameters(), lr=1e-3) # Higher learning rate than full fine tuning\n",
    "\n",
    "peft_model_path = './peft-finetune-essay-score-training'\n",
    "\n",
    "for epoch in range(n_epochs):\n",
    "    # Training\n",
    "    peft_model.train()\n",
    "    train_loss = 0\n",
    "    for batch in train_dataloader:\n",
    "        optimizer.zero_grad()\n",
    "        \n",
    "        # Unpack the tokenized tensors and grades from the batch\n",
    "        tokenized_tensors = batch[0]\n",
    "        grade = batch[1]\n",
    "        \n",
    "        # Extract the tokenized tensors\n",
    "        input_ids = tokenized_tensors['input_ids']\n",
    "        attention_mask = tokenized_tensors['attention_mask']\n",
    "        \n",
    "        # Forward pass\n",
    "        outputs = peft_model(input_ids=input_ids, attention_mask=attention_mask, labels=grade)\n",
    "        loss = outputs.loss\n",
    "        loss.backward()  # Backward pass\n",
    "        optimizer.step()\n",
    "        train_loss += loss.item()\n",
    "    \n",
    "    print(f'Epoch {epoch + 1}, Training loss: {train_loss / len(train_dataloader)}')\n",
    "    \n",
    "\n",
    "   # Validation\n",
    "    peft_model.eval()\n",
    "    val_preds, val_labels = [], []\n",
    "\n",
    "    with torch.no_grad():\n",
    "        for batch in val_dataloader:\n",
    "            # Directly unpack the batch\n",
    "            tokenized_tensors = batch[0]\n",
    "            grade = batch[1]\n",
    "        \n",
    "            input_ids = tokenized_tensors['input_ids']\n",
    "            attention_mask = tokenized_tensors['attention_mask']\n",
    "            labels = grade\n",
    "\n",
    "            # Forward pass\n",
    "            outputs = peft_model(input_ids=input_ids, attention_mask=attention_mask)\n",
    "            val_preds.extend(outputs.logits.squeeze().tolist())\n",
    "            val_labels.extend(labels.tolist())\n",
    "\n",
    "    val_mse = mean_squared_error(val_labels, val_preds)\n",
    "    print(f'Validation MSE: {val_mse}')\n",
    "    \n",
    "    # Check if validation loss improved\n",
    "    if val_mse < best_val_loss:\n",
    "        best_val_loss = val_mse\n",
    "        best_model = copy.deepcopy(peft_model.state_dict())\n",
    "        patience_counter = 0\n",
    "        print(f'Validation MSE improved to {val_mse}. Saving model!')\n",
    "        \n",
    "        # Save best model to disk\n",
    "        # First ensure the best model weights are loaded\n",
    "        peft_model.load_state_dict(best_model)\n",
    "\n",
    "        # Save model weights\n",
    "        peft_model.save_pretrained(peft_model_path)\n",
    "\n",
    "        # Save tokenizer from the train_dataset\n",
    "        train_dataset.tokenizer.save_pretrained(peft_model_path)\n",
    "    else:\n",
    "        patience_counter += 1\n",
    "        print(f'Validation MSE did not improve. Patience: {patience_counter}/{patience}')\n",
    "    \n",
    "    # Early stopping check\n",
    "    if patience_counter >= patience:\n",
    "        print(f'Stopping early after {patience_counter} epochs without improvement.')\n",
    "        break\n"
   ]
  },
  {
   "cell_type": "markdown",
   "id": "bfda7e6a-ffa9-439b-a18d-a66191d0a4b6",
   "metadata": {},
   "source": [
    "#### 6.4 - Save the final best model and the corresponding tokenizer "
   ]
  },
  {
   "cell_type": "code",
   "execution_count": 18,
   "id": "0702c218-10ba-431f-8729-48d22f821811",
   "metadata": {
    "tags": []
   },
   "outputs": [
    {
     "data": {
      "text/plain": [
       "('./peft-finetune-essay-score-training/tokenizer_config.json',\n",
       " './peft-finetune-essay-score-training/special_tokens_map.json',\n",
       " './peft-finetune-essay-score-training/vocab.txt',\n",
       " './peft-finetune-essay-score-training/added_tokens.json')"
      ]
     },
     "execution_count": 18,
     "metadata": {},
     "output_type": "execute_result"
    }
   ],
   "source": [
    "peft_model_path = './peft-finetune-essay-score-training'\n",
    "\n",
    "# Ensure the best model weights are loaded\n",
    "peft_model.load_state_dict(best_model)\n",
    "\n",
    "# Save model weights\n",
    "peft_model.save_pretrained(peft_model_path)\n",
    "\n",
    "# Save tokenizer from the train_dataset\n",
    "train_dataset.tokenizer.save_pretrained(peft_model_path)\n"
   ]
  },
  {
   "cell_type": "markdown",
   "id": "b1185701-56e8-4bec-bac4-af00df418518",
   "metadata": {},
   "source": [
    "#### 6.5 - Prepare this model by adding an adapter to the original model.   \n",
    "Set is_trainable=False because the plan is only to perform inference with this PEFT model. If you were preparing the model for further training, you would set is_trainable=True."
   ]
  },
  {
   "cell_type": "code",
   "execution_count": 19,
   "id": "8e9e73d0-a705-43de-be8e-9ecb1c17b212",
   "metadata": {
    "tags": []
   },
   "outputs": [
    {
     "name": "stderr",
     "output_type": "stream",
     "text": [
      "Some weights of the model checkpoint at bert-base-uncased were not used when initializing BertForSequenceClassification: ['cls.predictions.decoder.weight', 'cls.predictions.transform.dense.weight', 'cls.predictions.transform.LayerNorm.weight', 'cls.seq_relationship.weight', 'cls.predictions.transform.dense.bias', 'cls.predictions.bias', 'cls.seq_relationship.bias', 'cls.predictions.transform.LayerNorm.bias']\n",
      "- This IS expected if you are initializing BertForSequenceClassification from the checkpoint of a model trained on another task or with another architecture (e.g. initializing a BertForSequenceClassification model from a BertForPreTraining model).\n",
      "- This IS NOT expected if you are initializing BertForSequenceClassification from the checkpoint of a model that you expect to be exactly identical (initializing a BertForSequenceClassification model from a BertForSequenceClassification model).\n",
      "Some weights of BertForSequenceClassification were not initialized from the model checkpoint at bert-base-uncased and are newly initialized: ['classifier.bias', 'classifier.weight']\n",
      "You should probably TRAIN this model on a down-stream task to be able to use it for predictions and inference.\n"
     ]
    }
   ],
   "source": [
    "from peft import PeftModel, PeftConfig\n",
    "\n",
    "peft_model_base = BertForSequenceClassification.from_pretrained(model_name, num_labels=1, torch_dtype=torch.bfloat16)\n",
    "tokenizer = BertTokenizer.from_pretrained(model_name)\n",
    "\n",
    "peft_model = PeftModel.from_pretrained(peft_model_base, \n",
    "                                       peft_model_path, \n",
    "                                       torch_dtype=torch.bfloat16,\n",
    "                                       num_labels=1,\n",
    "                                       is_trainable=False)"
   ]
  },
  {
   "cell_type": "markdown",
   "id": "5e9adf82-b734-45de-b738-fc29a43ffb1d",
   "metadata": {},
   "source": [
    "### 7 - Inference "
   ]
  },
  {
   "cell_type": "markdown",
   "id": "10883037-14df-4fd7-9b18-e1a1e1d4028f",
   "metadata": {
    "tags": []
   },
   "source": [
    "#### 7.1 - Evaluate the Model Qualitatively (Human Evaluation)\n",
    "\n",
    "Make inferences with the original model and PEFT model for one test instance initially.  \n",
    "Please note the original model would normally be the fully fine tuned model.  \n",
    "I have not fine tuned the original model fully to conserve resources."
   ]
  },
  {
   "cell_type": "code",
   "execution_count": 20,
   "id": "97c4b6ca-b270-4d7d-ac60-7f7b24b1a0bf",
   "metadata": {
    "tags": []
   },
   "outputs": [
    {
     "name": "stdout",
     "output_type": "stream",
     "text": [
      "BASELINE HUMAN SCORE: 1.0\n",
      "ORIGINAL MODEL SCORE: 1.0\n",
      "PEFT MODEL SCORE: 1.0\n"
     ]
    }
   ],
   "source": [
    "index = 12\n",
    "\n",
    "essay = essays_test[index]\n",
    "scaled_score = grades_test_scaled[index]\n",
    "\n",
    "# Prepare the prompt and tokenize\n",
    "prompt = f\"Assign a score to the following essay:\\n\\n{essay}\\n\\nScore:\"\n",
    "inputs = tokenizer(prompt, return_tensors=\"pt\")\n",
    "\n",
    "# Move tensors to the same device as the model\n",
    "device = torch.device(\"cuda\" if torch.cuda.is_available() else \"cpu\")\n",
    "inputs = {k: v.to(device) for k, v in inputs.items()}\n",
    "\n",
    "# Make sure your models are in evaluation mode\n",
    "original_model.eval()\n",
    "peft_model.eval()\n",
    "\n",
    "# Disable gradient calculation for inference\n",
    "with torch.no_grad():\n",
    "    # Get model predictions\n",
    "    original_model_outputs = original_model(**inputs)\n",
    "    peft_model_outputs = peft_model(**inputs)\n",
    "\n",
    "    # Extract the score from the outputs (assuming a single regression output)\n",
    "    original_model_score = original_model_outputs.logits.squeeze().item()\n",
    "    peft_model_score = peft_model_outputs.logits.squeeze().item()\n",
    "    \n",
    "    # Scale the grades back to their original values\n",
    "    original_model_score = quantile_transformer.inverse_transform(np.array(original_model_score).reshape(-1,1))\n",
    "    y_pred_original = quantile_transformer.inverse_transform(np.array(peft_model_score).reshape(-1,1))\n",
    "    y_test_original = quantile_transformer.inverse_transform(np.array(scaled_score).reshape(-1,1))\n",
    "\n",
    "\n",
    "# Print results\n",
    "print(f\"BASELINE HUMAN SCORE: {y_test_original[0][0]:.1f}\")\n",
    "print(f\"ORIGINAL MODEL SCORE: {original_model_score[0][0]:.1f}\") #This would normally be the score from the fully fine tined model\n",
    "print(f\"PEFT MODEL SCORE: {y_pred_original[0][0]:.1f}\")\n"
   ]
  },
  {
   "cell_type": "markdown",
   "id": "b4e1993a-7744-414e-ade5-a09af520df3d",
   "metadata": {
    "tags": []
   },
   "source": [
    "#### 7.2 - Evaluate the performance on the test set"
   ]
  },
  {
   "cell_type": "markdown",
   "id": "fb26729f-cc74-41f8-9a17-9dbb3f4e7813",
   "metadata": {},
   "source": [
    "For regression tasks, the concept of an error percentage is not as straightforward as in classification tasks because the range of possible values is not bounded between 0 and 1. However, there are relative error metrics that can provide a sense of the error relative to the magnitude of the values being predicted. One such metric is the Mean Absolute Percentage Error (MAPE).\n",
    "\n",
    "MAPE measures the size of the error in percentage terms. It is calculated as the average of the absolute percentage errors of the predictions.  \n",
    "\n",
    "MAPE has some drawbacks, though:\n",
    "\n",
    "It can be undefined if any y true values are or close to zero.  \n",
    "It puts a heavier penalty on negative errors than positive ones in certain contexts."
   ]
  },
  {
   "cell_type": "code",
   "execution_count": 21,
   "id": "88ad97bd-7cda-44ac-aae5-a461ce314e48",
   "metadata": {},
   "outputs": [
    {
     "name": "stdout",
     "output_type": "stream",
     "text": [
      "Processing batch 0/200\n"
     ]
    },
    {
     "name": "stderr",
     "output_type": "stream",
     "text": [
      "Token indices sequence length is longer than the specified maximum sequence length for this model (766 > 512). Running this sequence through the model will result in indexing errors\n"
     ]
    },
    {
     "name": "stdout",
     "output_type": "stream",
     "text": [
      "Skipping essay 5 with length 766...\n",
      "Processing batch 10/200\n",
      "Skipping essay 11 with length 834...\n",
      "Skipping essay 20 with length 720...\n",
      "Processing batch 30/200\n",
      "Skipping essay 37 with length 624...\n",
      "Processing batch 40/200\n",
      "Skipping essay 42 with length 861...\n",
      "Skipping essay 45 with length 576...\n",
      "Skipping essay 49 with length 595...\n",
      "Processing batch 50/200\n",
      "Skipping essay 55 with length 570...\n",
      "Skipping essay 57 with length 626...\n",
      "Processing batch 60/200\n",
      "Skipping essay 66 with length 776...\n",
      "Processing batch 70/200\n",
      "Skipping essay 71 with length 669...\n",
      "Skipping essay 75 with length 539...\n",
      "Skipping essay 76 with length 627...\n",
      "Skipping essay 79 with length 611...\n",
      "Processing batch 80/200\n",
      "Skipping essay 83 with length 695...\n",
      "Skipping essay 87 with length 996...\n",
      "Skipping essay 89 with length 747...\n",
      "Processing batch 90/200\n",
      "Skipping essay 93 with length 525...\n",
      "Skipping essay 98 with length 777...\n",
      "Processing batch 100/200\n",
      "Skipping essay 105 with length 588...\n",
      "Skipping essay 109 with length 840...\n",
      "Processing batch 110/200\n",
      "Skipping essay 117 with length 810...\n",
      "Processing batch 120/200\n",
      "Skipping essay 121 with length 568...\n",
      "Skipping essay 125 with length 531...\n",
      "Skipping essay 126 with length 515...\n",
      "Processing batch 130/200\n",
      "Skipping essay 131 with length 637...\n",
      "Processing batch 140/200\n",
      "Skipping essay 141 with length 927...\n",
      "Skipping essay 145 with length 940...\n",
      "Skipping essay 150 with length 544...\n",
      "Skipping essay 151 with length 1098...\n",
      "Skipping essay 154 with length 689...\n",
      "Skipping essay 156 with length 670...\n",
      "Processing batch 160/200\n",
      "Skipping essay 165 with length 762...\n",
      "Processing batch 170/200\n",
      "Skipping essay 175 with length 740...\n",
      "Skipping essay 176 with length 1068...\n",
      "Processing batch 180/200\n",
      "Processing batch 190/200\n",
      "\n",
      "\n",
      "Mean Squared Error: 5.79\n",
      "Mean Absolute Error: 1.16\n",
      "Mean Absolute Percentage Error (MAPE): inf%\n"
     ]
    },
    {
     "name": "stderr",
     "output_type": "stream",
     "text": [
      "/tmp/ipykernel_2984/2160044727.py:6: RuntimeWarning: divide by zero encountered in divide\n",
      "  return np.mean(np.abs((y_true - y_pred) / y_true)) * 100\n"
     ]
    }
   ],
   "source": [
    "import numpy as np\n",
    "from sklearn.metrics import mean_squared_error, mean_absolute_error\n",
    "\n",
    "def mean_absolute_percentage_error(y_true, y_pred): \n",
    "    y_true, y_pred = np.array(y_true), np.array(y_pred)\n",
    "    return np.mean(np.abs((y_true - y_pred) / y_true)) * 100\n",
    "\n",
    "\n",
    "n=10 # print progress every nth batch\n",
    "y_test = []\n",
    "y_pred = []\n",
    "max_length = 512  # Maximum length for BERT-based models\n",
    "\n",
    "for index in range(len(essays_test)):\n",
    "#for index in range(30,35): # skip long essays that are longer than the token limit\n",
    "    \n",
    "    essay = essays_test[index]\n",
    "    scaled_score = grades_test_scaled[index]\n",
    "    \n",
    "    prompt = f\"\"\"\n",
    "    Assign a score to the following essay.\n",
    "    \n",
    "    {essay}\n",
    "    \n",
    "    Score:\n",
    "    \"\"\"\n",
    "\n",
    "    inputs = tokenizer(prompt, return_tensors=\"pt\")\n",
    "    \n",
    "    # Check the length of the tokenized essay\n",
    "    input_length = inputs.input_ids.size(1)\n",
    "    if input_length > max_length:\n",
    "        print(f\"Skipping essay {index} with length {input_length}...\")\n",
    "        continue\n",
    "    \n",
    "    # Move tensors to the same device as the model\n",
    "    device = torch.device(\"cuda\" if torch.cuda.is_available() else \"cpu\")\n",
    "    inputs = {k: v.to(device) for k, v in inputs.items()}\n",
    "\n",
    "    # Make sure your models are in evaluation mode\n",
    "    original_model.eval()\n",
    "    peft_model.eval()\n",
    "\n",
    "    # Disable gradient calculation for inference\n",
    "    with torch.no_grad():\n",
    "        # Get model predictions\n",
    "        peft_model_outputs = peft_model(**inputs)\n",
    "        peft_model_score = peft_model_outputs.logits.squeeze().item()\n",
    "\n",
    "        y_pred.append(peft_model_score)\n",
    "        y_test.append(scaled_score)\n",
    "    \n",
    "    # Print progress message every nth iteration\n",
    "    if index % n == 0:\n",
    "        print(f\"Processing batch {index}/{len(essays_test)}\")    \n",
    "        \n",
    "# Scale the grades back to their original values\n",
    "y_pred_original = quantile_transformer.inverse_transform(np.array(y_pred).reshape(-1,1))\n",
    "y_test_original = quantile_transformer.inverse_transform(np.array(y_test).reshape(-1,1))\n",
    "\n",
    "# Calculate MSE, MAE, MAPE\n",
    "mse = mean_squared_error(y_test_original, y_pred_original)\n",
    "mae = mean_absolute_error(y_test_original, y_pred_original)\n",
    "mape = mean_absolute_percentage_error(y_test_original, y_pred_original)\n",
    "\n",
    "print(\"\\n\")\n",
    "print(f\"Mean Squared Error: {mse:.2f}\")\n",
    "print(f\"Mean Absolute Error: {mae:.2f}\")\n",
    "print(f\"Mean Absolute Percentage Error (MAPE): {mape:.2f}%\")\n"
   ]
  },
  {
   "cell_type": "markdown",
   "id": "2427a254-4b85-4181-9444-309dbfc0d68a",
   "metadata": {},
   "source": [
    "#### 7.3 Plot results"
   ]
  },
  {
   "cell_type": "code",
   "execution_count": 22,
   "id": "c5f730d1-9b16-4dba-a8d4-4945a327ca95",
   "metadata": {
    "tags": []
   },
   "outputs": [
    {
     "data": {
      "image/png": "[encoded data removed]",
      "text/plain": [
       "<Figure size 640x480 with 1 Axes>"
      ]
     },
     "metadata": {},
     "output_type": "display_data"
    }
   ],
   "source": [
    "import matplotlib.pyplot as plt\n",
    "\n",
    "plt.scatter(y_test_original, y_pred_original)\n",
    "plt.title('Actual vs Predicted')\n",
    "plt.xlabel('Actual values')\n",
    "plt.ylabel('Predicted values')\n",
    "plt.plot([min(y_test_original), max(y_test_original)], [min(y_test_original), max(y_test_original)], color='red', linestyle='--')\n",
    "plt.show()"
   ]
  },
  {
   "cell_type": "code",
   "execution_count": null,
   "id": "b19e438e-2420-49eb-b276-7549cb8eca6c",
   "metadata": {},
   "outputs": [],
   "source": []
  }
 ],
 "metadata": {
  "availableInstances": [
   {
    "_defaultOrder": 0,
    "_isFastLaunch": true,
    "category": "General purpose",
    "gpuNum": 0,
    "hideHardwareSpecs": false,
    "memoryGiB": 4,
    "name": "ml.t3.medium",
    "vcpuNum": 2
   },
   {
    "_defaultOrder": 1,
    "_isFastLaunch": false,
    "category": "General purpose",
    "gpuNum": 0,
    "hideHardwareSpecs": false,
    "memoryGiB": 8,
    "name": "ml.t3.large",
    "vcpuNum": 2
   },
   {
    "_defaultOrder": 2,
    "_isFastLaunch": false,
    "category": "General purpose",
    "gpuNum": 0,
    "hideHardwareSpecs": false,
    "memoryGiB": 16,
    "name": "ml.t3.xlarge",
    "vcpuNum": 4
   },
   {
    "_defaultOrder": 3,
    "_isFastLaunch": false,
    "category": "General purpose",
    "gpuNum": 0,
    "hideHardwareSpecs": false,
    "memoryGiB": 32,
    "name": "ml.t3.2xlarge",
    "vcpuNum": 8
   },
   {
    "_defaultOrder": 4,
    "_isFastLaunch": true,
    "category": "General purpose",
    "gpuNum": 0,
    "hideHardwareSpecs": false,
    "memoryGiB": 8,
    "name": "ml.m5.large",
    "vcpuNum": 2
   },
   {
    "_defaultOrder": 5,
    "_isFastLaunch": false,
    "category": "General purpose",
    "gpuNum": 0,
    "hideHardwareSpecs": false,
    "memoryGiB": 16,
    "name": "ml.m5.xlarge",
    "vcpuNum": 4
   },
   {
    "_defaultOrder": 6,
    "_isFastLaunch": false,
    "category": "General purpose",
    "gpuNum": 0,
    "hideHardwareSpecs": false,
    "memoryGiB": 32,
    "name": "ml.m5.2xlarge",
    "vcpuNum": 8
   },
   {
    "_defaultOrder": 7,
    "_isFastLaunch": false,
    "category": "General purpose",
    "gpuNum": 0,
    "hideHardwareSpecs": false,
    "memoryGiB": 64,
    "name": "ml.m5.4xlarge",
    "vcpuNum": 16
   },
   {
    "_defaultOrder": 8,
    "_isFastLaunch": false,
    "category": "General purpose",
    "gpuNum": 0,
    "hideHardwareSpecs": false,
    "memoryGiB": 128,
    "name": "ml.m5.8xlarge",
    "vcpuNum": 32
   },
   {
    "_defaultOrder": 9,
    "_isFastLaunch": false,
    "category": "General purpose",
    "gpuNum": 0,
    "hideHardwareSpecs": false,
    "memoryGiB": 192,
    "name": "ml.m5.12xlarge",
    "vcpuNum": 48
   },
   {
    "_defaultOrder": 10,
    "_isFastLaunch": false,
    "category": "General purpose",
    "gpuNum": 0,
    "hideHardwareSpecs": false,
    "memoryGiB": 256,
    "name": "ml.m5.16xlarge",
    "vcpuNum": 64
   },
   {
    "_defaultOrder": 11,
    "_isFastLaunch": false,
    "category": "General purpose",
    "gpuNum": 0,
    "hideHardwareSpecs": false,
    "memoryGiB": 384,
    "name": "ml.m5.24xlarge",
    "vcpuNum": 96
   },
   {
    "_defaultOrder": 12,
    "_isFastLaunch": false,
    "category": "General purpose",
    "gpuNum": 0,
    "hideHardwareSpecs": false,
    "memoryGiB": 8,
    "name": "ml.m5d.large",
    "vcpuNum": 2
   },
   {
    "_defaultOrder": 13,
    "_isFastLaunch": false,
    "category": "General purpose",
    "gpuNum": 0,
    "hideHardwareSpecs": false,
    "memoryGiB": 16,
    "name": "ml.m5d.xlarge",
    "vcpuNum": 4
   },
   {
    "_defaultOrder": 14,
    "_isFastLaunch": false,
    "category": "General purpose",
    "gpuNum": 0,
    "hideHardwareSpecs": false,
    "memoryGiB": 32,
    "name": "ml.m5d.2xlarge",
    "vcpuNum": 8
   },
   {
    "_defaultOrder": 15,
    "_isFastLaunch": false,
    "category": "General purpose",
    "gpuNum": 0,
    "hideHardwareSpecs": false,
    "memoryGiB": 64,
    "name": "ml.m5d.4xlarge",
    "vcpuNum": 16
   },
   {
    "_defaultOrder": 16,
    "_isFastLaunch": false,
    "category": "General purpose",
    "gpuNum": 0,
    "hideHardwareSpecs": false,
    "memoryGiB": 128,
    "name": "ml.m5d.8xlarge",
    "vcpuNum": 32
   },
   {
    "_defaultOrder": 17,
    "_isFastLaunch": false,
    "category": "General purpose",
    "gpuNum": 0,
    "hideHardwareSpecs": false,
    "memoryGiB": 192,
    "name": "ml.m5d.12xlarge",
    "vcpuNum": 48
   },
   {
    "_defaultOrder": 18,
    "_isFastLaunch": false,
    "category": "General purpose",
    "gpuNum": 0,
    "hideHardwareSpecs": false,
    "memoryGiB": 256,
    "name": "ml.m5d.16xlarge",
    "vcpuNum": 64
   },
   {
    "_defaultOrder": 19,
    "_isFastLaunch": false,
    "category": "General purpose",
    "gpuNum": 0,
    "hideHardwareSpecs": false,
    "memoryGiB": 384,
    "name": "ml.m5d.24xlarge",
    "vcpuNum": 96
   },
   {
    "_defaultOrder": 20,
    "_isFastLaunch": false,
    "category": "General purpose",
    "gpuNum": 0,
    "hideHardwareSpecs": true,
    "memoryGiB": 0,
    "name": "ml.geospatial.interactive",
    "supportedImageNames": [
     "sagemaker-geospatial-v1-0"
    ],
    "vcpuNum": 0
   },
   {
    "_defaultOrder": 21,
    "_isFastLaunch": true,
    "category": "Compute optimized",
    "gpuNum": 0,
    "hideHardwareSpecs": false,
    "memoryGiB": 4,
    "name": "ml.c5.large",
    "vcpuNum": 2
   },
   {
    "_defaultOrder": 22,
    "_isFastLaunch": false,
    "category": "Compute optimized",
    "gpuNum": 0,
    "hideHardwareSpecs": false,
    "memoryGiB": 8,
    "name": "ml.c5.xlarge",
    "vcpuNum": 4
   },
   {
    "_defaultOrder": 23,
    "_isFastLaunch": false,
    "category": "Compute optimized",
    "gpuNum": 0,
    "hideHardwareSpecs": false,
    "memoryGiB": 16,
    "name": "ml.c5.2xlarge",
    "vcpuNum": 8
   },
   {
    "_defaultOrder": 24,
    "_isFastLaunch": false,
    "category": "Compute optimized",
    "gpuNum": 0,
    "hideHardwareSpecs": false,
    "memoryGiB": 32,
    "name": "ml.c5.4xlarge",
    "vcpuNum": 16
   },
   {
    "_defaultOrder": 25,
    "_isFastLaunch": false,
    "category": "Compute optimized",
    "gpuNum": 0,
    "hideHardwareSpecs": false,
    "memoryGiB": 72,
    "name": "ml.c5.9xlarge",
    "vcpuNum": 36
   },
   {
    "_defaultOrder": 26,
    "_isFastLaunch": false,
    "category": "Compute optimized",
    "gpuNum": 0,
    "hideHardwareSpecs": false,
    "memoryGiB": 96,
    "name": "ml.c5.12xlarge",
    "vcpuNum": 48
   },
   {
    "_defaultOrder": 27,
    "_isFastLaunch": false,
    "category": "Compute optimized",
    "gpuNum": 0,
    "hideHardwareSpecs": false,
    "memoryGiB": 144,
    "name": "ml.c5.18xlarge",
    "vcpuNum": 72
   },
   {
    "_defaultOrder": 28,
    "_isFastLaunch": false,
    "category": "Compute optimized",
    "gpuNum": 0,
    "hideHardwareSpecs": false,
    "memoryGiB": 192,
    "name": "ml.c5.24xlarge",
    "vcpuNum": 96
   },
   {
    "_defaultOrder": 29,
    "_isFastLaunch": true,
    "category": "Accelerated computing",
    "gpuNum": 1,
    "hideHardwareSpecs": false,
    "memoryGiB": 16,
    "name": "ml.g4dn.xlarge",
    "vcpuNum": 4
   },
   {
    "_defaultOrder": 30,
    "_isFastLaunch": false,
    "category": "Accelerated computing",
    "gpuNum": 1,
    "hideHardwareSpecs": false,
    "memoryGiB": 32,
    "name": "ml.g4dn.2xlarge",
    "vcpuNum": 8
   },
   {
    "_defaultOrder": 31,
    "_isFastLaunch": false,
    "category": "Accelerated computing",
    "gpuNum": 1,
    "hideHardwareSpecs": false,
    "memoryGiB": 64,
    "name": "ml.g4dn.4xlarge",
    "vcpuNum": 16
   },
   {
    "_defaultOrder": 32,
    "_isFastLaunch": false,
    "category": "Accelerated computing",
    "gpuNum": 1,
    "hideHardwareSpecs": false,
    "memoryGiB": 128,
    "name": "ml.g4dn.8xlarge",
    "vcpuNum": 32
   },
   {
    "_defaultOrder": 33,
    "_isFastLaunch": false,
    "category": "Accelerated computing",
    "gpuNum": 4,
    "hideHardwareSpecs": false,
    "memoryGiB": 192,
    "name": "ml.g4dn.12xlarge",
    "vcpuNum": 48
   },
   {
    "_defaultOrder": 34,
    "_isFastLaunch": false,
    "category": "Accelerated computing",
    "gpuNum": 1,
    "hideHardwareSpecs": false,
    "memoryGiB": 256,
    "name": "ml.g4dn.16xlarge",
    "vcpuNum": 64
   },
   {
    "_defaultOrder": 35,
    "_isFastLaunch": false,
    "category": "Accelerated computing",
    "gpuNum": 1,
    "hideHardwareSpecs": false,
    "memoryGiB": 61,
    "name": "ml.p3.2xlarge",
    "vcpuNum": 8
   },
   {
    "_defaultOrder": 36,
    "_isFastLaunch": false,
    "category": "Accelerated computing",
    "gpuNum": 4,
    "hideHardwareSpecs": false,
    "memoryGiB": 244,
    "name": "ml.p3.8xlarge",
    "vcpuNum": 32
   },
   {
    "_defaultOrder": 37,
    "_isFastLaunch": false,
    "category": "Accelerated computing",
    "gpuNum": 8,
    "hideHardwareSpecs": false,
    "memoryGiB": 488,
    "name": "ml.p3.16xlarge",
    "vcpuNum": 64
   },
   {
    "_defaultOrder": 38,
    "_isFastLaunch": false,
    "category": "Accelerated computing",
    "gpuNum": 8,
    "hideHardwareSpecs": false,
    "memoryGiB": 768,
    "name": "ml.p3dn.24xlarge",
    "vcpuNum": 96
   },
   {
    "_defaultOrder": 39,
    "_isFastLaunch": false,
    "category": "Memory Optimized",
    "gpuNum": 0,
    "hideHardwareSpecs": false,
    "memoryGiB": 16,
    "name": "ml.r5.large",
    "vcpuNum": 2
   },
   {
    "_defaultOrder": 40,
    "_isFastLaunch": false,
    "category": "Memory Optimized",
    "gpuNum": 0,
    "hideHardwareSpecs": false,
    "memoryGiB": 32,
    "name": "ml.r5.xlarge",
    "vcpuNum": 4
   },
   {
    "_defaultOrder": 41,
    "_isFastLaunch": false,
    "category": "Memory Optimized",
    "gpuNum": 0,
    "hideHardwareSpecs": false,
    "memoryGiB": 64,
    "name": "ml.r5.2xlarge",
    "vcpuNum": 8
   },
   {
    "_defaultOrder": 42,
    "_isFastLaunch": false,
    "category": "Memory Optimized",
    "gpuNum": 0,
    "hideHardwareSpecs": false,
    "memoryGiB": 128,
    "name": "ml.r5.4xlarge",
    "vcpuNum": 16
   },
   {
    "_defaultOrder": 43,
    "_isFastLaunch": false,
    "category": "Memory Optimized",
    "gpuNum": 0,
    "hideHardwareSpecs": false,
    "memoryGiB": 256,
    "name": "ml.r5.8xlarge",
    "vcpuNum": 32
   },
   {
    "_defaultOrder": 44,
    "_isFastLaunch": false,
    "category": "Memory Optimized",
    "gpuNum": 0,
    "hideHardwareSpecs": false,
    "memoryGiB": 384,
    "name": "ml.r5.12xlarge",
    "vcpuNum": 48
   },
   {
    "_defaultOrder": 45,
    "_isFastLaunch": false,
    "category": "Memory Optimized",
    "gpuNum": 0,
    "hideHardwareSpecs": false,
    "memoryGiB": 512,
    "name": "ml.r5.16xlarge",
    "vcpuNum": 64
   },
   {
    "_defaultOrder": 46,
    "_isFastLaunch": false,
    "category": "Memory Optimized",
    "gpuNum": 0,
    "hideHardwareSpecs": false,
    "memoryGiB": 768,
    "name": "ml.r5.24xlarge",
    "vcpuNum": 96
   },
   {
    "_defaultOrder": 47,
    "_isFastLaunch": false,
    "category": "Accelerated computing",
    "gpuNum": 1,
    "hideHardwareSpecs": false,
    "memoryGiB": 16,
    "name": "ml.g5.xlarge",
    "vcpuNum": 4
   },
   {
    "_defaultOrder": 48,
    "_isFastLaunch": false,
    "category": "Accelerated computing",
    "gpuNum": 1,
    "hideHardwareSpecs": false,
    "memoryGiB": 32,
    "name": "ml.g5.2xlarge",
    "vcpuNum": 8
   },
   {
    "_defaultOrder": 49,
    "_isFastLaunch": false,
    "category": "Accelerated computing",
    "gpuNum": 1,
    "hideHardwareSpecs": false,
    "memoryGiB": 64,
    "name": "ml.g5.4xlarge",
    "vcpuNum": 16
   },
   {
    "_defaultOrder": 50,
    "_isFastLaunch": false,
    "category": "Accelerated computing",
    "gpuNum": 1,
    "hideHardwareSpecs": false,
    "memoryGiB": 128,
    "name": "ml.g5.8xlarge",
    "vcpuNum": 32
   },
   {
    "_defaultOrder": 51,
    "_isFastLaunch": false,
    "category": "Accelerated computing",
    "gpuNum": 1,
    "hideHardwareSpecs": false,
    "memoryGiB": 256,
    "name": "ml.g5.16xlarge",
    "vcpuNum": 64
   },
   {
    "_defaultOrder": 52,
    "_isFastLaunch": false,
    "category": "Accelerated computing",
    "gpuNum": 4,
    "hideHardwareSpecs": false,
    "memoryGiB": 192,
    "name": "ml.g5.12xlarge",
    "vcpuNum": 48
   },
   {
    "_defaultOrder": 53,
    "_isFastLaunch": false,
    "category": "Accelerated computing",
    "gpuNum": 4,
    "hideHardwareSpecs": false,
    "memoryGiB": 384,
    "name": "ml.g5.24xlarge",
    "vcpuNum": 96
   },
   {
    "_defaultOrder": 54,
    "_isFastLaunch": false,
    "category": "Accelerated computing",
    "gpuNum": 8,
    "hideHardwareSpecs": false,
    "memoryGiB": 768,
    "name": "ml.g5.48xlarge",
    "vcpuNum": 192
   },
   {
    "_defaultOrder": 55,
    "_isFastLaunch": false,
    "category": "Accelerated computing",
    "gpuNum": 8,
    "hideHardwareSpecs": false,
    "memoryGiB": 1152,
    "name": "ml.p4d.24xlarge",
    "vcpuNum": 96
   },
   {
    "_defaultOrder": 56,
    "_isFastLaunch": false,
    "category": "Accelerated computing",
    "gpuNum": 8,
    "hideHardwareSpecs": false,
    "memoryGiB": 1152,
    "name": "ml.p4de.24xlarge",
    "vcpuNum": 96
   }
  ],
  "instance_type": "ml.m5.2xlarge",
  "kernelspec": {
   "display_name": "Python 3 (Data Science 3.0)",
   "language": "python",
   "name": "python3__SAGEMAKER_INTERNAL__arn:aws:sagemaker:us-east-1:081325390199:image/sagemaker-data-science-310-v1"
  },
  "language_info": {
   "codemirror_mode": {
    "name": "ipython",
    "version": 3
   },
   "file_extension": ".py",
   "mimetype": "text/x-python",
   "name": "python",
   "nbconvert_exporter": "python",
   "pygments_lexer": "ipython3",
   "version": "3.10.6"
  }
 },
 "nbformat": 4,
 "nbformat_minor": 5
}
