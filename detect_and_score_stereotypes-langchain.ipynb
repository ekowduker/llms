{
 "cells": [
  {
   "cell_type": "markdown",
   "id": "36d7c562",
   "metadata": {},
   "source": []
  },
  {
   "cell_type": "markdown",
   "id": "741edf53",
   "metadata": {},
   "source": [
    "### Stereotype Detection and Scoring\n",
    "This note book employs a large language model to detect and score instances of stereotypes in writing. The context and guidelines around stereotypes are provided by Africa No Filter (ANF)."
   ]
  },
  {
   "cell_type": "code",
   "execution_count": 1,
   "id": "e1c10e57",
   "metadata": {},
   "outputs": [
    {
     "name": "stdout",
     "output_type": "stream",
     "text": [
      "Python 3.9.18\r\n"
     ]
    }
   ],
   "source": [
    "!python --version\n",
    "# This notebook runs on python version 3.9.18"
   ]
  },
  {
   "cell_type": "markdown",
   "id": "2d68a8a1",
   "metadata": {},
   "source": [
    "#### Setup\n",
    "We load a user writing sample and define a very simple RAG query engine that we’ll use to evaluate using top-k retrieval. First set up the enviironment."
   ]
  },
  {
   "cell_type": "code",
   "execution_count": 2,
   "id": "5a673e30",
   "metadata": {},
   "outputs": [],
   "source": [
    "import os\n",
    "import openai\n",
    "import sys\n",
    "sys.path.append('../..')\n",
    "\n",
    "from dotenv import load_dotenv, find_dotenv\n",
    "_ = load_dotenv(find_dotenv()) # read local .env file\n",
    "\n",
    "openai.api_key  = os.environ['OPENAI_API_KEY']"
   ]
  },
  {
   "cell_type": "markdown",
   "id": "1c9a804f",
   "metadata": {},
   "source": [
    "##### Load the required packages  \n",
    "Note: Chroma is a lightweight, in memory vector store.\n",
    "Some other vector stores are hosted in the cloud and are used to persist large stores of data"
   ]
  },
  {
   "cell_type": "code",
   "execution_count": 3,
   "id": "cc89b90e",
   "metadata": {},
   "outputs": [],
   "source": [
    "#!pip install chromadb\n",
    "from langchain.document_loaders import PyPDFLoader #not compatible with python3.8\n",
    "from langchain.text_splitter import RecursiveCharacterTextSplitter\n",
    "from langchain.embeddings.openai import OpenAIEmbeddings\n",
    "from langchain.vectorstores import Chroma \n",
    "from langchain.chains import RetrievalQA\n",
    "from langchain.prompts import PromptTemplate\n",
    "from langchain.chat_models import ChatOpenAI"
   ]
  },
  {
   "cell_type": "code",
   "execution_count": 4,
   "id": "6fc4f9c2",
   "metadata": {},
   "outputs": [
    {
     "name": "stdout",
     "output_type": "stream",
     "text": [
      "gpt-4-1106-preview\n"
     ]
    }
   ],
   "source": [
    "# Use the most appropriate language model from OpenAI\n",
    "#llm_name = \"gpt-3.5-turbo\"\n",
    "llm_name = \"gpt-4-1106-preview\"\n",
    "print(llm_name)"
   ]
  },
  {
   "cell_type": "markdown",
   "id": "b8787951",
   "metadata": {},
   "source": [
    "#### Load the user document"
   ]
  },
  {
   "cell_type": "code",
   "execution_count": 5,
   "id": "5b397125",
   "metadata": {},
   "outputs": [],
   "source": [
    "# Load the PDF\n",
    "loaders = [\n",
    "    PyPDFLoader(\"data/Africans are somewhat.pdf\")\n",
    "]\n",
    "docs = []\n",
    "for loader in loaders:\n",
    "    docs.extend(loader.load())"
   ]
  },
  {
   "cell_type": "markdown",
   "id": "164e8b45",
   "metadata": {},
   "source": [
    "##### Split the document "
   ]
  },
  {
   "cell_type": "code",
   "execution_count": 6,
   "id": "5dbf3576",
   "metadata": {},
   "outputs": [
    {
     "data": {
      "text/plain": [
       "1"
      ]
     },
     "execution_count": 6,
     "metadata": {},
     "output_type": "execute_result"
    }
   ],
   "source": [
    "# Split the documents\n",
    "text_splitter = RecursiveCharacterTextSplitter(\n",
    "    chunk_size = 1500,\n",
    "    chunk_overlap = 150\n",
    ")\n",
    "\n",
    "splits = text_splitter.split_documents(docs)\n",
    "len(splits)"
   ]
  },
  {
   "cell_type": "markdown",
   "id": "4d394345",
   "metadata": {},
   "source": [
    "##### Define the type of embeddings we'll be using"
   ]
  },
  {
   "cell_type": "code",
   "execution_count": 7,
   "id": "33b18c8f",
   "metadata": {},
   "outputs": [],
   "source": [
    "embedding = OpenAIEmbeddings()"
   ]
  },
  {
   "cell_type": "markdown",
   "id": "807f5ea2",
   "metadata": {},
   "source": [
    "##### Set up the vector database"
   ]
  },
  {
   "cell_type": "code",
   "execution_count": 8,
   "id": "48b7ca57",
   "metadata": {},
   "outputs": [
    {
     "name": "stdout",
     "output_type": "stream",
     "text": [
      "1\n"
     ]
    }
   ],
   "source": [
    "persist_directory = 'data/chroma/'\n",
    "# Tidy up: Forcefully and recursively delete the ./data/chroma directory and all its contents \n",
    "# without asking for confirmation. \n",
    "!rm -rf ./data/chroma  \n",
    "\n",
    "vectordb = Chroma.from_documents(\n",
    "    documents=splits,\n",
    "    embedding=embedding,\n",
    "    persist_directory=persist_directory\n",
    ")\n",
    "\n",
    "print(vectordb._collection.count())"
   ]
  },
  {
   "cell_type": "markdown",
   "id": "c494ebd5",
   "metadata": {},
   "source": [
    "##### Set up the language model"
   ]
  },
  {
   "cell_type": "code",
   "execution_count": 9,
   "id": "81254964",
   "metadata": {},
   "outputs": [],
   "source": [
    "llm = ChatOpenAI(model_name=llm_name, temperature=0) #we want factual answers"
   ]
  },
  {
   "cell_type": "markdown",
   "id": "e4c27b77",
   "metadata": {},
   "source": [
    "#### Bring in the ANF-provided examples and explanations around stereotypes as contect for the LLM"
   ]
  },
  {
   "cell_type": "markdown",
   "id": "7b46b979",
   "metadata": {},
   "source": [
    "The urls for the reference examples are as follows:  \n",
    "  \n",
    "[Bias Example 1 - UNICEF](https://www.unicef.org/southafrica/stories/giving-back-community-humanitarian-response)  \n",
    "[Bias Example 2 - World Food Program](https://twitter.com/WFPChief/status/1358510664822759436)  \n",
    "[Bias Example 3 - ActionAid Zambia](https://actionaid.org/news/2021/actionaid-zambia-mining-companies-must-not-be-allowed-pollute-impunity)  \n",
    "  \n",
    "[Ethical Example 1 - CARE](https://www.care.org/news-and-stories/health/how-community-activists-in-kenya-are-working-together-to-end-female-genital-cutting/)  \n",
    "[Ethical Example 2 - AFDB](https://www.afdb.org/en/news-and-events/press-releases/chad-african-development-bank-grants-1126-million-women-and-girls-education-40195)  \n",
    "[Ethical Example 3 - Open Society Foundation](https://www.opensocietyfoundations.org/what-we-do/regions/africa/)  \n",
    "\n",
    "\n",
    "**Notes**  \n",
    "a - The explanation of each example, good and bad, is taken from the ANF document, \"How to tell an Africqn story\".  \n",
    "b - The transcript of the WFP twitter video is obtained using Twitter Video Downloader (to download the video), Audacity (to extract the audio), and Descript (to transcribe the audio).   \n",
    "c - The link to Ethical Example 3 appears to have changed. Therefore this example is not used."
   ]
  },
  {
   "cell_type": "markdown",
   "id": "1b877330",
   "metadata": {},
   "source": [
    "##### Examples illustrating bias"
   ]
  },
  {
   "cell_type": "code",
   "execution_count": 10,
   "id": "083ae019",
   "metadata": {},
   "outputs": [],
   "source": [
    "bias_example_1 = \"\"\"\n",
    "Giving back to the community - a humanitarian response\\\n",
    "Humanitarian heroes take up the call to improve the welfare of others. \\\n",
    "Giving back to the community is their mandate, working to bring about sustainable social reform.\\\n",
    "\n",
    "The world around us harbours much disparity, inequality and poverty, which calls for a response.\\\n",
    "Humanitarian organizations are involved in the background and on the frontlines, concerned with \\\n",
    "improving the welfare of others and taking up the call to help alleviate suffering. \\\n",
    "Giving back to the community is their mandate - actively working to bring about change and \\\n",
    "social reform. That is a big ask!\\\n",
    "\n",
    "When it comes to giving back to the community, the integrity of a humanitarian organization’s \\\n",
    "mission is at stake. The litmus test for humanitarian authenticity is simple:  \\\n",
    "there is no place for prejudice on grounds of race, gender, sexual orientation, religious, \\\n",
    "national or ethnic divisions. The goal is to save lives, promote the wellbeing of those less \\\n",
    "fortunate, relieve suffering, and maintain human dignity. \\\n",
    "This is a huge but necessary task!\\\n",
    "\n",
    "A personal humanitarian call\\\n",
    "Giving back to the community, however, begins with individual heroes. Empathy, \\\n",
    "compassion and concern for others are part of our humanity. \\\n",
    "Mandela Day offers each one of us, as South Africans, a timeous opportunity to heed \\\n",
    "Madiba’s call, ‘Our society needs to re-establish a culture of caring,’ which starts with each \\\n",
    "beating heart - no matter age, gender or ethnicity.\\\n",
    "\n",
    "Caring is what makes us human, and caring for others is what enables us to change the world.\\\n",
    "This is not idealism, it is simply seeing the need of a fellow human being, and being \\\n",
    "prepared to help and make a meaningful difference.\\\n",
    "\n",
    "Each one of us has the power and opportunity to positively impact the life of another. \\\n",
    "It could be a one-off donation, a monthly pledge donation, volunteering our time, or \\\n",
    "offering resources or services. That is what giving back to the community looks like - it’s \\\n",
    "all about an ‘I can help’ mindset and attitude. \\\n",
    "\n",
    "An organization’s humanitarian response\\\n",
    "Formal charity organizations and established NPOs all contribute in giving back to the \\\n",
    "community in ways that you and I, as individuals, do not have capacity or means to do. \\\n",
    "Large humanitarian organizations have the infrastructure, partnerships and resources \\\n",
    "to not only offer relatively large-scale relief solutions but include a philanthropic vision \\\n",
    "towards sustainable solutions and working to improving social problems in the long term.\\\n",
    "\n",
    "In a country like South Africa, immediate areas of focus generally include hygiene and \\\n",
    "sanitation, health and nutrition, education, and protection of people’s rights. \\\n",
    "Offering relief and positive change in these basic areas involve ongoing financial donor \\\n",
    "support, advocacy and resources.\\\n",
    "\n",
    "That is what humanitarian organizations are equipped to do. \\\n",
    "By partnering with individuals, giving back to the community becomes a meaningful exercise. \\\n",
    "Charity and humanitarian organizations also play a huge role in being ready to step in and \\\n",
    "provide shorter-term disaster/emergency relief and crisis care situations including natural \\\n",
    "disasters and pandemics.\\ \n",
    "\n",
    "UNICEF South Africa’s humanitarian mission\\\n",
    "UNICEF South Africa is a humanitarian organization that focuses on improving children’s \\\n",
    "lives and the communities in which they live through advocacy, social initiatives and \\\n",
    "emergency relief programmes. Protecting the rights of every child, and helping to \\\n",
    "reimagine a better future for each child, is what makes UNICEF South Africa a \\\n",
    "humanitarian hero. \n",
    "\"\"\"\n",
    "\n"
   ]
  },
  {
   "cell_type": "code",
   "execution_count": 11,
   "id": "de92d335",
   "metadata": {},
   "outputs": [],
   "source": [
    "explanation_bias_example_1 = \"\"\"\n",
    "UNICEF asks for donations because it is 'heroic'.\\\n",
    "In a blog post subtitled 'Humanitarian heroes take up the call to improve the welfare of \\\n",
    "others',UNICEF depicts humanitarian organisations and people who donate to charities\\\n",
    "as 'heroes'. This downplays the role of local heroes who bring about change in their own\\\n",
    "communities and ignores local people’s own agency.\\\n",
    "\n",
    "It argues that, without the intervention of humanitarian organisations, action is unfeasible:\\\n",
    "Formal charity organisations and established NPOs all contribute in giving back to the \\\n",
    "community in ways that you and I, as individuals, do not have capacity or means to do.\\\n",
    "The purpose of the blog post is to raise funds for UNICEF, so it blows the UNICEF trumpet. \\\n",
    "Even though it mentions 'partnering with individuals', the only other people depicted in the \\\n",
    "post are in stock images of happy, black, voiceless children.\\\n",
    "\n",
    "On the one hand, the article emphasises a common humanity by saying, \\\n",
    "'Caring is what makes us human'; on the other hand it argues that those who 'care' are \\\n",
    "somehow uniquely heroic when they undertake acts of charity. \\\n",
    "\n",
    "Thus, the givers are depicted as heroic but not the people in need, acting for themselves.\\\n",
    "Furthermore, the article uses sweeping examples to explain and illustrate the problems of \\\n",
    "South Africans. Unique problems become diluted into generalised 'African' problems, \\\n",
    "like 'hygiene and sanitation, health and nutrition, education, and protection of people’s \\\n",
    "rights'. The meanings underpinning the story signal that Africans are unclean, hungry, \\\n",
    "uneducated, and unable to act to protect their own rights. \\\n",
    "\n",
    "The article thus focuses on the communities’ supposed deficits, rather than the assets \\\n",
    "they can use to change their circumstances.\n",
    "\"\"\""
   ]
  },
  {
   "cell_type": "code",
   "execution_count": 12,
   "id": "0e44db6b",
   "metadata": {},
   "outputs": [],
   "source": [
    "bias_example_2 = \"\"\"\n",
    "Here I am in Mek'ele in a warehouse, a government warehouse in the world food program. \\\n",
    "We're bringing in about 20, 000 metric tons of food that will support about 1. 3 million \\\n",
    "people and the millions of people in need here in the Tigray region because of the conflict. \\\n",
    "And we're trying to address and help every single person get the food they need in this very \\\n",
    "difficult time.\\\n",
    "You can see they're unloading the trucks as we speak because people are hungry and we're moving \\\n",
    "the supplies out there. We're bringing the trucks in, doing what's necessary. As you stand here \\\n",
    "in this warehouse, you can see, uh, they're stacking it up and we'll redistribute this food, \\\n",
    "this wheat out into distribution points all throughout the Tigray region.\\\n",
    "And so we're looking forward to scaling up. We'll be, we're looking forward to supporting \\\n",
    "an additional million people. The government will be supporting about two and a half million \\\n",
    "people working with the NGOs. We're going to make certain that every single person in this \\\n",
    "region, in the Tigray, are going to get the food they need to be healthy.\n",
    "\"\"\""
   ]
  },
  {
   "cell_type": "code",
   "execution_count": 13,
   "id": "01989af9",
   "metadata": {},
   "outputs": [],
   "source": [
    "explanation_bias_example_2 = \"\"\"\n",
    "World Food Programme distributing food\\\n",
    "On 7 February 2021, the World Food Programme (WFP) chief, David Beasley, appeared in\\\n",
    "a tweeted video, explaining what WFP is doing about food shortages in Tigray, Ethiopia. \\\n",
    "Throughout the video the camera focuses exclusively on the “white saviour” who has come to \\\n",
    "deliver food. Despite being presented as an authority on the food shortage, he does not explain \\\n",
    "why people in Tigray need food aid, nor the source of the conflict. \\\n",
    "\n",
    "The aim of the video is not to explain what is happening in Tigray, but merely to promote \\\n",
    "WFP’s work. The Ethiopians depicted in the video are in the background: we do not see their \\\n",
    "faces, and they do not speak; they are just manual labour, moving white bags of food aid around.\\ \\\n",
    "Although the WFP chief briefly mentions that organisations on the ground are delivering food, \\\n",
    "he does not highlight who these organisations are, how they will reach the neediest people \\\n",
    "and where the people of Tigray can access food.\n",
    "\"\"\""
   ]
  },
  {
   "cell_type": "code",
   "execution_count": 14,
   "id": "40af441a",
   "metadata": {},
   "outputs": [],
   "source": [
    "bias_example_3 = \"\"\"\n",
    "Konkola Copper Mines – a subsidiary of the UK-based mining giant Vedanta – has been polluting \\\n",
    "the main water source of surrounding villages in Chingola, in Zambia’s Copperbelt Province, \\\n",
    "and leaving a trail of human rights and environmental abuses for nearly two decades. \\ \n",
    "\n",
    "A legal action, brought by more than 2,500 Zambian villagers, including 643 children, against \\\n",
    "Konkola Copper Mines Plc and Vedanta Resources Limited, has settled out of court, it was \\\n",
    "announced today (19 January) in a joint statement from the mining companies and Leigh Day, \\\n",
    "the English law firm representing the claimants.  \\\n",
    "\n",
    "ActionAid Zambia works closely with communities in the Chingola area through its partner, \\\n",
    "the Catholic Diocese of Ndola. This work provides a platform and resources to support \\\n",
    "villagers to claim their rights and advocate for regulation of corporate conduct through \\\n",
    "progressive policies and legislation.  \\\n",
    "\n",
    "Mining companies often avoid paying corporation tax in Zambia and are not being held \\\n",
    "accountable to national environmental laws. \\ \n",
    "\n",
    "Responding to the settlement announcement, Nalucha Nganga Ziba, Country Director of ActionAid \\\n",
    "Zambia, says: 'Communities in Chingola have been fighting for justice and compensation for the \\\n",
    "human rights abuses and environmental destruction they have suffered for over a decade.  This \\\n",
    "case highlights the devastating and deadly impact that polluters like KCM and Vedanta are \\\n",
    "having on surrounding villages in the Copperbelt. \\ \n",
    "\n",
    "Extractive companies must be taxed on their profits, to provide public services to benefit \\\n",
    "communities, and be made to adhere to environmental standards. There must be no bailouts or \\\n",
    "public investments in mining companies, which continue to pollute and contribute to climate \\\n",
    "change. They must no longer be allowed to act with impunity.'  \n",
    "\n",
    "‘Our children are dying’ – extracts from interviews with community activists and claimants \\\n",
    "Esther and Brenda:  \n",
    "\n",
    "Esther Nalumbulu is from Shimulala where the community’s main water source has been polluted \\\n",
    "for more than a decade by toxic run-off from the Konkola Copper Mine (KCM). She says this is \\\n",
    "causing adults to suffer from upset stomachs and skin irritations. But for young children and \\\n",
    "babies it is proving deadly.  \\\n",
    "\n",
    "'We are always ill,' she says. 'Many children have died. Initially when we noticed a high rise \\\n",
    "in the deaths of children in the community, we didn’t realise that it was the water killing \\\n",
    "the children. Unfortunately, the problem has become worse even to this day.' \\  \n",
    "\n",
    "Esther, a community activist who has received rights training from ActionAid Zambia, says \\\n",
    "mothers are advised to keep feeding their babies breast milk for as long as possible and to \\\n",
    "not give them the local water until they’re at least six months old.\\  \n",
    "\n",
    "If babies do drink the water, Esther says: 'The child’s physical health immediately starts to \\\n",
    "change, and you would even find that the child [could] die.'\\   \n",
    "\n",
    "The copper mine in Nchanga has been contaminating the local water supply and polluting \\\n",
    "farmland since 2004. Esther has letters dating from 2011, from a doctor hired by the mine \\\n",
    "itself, explaining that the water is not safe for human consumption and that the community \\\n",
    "is advised not to drink from the stream.\\  \n",
    "\n",
    "Pollution from the mine has contaminated the local water table. Toxins are killing off crops, \\\n",
    "livestock and the vegetation surrounding the river, destroying the livelihoods of local people \\\n",
    "who depended on farming and fishing to support their families.  \\\n",
    "\n",
    "Women and children are most affected as they are forced to walk long distances making 10km \\\n",
    "round trips in search of clean water. The older and disabled people unable to walk so far, \\\n",
    "get sick from drinking the polluted water. Many people are affected by skin conditions due \\\n",
    "to bathing in the river.\\\n",
    "\n",
    "'Women suffer most because they have to fetch water from the streams in the bush,' Esther, \\\n",
    "explaining they have to walk at least 5-6km to find clean water.\\\n",
    "\n",
    "Community activist Brenda Siachipula, 39, is also from Shimulala and has received training on \\\n",
    "rights from ActionAid Zambia. She uses social media and appears on local radio stations to \\\n",
    "raise awareness of the pollution and the impacts it’s having on the community’s health and \\\n",
    "livelihoods.\\\n",
    "\n",
    "'If you go to the mine right now, you will find that they are still releasing the chemical \\\n",
    "slurry into the stream,' she says. 'And when you pass by the steam, the fumes are suffocatingly \\\n",
    "strong and that is an indication that the mine is operating.'  \n",
    "\n",
    "She says life is a struggle for her community. The pollution has affected the fertility of \\\n",
    "the soil and is killing livestock.\\  \n",
    "\n",
    "'The water the cattle are drinking is killing them, just as it is killing the people,' Brenda \\\n",
    "says. 'When the cows give birth, the calf will die shortly afterwards. Even though the land is \\\n",
    "no longer fertile, we try our best to grow as much as we can, so we can sustain our lives \\\n",
    "and our family’s.'\\ \n",
    "\n",
    "Brenda says families are struggling to pay school fees for their children: 'This pollution has \\\n",
    "destroyed so many things. There is no point where we can say we are ok. Things are getting \\\n",
    "worse. We are also failing to educate our children.'\\  \n",
    "\n",
    "She adds: 'In my lifetime I want to see that the community is compensated.' \n",
    "\"\"\""
   ]
  },
  {
   "cell_type": "code",
   "execution_count": 15,
   "id": "535fb8e5",
   "metadata": {},
   "outputs": [],
   "source": [
    "explanation_bias_example_3 = \"\"\"\n",
    "ActionAid describes community action, but relies on pity\\\n",
    "\n",
    "In a story on 19 January 2021, ActionAid described court action undertaken by a Zambian \\\n",
    "community to address problems resulting from mining activity in their area. \\\n",
    "\n",
    "The article initially starts off well, describing the community’s solidarity and agency:\\\n",
    "Communities in Chingola have been fighting for justice and compensation...\\\n",
    "However, midway through the article, ActionAid implies that the community could not have \\\n",
    "fought without having 'received rights training from ActionAid'. It thereby positions local \\\n",
    "activists as learners who receive education from outside rather than equal partners who \\\n",
    "share knowledge.\\\n",
    "\n",
    "The second part of the article also quotes female activists who speak about their woes, \\\n",
    "rather than their strengths and activities. While the specific problems do need to be \\\n",
    "identified, this focus on deficits leaves the audience with feelings of pity for the \\\n",
    "women and their plight, instead of admiration for the women’s actions. \\\n",
    "Action Aid could have inspired the audience to support these empowered women by showing their \\\n",
    "assets – strong organising and problem-solving skills.\n",
    "\"\"\""
   ]
  },
  {
   "cell_type": "markdown",
   "id": "0e14f231",
   "metadata": {},
   "source": [
    "##### Examples illustrating ethical writing"
   ]
  },
  {
   "cell_type": "code",
   "execution_count": 16,
   "id": "796151f7",
   "metadata": {},
   "outputs": [],
   "source": [
    "ethical_example_1 =\"\"\"\n",
    "How Community Activists in Kenya are Working Together to End Female Genital Cutting\\\n",
    "Kenya banned FGM in 2011, but the practice continues. Due to poor enforcement of the law, \\\n",
    "community activists have made it their mission to save girls from this harmful tradition.\\\n",
    "Shinina Shani can’t remember the last time she turned her cell phone off.\\\n",
    "'Everyone has my number, and when I miss a call from a number I don’t recognize, I have to call \\\n",
    "them back,'' she says. There are literally lives on the line.\\\n",
    "\n",
    "Shinina, 45, has spent the last 20 years as an activist against female genital mutilation or \\\n",
    "cutting (FGM/C). She shares her number with girls in her hometown of Narok, Kenya, who seek \\\n",
    "support as they attempt to avoid “being cut.” She receives about 20 calls a week.\\\n",
    "\n",
    "FGM, sometimes known as female circumcision, is the cultural practice of cutting some or all \\\n",
    "parts of the external female genitalia. In some communities, it’s seen as a rite of passage \\\n",
    "that signifies womanhood and is sometimes followed shortly by marriage. Kenya banned FGM in \\\n",
    "2011, but the practice continues, and its prevalence ranges from 1 percent to 98 percent, \\\n",
    "depending on region and ethnic community. According to the national bureau of statistics, \\\n",
    "FGM is practiced at a rate of 78 percent among the Maasai, the ethnic community that is the \\\n",
    "majority of the population in Narok. Due to poor enforcement of the law, Kenyans like Shinina \\\n",
    "have made it their mission to save girls from this harmful tradition.\\\n",
    "\n",
    "Growing up, Shinina witnessed FGM’s devastating impacts in her community.\\\n",
    "'I’ve seen the complications from delivering children. I’ve seen women not get out of bed for \\\n",
    "three months. I’ve seen them bleed and die,” she says.\n",
    "This has fueled her activism, which keeps her busiest at the end of the year.\n",
    "'I don’t rest from November. December is our worst month.'\n",
    "\n",
    "Since schools in Kenya close for the two-month holiday, FGM spikes as parents believe girls \\\n",
    "will have time to recover from the procedure. In the weeks that follow, girls may experience \\\n",
    "excessive bleeding, severe pain, and infections, and in the long-term, they can face problems \\\n",
    "with urination and menstruation, complications during childbirth, and psychological trauma. \\\n",
    "One WHO study that examined the mental health of women who underwent female genital mutilation \\\n",
    "showed that 30 percent of survivors had post-traumatic stress disorder and 80 percent had \\\n",
    "anxiety disorders.And so she leaves her phone on — for the girls who will inevitably call for \\\n",
    "help.\\\n",
    "\n",
    "Sometimes, the girls don’t call, but they show up.\\\n",
    "One day I just came home and found a child [outside my house], and then I made calls to \\\n",
    "alert authorities and get her to a rescue center,” she says. Another time, she found a girl \\\n",
    "hiding behind her car, too scared to go home.Shinina says that people in Narok used to hold \\\n",
    "lavish parties during the holidays to celebrate girls’ circumcisions. 'It used to be a big \\\n",
    "ceremony with a lot of music. People would witness [a girl being cut] and stand by her and \\\n",
    "give her presents.'\n",
    "\n",
    "She says some villages in Narok still publicly celebrate like this, but most of these \\\n",
    "ceremonies were driven underground when Kenya banned FGM.\\\n",
    "This has led girls like Faith to live in fear. When she was 12, Faith heard her parents \\\n",
    "discuss plans to circumcise her over the holidays. She knew it was dangerous from \\\n",
    "conversations with girls who’d undergone the procedure.\\\n",
    "\n",
    "'They said you’ll be bleeding for four days. They said it’s a wound and it won’t heal that \\\n",
    "fast, so I was scared,' Faith says.That December, she decided to run away. She confided in a \\\n",
    "teacher, who made the four-hour drive to drop her off at House of Hope Rescue Centre, one of \\\n",
    "four centres in Narok that takes in girls escaping FGM or early child marriage.\\\n",
    "\n",
    "Patrick Ngigi, a 47-year-old pastor and former teacher started the center in 1997 when he was \\\n",
    "inundated with requests by girls who needed support.'They would come to my office to ask for \\\n",
    "help. I realized we needed a place we could keep them [safe].” The first three girls he helped \\\n",
    "hide from their families stayed at his mother’s house. But he was unable to keep up with the \\\n",
    "demand and decided to open a support center, which he runs independently.\\\n",
    "\n",
    "The House of Hope accepts girls throughout the year but is busiest during the holidays. \\\n",
    "When Shinina needs a safe place to house girls, even if it’s in the middle of the night, \\\n",
    "she reaches out to Patrick.\\\n",
    "\n",
    "'We make them feel at home as much as possible. We give them counselling and we ensure they \\\n",
    "continue attending school,' Patrick says. He finds donors who help cover the cost of enrolling \\\n",
    "the girls in boarding schools. During the holidays, they return to House of Hope. \\\n",
    "Patrick explains that if the girls attend day schools, their relatives may 'snatch them' while \\\n",
    "they’re on the way to school and make them undergo FGM.\\\n",
    "\n",
    "House of Hope is currently home to 67 girls, who sleep in bunk beds in dormitory rooms. \\\n",
    "All of them have found their way there voluntarily.\\\n",
    "\n",
    "'Every girl that comes to us is a girl who wants to be there by herself,'' Patrick says. \\\n",
    "'If we try [to bring them here], we will end up getting killed.'\\\n",
    "\n",
    "The center’s goal is to provide a safe space for girls and eventually reunite them with their \\\n",
    "parents. When a girl arrives at the center, Patrick begins a reconciliation process with the \\\n",
    "parents, which also involves elders, chiefs and children’s aid workers. \\\n",
    "The aim is to have parents sign-off on a document declaring they will not force their \\\n",
    "daughter to undergo FGM so that she can safely return home.\\\n",
    "\n",
    "Patrick is currently working to reconcile 26 girls with their parents, a process that can \\\n",
    "take anywhere from a few months to years.This was the case with Faith. After running away \\\n",
    "to the House of Hope, she began the reconciliation process with her parents but it wasn’t \\\n",
    "going well. For years, they told her that if she returned home, they would force her to undergo FGM, \\\n",
    "so she stayed put, completing her elementary school, high school and university studies with \\\n",
    "the support of the rescue center. After graduating from university at age 20, her parents were \\\n",
    "convinced of the dangers of FGM and finally signed off on the reconciliation paperwork.\\\n",
    "\n",
    "Although it took nearly a decade, Faith is certain that she has broken the cycle in her family. \\\n",
    "Her older sister underwent FGM, but her parents assure her that her younger sister won’t.\\\n",
    "Shinina says Faith’s story is one of many that demonstrates the impact of community activists. \\\n",
    "'We have many stories. We’ve rescued girls who were about to be married off, we’ve rescued girls \\\n",
    "who were about to go through FGM. Now they’re professionals, got degrees, or run their own \\\n",
    "families,'' she says. 'There’s a lot of success in it. It’s not advocacy in vain.'\n",
    "\"\"\""
   ]
  },
  {
   "cell_type": "code",
   "execution_count": 17,
   "id": "86b550f1",
   "metadata": {},
   "outputs": [],
   "source": [
    "explanation_ethical_example_1 = \"\"\"\n",
    "Care International highlighting African agency\n",
    "In a Care International blog, entitled “How community activists in Kenya are working together \\\n",
    "to end female genital cutting”, the author, Jacky Habib, puts at the centre of the story \\\n",
    "African voices and organisations involved in the work of ending female circumcision. \\\n",
    "\n",
    "The story focuses on one Kenyan woman activist, Shinina Shani, who has been working to stop \\\n",
    "genital cutting. However, Habib also brings in other role-players, naming individuals involved \\\n",
    "and one of the shelters where work is being done. She then emphasises resources and assets \\\n",
    "available in the communities where Shinina works.\\\n",
    "\n",
    "The article also explains that the scale of the problem is different in different parts of \\\n",
    "Kenya, so it does not treat the country as a homogenous whole. The story is nuanced and \\\n",
    "provides various statistics alongside powerful narratives about people who take action.\\\n",
    "Furthermore, Habib provides details about the multi-pronged approach that the African \\\n",
    "role-players have adopted, including providing shelter, counselling and access to education for \\\n",
    "girls and arranging meetings with parents, elders and chiefs.\\\n",
    "\n",
    "The story is ethical and effective because, while it does not shy away from the ongoing \\\n",
    "problem of genital cutting in Kenya, it also does not show Kenyans as hopeless and in need of \\\n",
    "white saviours.\n",
    "\"\"\""
   ]
  },
  {
   "cell_type": "code",
   "execution_count": 18,
   "id": "66b1bfe8",
   "metadata": {},
   "outputs": [],
   "source": [
    "ethical_example_2 = \"\"\"\n",
    "Chad: The African Development Bank grants $11.26 million for women and girls’ education\\\n",
    "The Board of Directors of the African Development Bank has approved a grant of $11.26 million \\\n",
    "to the Government of Chad to finance the Girls' Education and Women's Literacy Project– the \\\n",
    "first Bank grant exclusively targeting women and girls.\\\n",
    "\n",
    "The project will be financed from the Bank's Transition Support Facility and will be \\\n",
    "implemented over a five-year period by the Chadian Ministry of National Education and \\\n",
    "Civic Promotion, in coordination with partners involved in the education sector, civil society \\\n",
    "organisations, and youth organisations. The Chadian government will contribute a non-monetary \\\n",
    "contribution of $713,000 towards the program.\\\n",
    "\n",
    "'Through this financing, the African Development Bank is providing support to the Chadian \\\n",
    "government to reduce inequalities through access to education - especially for girls. \\\n",
    "This enables the development of job skills and the improvement of women's productivity \\\n",
    "potential through literacy, job training and the development of income-generating activities,' \\\n",
    "said Solomane Koné, the Bank’s Deputy Director for Central Africa.\\\n",
    "\n",
    "The Project aims to help improve access to quality secondary education in a safe and healthy \\\n",
    "school environment for 5,000 girls as well as train 2,200 teachers and administrative \\\n",
    "officials. It is also expected to provide literacy programs to more than 7,500 women in Chad’s \\\n",
    "Hadjer Lamis, Ouaddaï and N'Djaména regions, The Bank-funded project has a component to raise \\\n",
    "awareness among target-area residents about reducing incidence of gender-based violence, \\\n",
    "as well as on the importance of girls' schooling to reduce early marriage and pregnancy. \\\n",
    "In Chad, 67% of girls are married before the age of 18, and 30% of girls are married before \\\n",
    "the age of 15, according to non-governmental organization Girls Not Brides.\\\n",
    "\n",
    "The Girls' Education and Women's Literacy Project plans to renovate or rebuild school buildings \\\n",
    "and institutions, such as the Amriguébé school complex in N'Djamena that educates pre-primary, \\\n",
    "primary and high school children, and a new women's high school in Massakory, Hadjer Lamis \\\n",
    "region, which would receive educational, scientific and digital equipment. Project components \\\n",
    "have provisions to help supply both schools with safe drinking water, solar power, school \\\n",
    "clinics, build girl-friendly latrines, as well as establish computer and science laboratories.\n",
    "\n",
    "The Girls' Education and Women's Literacy Project is integrated into the Government of Chad’s \\\n",
    "Interim Education Plan which is working to upgrade the nation’s education system and strengthen \\\n",
    "human capital –education, health and well-being of children and youth today who will become \\\n",
    "Chad’s working population of tomorrow.\n",
    "\"\"\""
   ]
  },
  {
   "cell_type": "code",
   "execution_count": 19,
   "id": "5895825e",
   "metadata": {},
   "outputs": [],
   "source": [
    "explanation_ethical_example_2 = \"\"\"\n",
    "African Development Bank providing grants to Chad\\\n",
    "In a press release on 8 January 2021, the African Development Bank (AfDB) announced a new \\\n",
    "grant to Chad, which would be used to provide education and job skills to women and girls. \\\n",
    "Because AfDB provided the grant, the article reveals that African financial institutions \\\n",
    "support African countries; it is not just Western development agencies that can make a \\\n",
    "difference. The press release explains:\\\n",
    "\n",
    "The project will be financed from the Bank’s Transition Support Facility and will be \\\n",
    "implemented over a five-year period by the Chadian Ministry of National Education and \\\n",
    "Civic Promotion, in coordination with partners involved in the education sector, civil \\\n",
    "society organisations, and youth organisations. The Chadian government will contribute a \\\n",
    "non-monetary contribution of $713,000 towards the program.\\\n",
    "\n",
    "The press release therefore shows how the grant fits in with needs on the ground, in terms of \\\n",
    "the Chadian government’s own agenda; working with local schools to boost the integration of \\\n",
    "girls and facilities for them; and working with local civil society organisations and youth \\\n",
    "organisations to ensure programme delivery.\\\n",
    "\n",
    "The press release emphasises cooperation and collaboration, rather than conflict. \\\n",
    "This is markedly different from many communications by development organisations, which \\\n",
    "underscore conflict.\n",
    "\"\"\""
   ]
  },
  {
   "cell_type": "code",
   "execution_count": 20,
   "id": "f3cbfb3a",
   "metadata": {},
   "outputs": [],
   "source": [
    "explanation_ethical_example_3 = \"\"\"\n",
    "Kenyan innovator developing COVID-19 app\\\n",
    "On 4 February 2021, the Open Society Foundation for Eastern Africa shared an article about a \\\n",
    "Kenyan innovator, Brian Ndegwa, who had invented the Rona app to give Kenyans access to \\\n",
    "COVID-19 health information, up-to-date statistics by Kenyan county, a symptoms checklist for \\\n",
    "users to see if they might have COVID-19, and the possibility of ordering suitable medicine \\\n",
    "to relieve symptoms.\\\n",
    "\n",
    "Because the article highlights African innovation, it addresses negative narratives in a \\\n",
    "direct way. While the article asks for donations and support, it makes it clear that the funds \\\n",
    "should flow directly to the app developer and not go to a development agency.\\\n",
    "\n",
    "The article shows that Africans are deft at technological innovation and can handle necessary \\\n",
    "funds without relying solely on development organisations. It emphasises local solutions to \\\n",
    "local problems.\n",
    "\"\"\""
   ]
  },
  {
   "cell_type": "markdown",
   "id": "9736743f",
   "metadata": {},
   "source": [
    " ##### Combine the pieces of context"
   ]
  },
  {
   "cell_type": "code",
   "execution_count": 21,
   "id": "f63fa15a",
   "metadata": {},
   "outputs": [],
   "source": [
    "context = f\"\"\"\n",
    "## Examples of biased writing and their explanations\n",
    "{bias_example_1}\n",
    "{explanation_bias_example_1}\n",
    "{bias_example_2}\n",
    "{explanation_bias_example_2}\n",
    "{bias_example_3}\n",
    "{explanation_bias_example_3}\n",
    "\n",
    "## Examples of ethical writing and their explanations\n",
    "{ethical_example_1}\n",
    "{explanation_ethical_example_1}\n",
    "{ethical_example_2}\n",
    "{explanation_ethical_example_2}\n",
    "{explanation_ethical_example_3}\n",
    "\"\"\""
   ]
  },
  {
   "cell_type": "markdown",
   "id": "6ac933ad",
   "metadata": {},
   "source": [
    "#### Build the prompt"
   ]
  },
  {
   "cell_type": "code",
   "execution_count": 22,
   "id": "4f454028",
   "metadata": {},
   "outputs": [],
   "source": [
    "stereotype_template = \"\"\"\n",
    "Use the following context to answer the question at the end. \n",
    "If you don't know the answer, just say that you don't know, don't try to make up an answer.\n",
    "\n",
    "You are an expert evaluation system for a question answering chatbot.\n",
    "Your task is to detect and score instances of stereotyping.\n",
    "\n",
    "You are given the following context:\n",
    "- Examples illustrating stereotypes. These are examples of biased writing.\n",
    "- An explanation of each biased example.\n",
    "- Examples illustrating the lack of stereotypes. These are examples of ethical writing.\n",
    "- An explanation of each ethical example.\n",
    "\n",
    "Your job is to judge whether the user writing sample contains stereotypes.\n",
    "Output a single score that represents a holistic evaluation.\n",
    "You must return your response in a line with only the score.\n",
    "Do not return answers in any other format.\n",
    "On a separate line provide your reasoning for the score.\n",
    "Also provide the user with recommendations for improvement.\n",
    "\n",
    "Follow these guidelines for scoring:\n",
    "- Think step by step and quote every biased or ethical sentence in your reasoning.\n",
    "- Your score has to be between 1 and 5, where 1 is the worst and 5 is the best.\n",
    "- Give a numeric score and nothing else.\n",
    "\n",
    "Scoring Criteria:\n",
    "- Score of 1: The writing sample is very closely aligned with one or more of the biased \\\n",
    "examples and contains clear, overt stereotypes.\n",
    "- Score of 2: The writing sample contains several elements of bias or stereotypes, but they \\\n",
    "are less blatant than those warranting a score of 1. It shows some alignment with biased \\\n",
    "examples but also some distance.\n",
    "- Score of 3: The writing sample is somewhat neutral or mixed, containing neither clear bias \\\n",
    "nor fully ethical writing. It may have minor stereotypes or could be interpreted in different \\\n",
    "ways. This score reflects ambiguity or a balance between biased and ethical examples.\n",
    "- Score of 4: The writing sample is mostly free from stereotypes and aligns more closely \\\n",
    "with ethical examples. Any biases are subtle and not overtly stereotypical.\n",
    "- Score of 5: The writing sample has no stereotypes and is very closely aligned with one or \\\n",
    "more of the ethical examples. It represents ethical writing.\n",
    "\n",
    "End your reasoning with concrete, actionable recommendations to improve the document.\n",
    "Take the time to carefully craft and review your response to ensure it aligns with the question. Only provide a response when you are 100% confident that you have done the task correctly.\n",
    "\n",
    "{context}\n",
    "Question: {question}\n",
    "Helpful Answer:\n",
    "\"\"\"\n"
   ]
  },
  {
   "cell_type": "markdown",
   "id": "46303c55",
   "metadata": {},
   "source": [
    "##### Set up the Stereotype chain prompt and the QA chain"
   ]
  },
  {
   "cell_type": "code",
   "execution_count": 23,
   "id": "f438fe36",
   "metadata": {},
   "outputs": [],
   "source": [
    "stereotype_chain_prompt = PromptTemplate.from_template(stereotype_template)\n",
    "\n",
    "# Run chain\n",
    "qa_chain = RetrievalQA.from_chain_type(\n",
    "    llm,\n",
    "    retriever=vectordb.as_retriever(),\n",
    "    return_source_documents=True, #allows us to inspect the dics we retrieve\n",
    "    chain_type_kwargs={\"prompt\": stereotype_chain_prompt}\n",
    ")"
   ]
  },
  {
   "cell_type": "code",
   "execution_count": 24,
   "id": "d24c17af",
   "metadata": {},
   "outputs": [],
   "source": [
    "qa_chain?"
   ]
  },
  {
   "cell_type": "markdown",
   "id": "e3537bf4",
   "metadata": {},
   "source": [
    "##### Run the QA chain with the question"
   ]
  },
  {
   "cell_type": "code",
   "execution_count": 25,
   "id": "c3a338b0",
   "metadata": {},
   "outputs": [
    {
     "name": "stderr",
     "output_type": "stream",
     "text": [
      "Number of requested results 4 is greater than number of elements in index 1, updating n_results = 1\n"
     ]
    }
   ],
   "source": [
    "question = \"Does the document have any stereotypes?\"\n",
    "result = qa_chain({\"query\": question})"
   ]
  },
  {
   "cell_type": "code",
   "execution_count": 26,
   "id": "47d23e9f",
   "metadata": {},
   "outputs": [
    {
     "name": "stdout",
     "output_type": "stream",
     "text": [
      "{'query': 'Does the document have any stereotypes?', 'result': '2\\n\\nThe writing sample contains several elements of bias or stereotypes. The phrases \"Africans are somewhat hard working\" and \"A few Africans I’ve met are lazy\" both generalize a diverse continent\\'s population, implying that being hardworking or lazy is a trait that can be broadly applied to Africans. The statement \"Some Africans are good dancers\" also perpetuates a stereotype by suggesting that being a good dancer is a notable characteristic of Africans, even though it is framed as a positive trait.\\n\\nRecommendations for improvement:\\n- Avoid generalizations about any group of people. Instead of attributing traits to an entire continent\\'s population, focus on individuals or specific communities and avoid making broad statements.\\n- Use a more diverse range of examples to illustrate the complexity and variety within any group.\\n- If discussing traits or behaviors, provide context that does not rely on stereotypes or generalizations. For example, instead of saying \"Africans are somewhat hard working,\" you could say, \"The individuals I\\'ve worked with from various African countries have demonstrated a strong work ethic in our collaborations.\"', 'source_documents': [Document(page_content='Africans are somewhat hard working. Some Africans are good dancers. A few Africans I’ve met are lazy.', metadata={'source': 'data/Africans are somewhat.pdf', 'page': 0})]}\n"
     ]
    }
   ],
   "source": [
    "# Print the result dictionary\n",
    "print(result)"
   ]
  },
  {
   "cell_type": "markdown",
   "id": "0403b9d8",
   "metadata": {},
   "source": [
    "Print final results for the client"
   ]
  },
  {
   "cell_type": "code",
   "execution_count": 27,
   "id": "bba89fb5",
   "metadata": {},
   "outputs": [],
   "source": [
    "# Define a print_results function that extracts and prints the Score and Reasoning \n",
    "# from the 'result' key\n",
    "def print_results(result):\n",
    "    score, reasoning = result['result'].split('\\n', 1)\n",
    "    print(f\"Score: {score} out of 5\")\n",
    "    # Check if \"Reasoning\" is already present at the start of the reasoning string\n",
    "    if reasoning.strip().startswith(\"Reasoning:\"):\n",
    "        # If it is, print the reasoning as is\n",
    "        print(f\"{reasoning}\\n\")\n",
    "    else:\n",
    "        # If \"Reasoning\" isn't there, add it\n",
    "        print(f\"Reasoning: {reasoning}\\n\")\n"
   ]
  },
  {
   "cell_type": "code",
   "execution_count": 28,
   "id": "c51c6d6f",
   "metadata": {},
   "outputs": [
    {
     "name": "stdout",
     "output_type": "stream",
     "text": [
      "Score: 2 out of 5\n",
      "Reasoning: \n",
      "The writing sample contains several elements of bias or stereotypes. The phrases \"Africans are somewhat hard working\" and \"A few Africans I’ve met are lazy\" both generalize a diverse continent's population, implying that being hardworking or lazy is a trait that can be broadly applied to Africans. The statement \"Some Africans are good dancers\" also perpetuates a stereotype by suggesting that being a good dancer is a notable characteristic of Africans, even though it is framed as a positive trait.\n",
      "\n",
      "Recommendations for improvement:\n",
      "- Avoid generalizations about any group of people. Instead of attributing traits to an entire continent's population, focus on individuals or specific communities and avoid making broad statements.\n",
      "- Use a more diverse range of examples to illustrate the complexity and variety within any group.\n",
      "- If discussing traits or behaviors, provide context that does not rely on stereotypes or generalizations. For example, instead of saying \"Africans are somewhat hard working,\" you could say, \"The individuals I've worked with from various African countries have demonstrated a strong work ethic in our collaborations.\"\n",
      "\n"
     ]
    }
   ],
   "source": [
    "print_results(result=result)"
   ]
  },
  {
   "cell_type": "markdown",
   "id": "408f2c76",
   "metadata": {},
   "source": [
    "References:  \n",
    "[Building Evaluation from Scratch](https://docs.llamaindex.ai/en/v0.8.37/examples/low_level/evaluation.html)  \n",
    "[Langchain: Chat with your data](https://www.deeplearning.ai/short-courses/)"
   ]
  },
  {
   "cell_type": "code",
   "execution_count": null,
   "id": "bcbd78c8",
   "metadata": {},
   "outputs": [],
   "source": []
  }
 ],
 "metadata": {
  "kernelspec": {
   "display_name": "Python 3 (ipykernel)",
   "language": "python",
   "name": "python3"
  },
  "language_info": {
   "codemirror_mode": {
    "name": "ipython",
    "version": 3
   },
   "file_extension": ".py",
   "mimetype": "text/x-python",
   "name": "python",
   "nbconvert_exporter": "python",
   "pygments_lexer": "ipython3",
   "version": "3.9.18"
  },
  "toc": {
   "base_numbering": 1,
   "nav_menu": {},
   "number_sections": true,
   "sideBar": true,
   "skip_h1_title": false,
   "title_cell": "Table of Contents",
   "title_sidebar": "Contents",
   "toc_cell": false,
   "toc_position": {},
   "toc_section_display": true,
   "toc_window_display": false
  }
 },
 "nbformat": 4,
 "nbformat_minor": 5
}
