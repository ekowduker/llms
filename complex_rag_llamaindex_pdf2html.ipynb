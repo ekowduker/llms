{
 "cells": [
  {
   "cell_type": "markdown",
   "id": "8ee1ca72",
   "metadata": {},
   "source": [
    "# Complex Retrieval Augmented Generation\n",
    "This notebook uses LlamaIndex and Unstructured.io to retrieve information from pdfs.  \n",
    "Machine readable PDFs (i.e. not pdfs as scanned images) are converted to HTML.  \n",
    "This is reported tp give better performance than OCR.  \n",
    "[See the reference notebook here](https://colab.research.google.com/drive/1ffaV5iFRvhzGIq8YSckf-VJ-y0AZFmA-?usp=sharing#scrollTo=lGM0h5TzUxMU)"
   ]
  },
  {
   "cell_type": "markdown",
   "id": "fe5f2eff",
   "metadata": {},
   "source": [
    "Import the dependencies"
   ]
  },
  {
   "cell_type": "code",
   "execution_count": 1,
   "id": "9c94fb85",
   "metadata": {},
   "outputs": [],
   "source": [
    "#!pip install llama-index llama-hub unstructured==0.10.18 lxml cohere -qU"
   ]
  },
  {
   "cell_type": "markdown",
   "id": "0d90295e",
   "metadata": {},
   "source": [
    "**Import Statements**\n",
    "\n",
    "**from pydantic import BaseModel**: This imports the BaseModel class from the pydantic library. Pydantic is commonly used for data validation and settings management using Python type annotations. The BaseModel class is used to define data models where you can specify the type of each attribute, and Pydantic will handle validation and error reporting.  \n",
    "\n",
    "**from unstructured.partition.html import partition_html**: This imports the partition_html function from the unstructured library. This function is  used to process HTML content, by dividing it into different structured components or elements.    \n",
    "\n",
    "**Pandas Configuration**:\n",
    "These lines are configuring how pandas displays data in the output."
   ]
  },
  {
   "cell_type": "code",
   "execution_count": 1,
   "id": "529ecb7e",
   "metadata": {},
   "outputs": [],
   "source": [
    "from pydantic import BaseModel\n",
    "from unstructured.partition.html import partition_html\n",
    "import pandas as pd\n",
    "\n",
    "pd.set_option(\"display.max_rows\", None)\n",
    "pd.set_option(\"display.max_columns\", None)\n",
    "pd.set_option(\"display.width\", None)\n",
    "pd.set_option(\"display.max_colwidth\", None)"
   ]
  },
  {
   "cell_type": "markdown",
   "id": "d1ff95ad",
   "metadata": {},
   "source": [
    "Normally, you cannot start a new event loop (or run asynchronous tasks) if there's already an event loop running in the same thread. This is a limitation in certain environments like Jupyter notebooks. The nest_asyncio.apply() function patches the event loop to remove this limitation, allowing you to run asynchronous tasks even if an event loop is already running."
   ]
  },
  {
   "cell_type": "code",
   "execution_count": 2,
   "id": "08c72ac0",
   "metadata": {},
   "outputs": [],
   "source": [
    "import nest_asyncio\n",
    "nest_asyncio.apply()"
   ]
  },
  {
   "cell_type": "markdown",
   "id": "766b798e",
   "metadata": {},
   "source": [
    "##### Get the OpenAI API key"
   ]
  },
  {
   "cell_type": "code",
   "execution_count": 3,
   "id": "2220a249",
   "metadata": {},
   "outputs": [
    {
     "data": {
      "text/plain": [
       "'# Either type it in\\nimport os\\nfrom getpass import getpass\\n\\nos.environ[\"OPENAI_API_KEY\"] = getpass(\"OpenAI API Key: \")'"
      ]
     },
     "execution_count": 3,
     "metadata": {},
     "output_type": "execute_result"
    }
   ],
   "source": [
    "\"\"\"# Either type it in\n",
    "import os\n",
    "from getpass import getpass\n",
    "\n",
    "os.environ[\"OPENAI_API_KEY\"] = getpass(\"OpenAI API Key: \")\"\"\""
   ]
  },
  {
   "cell_type": "code",
   "execution_count": 3,
   "id": "321e46c5",
   "metadata": {},
   "outputs": [],
   "source": [
    "# Or read in the key as environment variable\n",
    "import os\n",
    "\n",
    "# Read API key from environment variable\n",
    "openai_api_key = os.getenv(\"OPENAI_API_KEY\")\n",
    "if openai_api_key is None:\n",
    "    raise ValueError(\"OpenAI API Key not set in environment variables\")\n",
    "os.environ[\"OPENAI_API_KEY\"] = openai_api_key\n"
   ]
  },
  {
   "cell_type": "markdown",
   "id": "849b2352",
   "metadata": {},
   "source": [
    "#### Convert the pdf file to HTML using poppler"
   ]
  },
  {
   "cell_type": "code",
   "execution_count": 4,
   "id": "826c9efb",
   "metadata": {},
   "outputs": [
    {
     "name": "stdout",
     "output_type": "stream",
     "text": [
      "Page-1\n",
      "Page-2\n",
      " link to page 4  link to page 8  link to page 9  link to page 15  link to page 21  link to page 34  link to page 37  link to page 39  link to page 69  link to page 71  link to page 76  link to page 85  link to page 86  link to page 89  link to page 93  link to page 94  link to page 106  link to page 107  link to page 118  link to page 127  link to page 128  link to page 139  link to page 150  link to page 151  link to page 174  link to page 181  link to page 182  link to page 186  link to page 216  link to page 233  link to page 236  link to page 238  link to page 242  link to page 254  link to page 270  link to page 275  link to page 283  link to page 286  link to page 289  link to page 290 Page-3\n",
      " link to page 2  link to page 71  link to page 71  link to page 71  link to page 71  link to page 283  link to page 283  link to page 233 Page-4\n",
      " link to page 6  link to page 8  link to page 9  link to page 15  link to page 21 Page-5\n",
      " link to page 103 Page-6\n",
      "Page-7\n",
      "Page-8\n",
      "Page-9\n",
      "Page-10\n",
      "Page-11\n",
      "Page-12\n",
      "Page-13\n",
      "Page-14\n",
      "Page-15\n",
      " link to page 128  link to page 85  link to page 182  link to page 182  link to page 85  link to page 182 Page-16\n",
      "Page-17\n",
      " link to page 189  link to page 106 Page-18\n",
      " link to page 9  link to page 174  link to page 39  link to page 39  link to page 39 Page-19\n",
      " link to page 192  link to page 34 Page-20\n",
      " link to page 163  link to page 230 Page-21\n",
      " link to page 216  link to page 230  link to page 182  link to page 182  link to page 182 Page-22\n",
      "Page-23\n",
      " link to page 186  link to page 191 Page-24\n",
      " link to page 151  link to page 158  link to page 270  link to page 76  link to page 76  link to page 39  link to page 39  link to page 39 Page-25\n",
      "Page-26\n",
      "Page-27\n",
      "Page-28\n",
      " link to page 39  link to page 39 Page-29\n",
      "Page-30\n",
      "Page-31\n",
      " link to page 174  link to page 174  link to page 236  link to page 236 Page-32\n",
      " link to page 34  link to page 37  link to page 39  link to page 69  link to page 71  link to page 76  link to page 85  link to page 86  link to page 89 Page-33\n",
      " link to page 39  link to page 39 Page-34\n",
      "Page-35\n",
      "Page-36\n",
      " link to page 93  link to page 139  link to page 139  link to page 151  link to page 15  link to page 151  link to page 151  link to page 15  link to page 15  link to page 107  link to page 107  link to page 118  link to page 94  link to page 15  link to page 94  link to page 182  link to page 182  link to page 182  link to page 182  link to page 182  link to page 186  link to page 186  link to page 216  link to page 233  link to page 94 Page-37\n",
      " link to page 174 Page-38\n",
      " link to page 21  link to page 29 Page-39\n",
      "Page-40\n",
      " link to page 31 Page-41\n",
      "Page-42\n",
      " link to page 93 Page-43\n",
      " link to page 189  link to page 61  link to page 67 Page-44\n",
      " link to page 233  link to page 61  link to page 63  link to page 65  link to page 67 Page-45\n",
      " link to page 61  link to page 65  link to page 67 Page-46\n",
      " link to page 194  link to page 59  link to page 59  link to page 63  link to page 63  link to page 67 Page-47\n",
      " link to page 60  link to page 64  link to page 65  link to page 67 Page-48\n",
      "Page-49\n",
      "Page-50\n",
      "Page-51\n",
      "Page-52\n",
      "Page-53\n",
      "Page-54\n",
      " link to page 59 Page-55\n",
      "Page-56\n",
      " link to page 151  link to page 154 Page-57\n",
      " link to page 94 Page-58\n",
      "Page-59\n",
      "Page-60\n",
      "Page-61\n",
      "Page-62\n",
      "Page-63\n",
      "Page-64\n",
      "Page-65\n",
      "Page-66\n",
      "Page-67\n",
      "Page-68\n",
      "Page-69\n",
      "Page-70\n",
      "Page-71\n",
      "Page-72\n",
      " link to page 67  link to page 59  link to page 275  link to page 275  link to page 283  link to page 128  link to page 128  link to page 275  link to page 275  link to page 275  link to page 283  link to page 21  link to page 21  link to page 21  link to page 216  link to page 216  link to page 217 Page-73\n",
      " link to page 94  link to page 94  link to page 94  link to page 95  link to page 275  link to page 275  link to page 283  link to page 216  link to page 216  link to page 217  link to page 132  link to page 60  link to page 275  link to page 275  link to page 283  link to page 186  link to page 186  link to page 186  link to page 187  link to page 193  link to page 197  link to page 47  link to page 59  link to page 283  link to page 151  link to page 151  link to page 151  link to page 163  link to page 46 Page-74\n",
      " link to page 275  link to page 275  link to page 275  link to page 283  link to page 186  link to page 186  link to page 186  link to page 187  link to page 189  link to page 44  link to page 63  link to page 151  link to page 154  link to page 151  link to page 151  link to page 151  link to page 154  link to page 174  link to page 174  link to page 175  link to page 174  link to page 174  link to page 174  link to page 94  link to page 94  link to page 95  link to page 97  link to page 275  link to page 275  link to page 275  link to page 275  link to page 275  link to page 283  link to page 151  link to page 151  link to page 151  link to page 158 Page-75\n",
      " link to page 211 Page-76\n",
      "Page-77\n",
      "Page-78\n",
      "Page-79\n",
      " link to page 128  link to page 128 Page-80\n",
      "Page-81\n",
      "Page-82\n",
      " link to page 216  link to page 226 Page-83\n",
      "Page-84\n",
      "Page-85\n",
      " link to page 39  link to page 39 Page-86\n",
      " link to page 71  link to page 71  link to page 71  link to page 71  link to page 71  link to page 71  link to page 71  link to page 71  link to page 71  link to page 71  link to page 71  link to page 71  link to page 71  link to page 71  link to page 71  link to page 71  link to page 71  link to page 71  link to page 71  link to page 71  link to page 71  link to page 71 Page-87\n",
      "Page-88\n",
      "Page-89\n",
      "Page-90\n",
      "Page-91\n",
      "Page-92\n",
      " link to page 94  link to page 94  link to page 106  link to page 107  link to page 118  link to page 127  link to page 128  link to page 139  link to page 150  link to page 151  link to page 174  link to page 181  link to page 182  link to page 186  link to page 216  link to page 233 Page-93\n",
      "Page-94\n",
      " link to page 21 Page-95\n",
      "Page-96\n",
      "Page-97\n",
      "Page-98\n",
      " link to page 15 Page-99\n",
      "Page-100\n",
      "Page-101\n",
      "Page-102\n",
      "Page-103\n",
      "Page-104\n",
      "Page-105\n",
      "Page-106\n",
      " link to page 15  link to page 15  link to page 15 Page-107\n",
      "Page-108\n",
      "Page-109\n",
      "Page-110\n",
      "Page-111\n",
      "Page-112\n",
      "Pag"
     ]
    }
   ],
   "source": [
    "# Using poppler\n",
    "# You can ignore the warning: Syntax Warning: Bad annotation destination\n",
    "import subprocess\n",
    "\n",
    "def convert_pdf_to_html(pdf_path, html_output_path):\n",
    "    # Construct the command to convert the PDF file to HTML\n",
    "    command = ['pdftohtml', '-c', '-noframes', pdf_path, html_output_path]\n",
    "\n",
    "    # Run the command\n",
    "    subprocess.run(command, check=True)\n",
    "\n",
    "# Example usage\n",
    "pdf_file = 'investor_reports/ssw-IR22.pdf' #This is the source pdf. Change it to your pdf name\n",
    "html_output_file = 'investor_reports/output_file' #This is the destination html file name\n",
    "\n",
    "convert_pdf_to_html(pdf_file, html_output_file)\n",
    "\n",
    "# This creates a file output_file.html as well as a png for each page.\n",
    "# The png files are required to maintain the html structure."
   ]
  },
  {
   "cell_type": "code",
   "execution_count": 5,
   "id": "06819345-9b97-4f36-8f64-4e6da0c6c51b",
   "metadata": {},
   "outputs": [],
   "source": [
    "# Post-process the HTML file to ensure it uses a specific encoding, like UTF-8.\n",
    "from pathlib import Path\n",
    "\n",
    "def ensure_utf8_encoding(html_file_path):\n",
    "    # Read the content of the HTML file\n",
    "    with open(html_file_path, 'r', encoding='ISO-8859-1') as file:\n",
    "        content = file.read()\n",
    "\n",
    "    # Write the content back to the file with UTF-8 encoding\n",
    "    with open(html_file_path, 'w', encoding='utf-8') as file:\n",
    "        file.write(content)\n",
    "\n",
    "# After conversion\n",
    "html_output_path = 'investor_reports/output_file.html'  # Adjusted to include .html extension\n",
    "ensure_utf8_encoding(Path(html_output_path))\n"
   ]
  },
  {
   "cell_type": "markdown",
   "id": "73e4ea33",
   "metadata": {},
   "source": [
    "#### Read the file into LlamaIndex"
   ]
  },
  {
   "cell_type": "code",
   "execution_count": 6,
   "id": "156d4a68",
   "metadata": {},
   "outputs": [],
   "source": [
    "from llama_index.readers.file.flat_reader import FlatReader\n",
    "from pathlib import Path\n",
    "\n",
    "reader = FlatReader()\n",
    "html_doc = reader.load_data(Path(\"investor_reports/output_file.html\"))"
   ]
  },
  {
   "cell_type": "markdown",
   "id": "9ed5ff7e",
   "metadata": {},
   "source": [
    "#### Set up the node parser.  \n",
    "The UnstructuredElementNodeParser Splits a document into Text Nodes and Index Nodes corresponding to embedded objects (e.g. tables)."
   ]
  },
  {
   "cell_type": "markdown",
   "id": "39fa061a",
   "metadata": {},
   "source": [
    "##### Set up the llm"
   ]
  },
  {
   "cell_type": "code",
   "execution_count": 7,
   "id": "d353e307",
   "metadata": {},
   "outputs": [],
   "source": [
    "from llama_index.llms import OpenAI\n",
    "\n",
    "#llm = OpenAI(model=\"gpt-3.5-turbo\", temperature=0.1)\n",
    "llm = OpenAI(model='gpt-4-1106-preview', temperature=0.1)"
   ]
  },
  {
   "cell_type": "code",
   "execution_count": 8,
   "id": "fc255ee0",
   "metadata": {},
   "outputs": [],
   "source": [
    "from llama_index.node_parser import (\n",
    "    UnstructuredElementNodeParser,\n",
    ")\n",
    "\n",
    "node_parser = UnstructuredElementNodeParser(llm=llm)"
   ]
  },
  {
   "cell_type": "markdown",
   "id": "e1766fa2",
   "metadata": {},
   "source": [
    "#### Get the raw nodes"
   ]
  },
  {
   "cell_type": "code",
   "execution_count": 9,
   "id": "ea856f97",
   "metadata": {},
   "outputs": [
    {
     "name": "stdout",
     "output_type": "stream",
     "text": [
      "loading node data...\n"
     ]
    }
   ],
   "source": [
    "import pickle\n",
    "\n",
    "# Check if the nodes file already exists\n",
    "if os.path.exists(\"html_doc_nodes.pkl\"):\n",
    "    # If the file exists, load the data from it\n",
    "    print(\"loading node data...\")\n",
    "    with open(\"html_doc_nodes.pkl\", \"rb\") as file:\n",
    "        html_doc_raw_nodes = pickle.load(file)\n",
    "else:\n",
    "    # If the file does not exist, generate the data and save it\n",
    "    print(\"generating node data...\")\n",
    "    html_doc_raw_nodes = node_parser.get_nodes_from_documents(html_doc)\n",
    "    with open(\"html_doc_nodes.pkl\", \"wb\") as file:\n",
    "        pickle.dump(html_doc_raw_nodes, file)\n"
   ]
  },
  {
   "cell_type": "markdown",
   "id": "15c118ba",
   "metadata": {},
   "source": [
    "##### Get the base nodes and the node mappings"
   ]
  },
  {
   "cell_type": "code",
   "execution_count": 10,
   "id": "9543eacd",
   "metadata": {},
   "outputs": [],
   "source": [
    "base_nodes_html_doc, node_mappings_html_doc = node_parser.get_base_nodes_and_mappings(\n",
    "    html_doc_raw_nodes\n",
    ")"
   ]
  },
  {
   "cell_type": "markdown",
   "id": "a9de058a",
   "metadata": {},
   "source": [
    "#### Set up the vector index, retriever, and query engine"
   ]
  },
  {
   "cell_type": "code",
   "execution_count": 11,
   "id": "f6f8b9f4",
   "metadata": {},
   "outputs": [],
   "source": [
    "from llama_index.retrievers import RecursiveRetriever\n",
    "from llama_index.query_engine import RetrieverQueryEngine\n",
    "from llama_index import VectorStoreIndex\n",
    "\n",
    "vector_index = VectorStoreIndex(base_nodes_html_doc)\n",
    "vector_retriever = vector_index.as_retriever(similarity_top_k=3)\n",
    "vector_query_engine = vector_index.as_query_engine(similarity_top_k=3)"
   ]
  },
  {
   "cell_type": "markdown",
   "id": "cab7b19e",
   "metadata": {},
   "source": [
    "#### Set up the query engine"
   ]
  },
  {
   "cell_type": "code",
   "execution_count": 12,
   "id": "a968f926",
   "metadata": {},
   "outputs": [],
   "source": [
    "recursive_retriever = RecursiveRetriever(\n",
    "    \"vector\",\n",
    "    retriever_dict={\"vector\": vector_retriever},\n",
    "    node_dict=node_mappings_html_doc,\n",
    ")\n",
    "query_engine = RetrieverQueryEngine.from_args(recursive_retriever)"
   ]
  },
  {
   "cell_type": "markdown",
   "id": "885eb54c",
   "metadata": {},
   "source": [
    "#### Now ask questions!"
   ]
  },
  {
   "cell_type": "code",
   "execution_count": 33,
   "id": "9a6ac79a",
   "metadata": {},
   "outputs": [
    {
     "name": "stdout",
     "output_type": "stream",
     "text": [
      "Richard Stewart's total remuneration in 2022 cannot be determined based on the given context information.\n"
     ]
    }
   ],
   "source": [
    "response = query_engine.query(\"what was richard stewart's total remuneration in 2022?\")\n",
    "print(str(response))"
   ]
  },
  {
   "cell_type": "markdown",
   "id": "1b6720ba",
   "metadata": {},
   "source": [
    "##### Alternatively, you may use the vector_query_engine."
   ]
  },
  {
   "cell_type": "code",
   "execution_count": 15,
   "id": "f7417485",
   "metadata": {},
   "outputs": [
    {
     "name": "stdout",
     "output_type": "stream",
     "text": [
      "Yes, Savannah Danson is a member of the Risk Committee.\n"
     ]
    }
   ],
   "source": [
    "response = vector_query_engine.query(\"is savannah danson a member of the risk committee?\")\n",
    "print(str(response))"
   ]
  },
  {
   "cell_type": "code",
   "execution_count": 16,
   "id": "d70aba94",
   "metadata": {},
   "outputs": [
    {
     "name": "stdout",
     "output_type": "stream",
     "text": [
      "The company produced 3,612 tonnes of gold in 2022.\n"
     ]
    }
   ],
   "source": [
    "response = query_engine.query(\"how much gold did the company produce in 2022?\")\n",
    "print(str(response))"
   ]
  },
  {
   "cell_type": "code",
   "execution_count": 17,
   "id": "c60fbf65",
   "metadata": {},
   "outputs": [
    {
     "name": "stdout",
     "output_type": "stream",
     "text": [
      "The outlook for 2023 is that there are compelling arguments for why the prospect of an economic slowdown remains on the table. Although there are risks involved, there is a good case for gold in 2023, driven by elevated geopolitical risk, a developed market economic slowdown, a peak in interest rates, and risks to equity valuations.\n"
     ]
    }
   ],
   "source": [
    "response = query_engine.query(\"What is the outlook for gold for 2023?\")\n",
    "print(str(response))"
   ]
  },
  {
   "cell_type": "code",
   "execution_count": 26,
   "id": "8cd91fe6",
   "metadata": {},
   "outputs": [
    {
     "name": "stdout",
     "output_type": "stream",
     "text": [
      "The number 1 risk to the business in 2022 is the risk of energy availability, including the risk of energy shortages, load shedding in South Africa, and curtailment in Europe.\n"
     ]
    }
   ],
   "source": [
    "response = query_engine.query(\"what is the number 1 risk to the business in 2022?\")\n",
    "print(str(response))"
   ]
  },
  {
   "cell_type": "code",
   "execution_count": 21,
   "id": "4d4a126b",
   "metadata": {},
   "outputs": [
    {
     "name": "stdout",
     "output_type": "stream",
     "text": [
      "The top risks to SA PGM operations include inability to meet global governance standards and targets, non-compliance with relevant laws and regulations, mine incidents and accidents, theft of copper and infrastructure, misaligned community expectations, attraction and retention of skills, total power outage/load curtailment, seismicity, illegal mining, labour relations/wage negotiations, supply chain challenges, and inability to execute on the annual business plan.\n"
     ]
    }
   ],
   "source": [
    "response = query_engine.query(\"what are the top risks to sa pgm operations?\")\n",
    "print(str(response))"
   ]
  },
  {
   "cell_type": "code",
   "execution_count": 28,
   "id": "a0b7eab4",
   "metadata": {},
   "outputs": [
    {
     "name": "stdout",
     "output_type": "stream",
     "text": [
      "The top 10 risks to the business are as follows:\n",
      "1. Energy availability\n",
      "2. Failure to enable resilient communities\n",
      "3. Inability to fund expansion\n",
      "4. Failure to grow in targeted commodities and regions\n",
      "5. Not generating sufficient returns to deliver on force for good strategy\n",
      "6. Impact of climate change\n",
      "7. Diverse stakeholder relations\n",
      "8. Working in and developing homogenous ecosystems\n",
      "9. Lack of technical and operating capability\n",
      "10. Financial impact of a pandemic\n"
     ]
    }
   ],
   "source": [
    "#Extra question\n",
    "response = query_engine.query(\"list the top 10 risks to the business?\")\n",
    "print(str(response))"
   ]
  },
  {
   "cell_type": "code",
   "execution_count": null,
   "id": "72a846fc-53dc-43b9-8c36-ec1a7891124d",
   "metadata": {},
   "outputs": [],
   "source": []
  }
 ],
 "metadata": {
  "kernelspec": {
   "display_name": "Python 3 (ipykernel)",
   "language": "python",
   "name": "python3"
  },
  "language_info": {
   "codemirror_mode": {
    "name": "ipython",
    "version": 3
   },
   "file_extension": ".py",
   "mimetype": "text/x-python",
   "name": "python",
   "nbconvert_exporter": "python",
   "pygments_lexer": "ipython3",
   "version": "3.9.18"
  },
  "toc": {
   "base_numbering": 1,
   "nav_menu": {},
   "number_sections": true,
   "sideBar": true,
   "skip_h1_title": false,
   "title_cell": "Table of Contents",
   "title_sidebar": "Contents",
   "toc_cell": false,
   "toc_position": {},
   "toc_section_display": true,
   "toc_window_display": false
  }
 },
 "nbformat": 4,
 "nbformat_minor": 5
}
