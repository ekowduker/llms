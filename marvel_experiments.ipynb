{
 "cells": [
  {
   "cell_type": "markdown",
   "id": "b815ef73",
   "metadata": {},
   "source": [
    "# Tools and Routing"
   ]
  },
  {
   "cell_type": "markdown",
   "id": "3924f078",
   "metadata": {},
   "source": [
    "In this notebook, I experiment with the Langchain lesson on Tools and Routing and explore the Marvel API."
   ]
  },
  {
   "cell_type": "code",
   "execution_count": 1,
   "id": "cb41f5f4-df8d-4d04-9eaa-193b8c29b00b",
   "metadata": {
    "tags": []
   },
   "outputs": [],
   "source": [
    "import os\n",
    "import openai\n",
    "\n",
    "from dotenv import load_dotenv, find_dotenv\n",
    "_ = load_dotenv(find_dotenv()) # read local .env file\n",
    "openai.api_key = os.environ['OPENAI_API_KEY']\n",
    "marvel_private_key = os.environ['MARVEL_PRIVATE_KEY']\n",
    "marvel_public_key = os.environ['MARVEL_PUBLIC_KEY']"
   ]
  },
  {
   "cell_type": "code",
   "execution_count": 7,
   "id": "139c45e6-65a4-4fcb-a109-e5ba41a80835",
   "metadata": {},
   "outputs": [],
   "source": [
    "from langchain.agents import tool\n",
    "from langchain.chat_models import ChatOpenAI\n",
    "import json\n",
    "import openai"
   ]
  },
  {
   "cell_type": "code",
   "execution_count": 25,
   "id": "55d18e03",
   "metadata": {},
   "outputs": [],
   "source": [
    "import requests # used for http requests\n",
    "import hashlib\n",
    "import time\n",
    "from pydantic import BaseModel, Field\n",
    "\n",
    "timestamp = str(int(time.time()))\n",
    "hash = hashlib.md5((timestamp + marvel_private_key + marvel_public_key).encode()).hexdigest()\n",
    "\n",
    "# Define the input schema\n",
    "class SearchMarvel(BaseModel):\n",
    "    name: str = Field(..., description=\"Name of the Marvel character\")\n",
    "    \n",
    "\n",
    "@tool(args_schema=SearchMarvel)\n",
    "def get_character_description(name: str) -> json:\n",
    "    \"\"\"Fetch the description of the given character.\"\"\"\n",
    "    \n",
    "    BASE_URL = f\"http://gateway.marvel.com/v1/public/characters?ts={timestamp}&apikey={marvel_public_key}&hash={hash}\"\n",
    "\n",
    "    # Parameters for the request\n",
    "    params = {\n",
    "        'name': name,\n",
    "    }\n",
    "\n",
    "    # Make the request\n",
    "    response = requests.get(BASE_URL, params=params)\n",
    "    \n",
    "    if response.status_code == 200:\n",
    "        results = response.json()\n",
    "        \n",
    "        # Extract the character description\n",
    "        character_info = results['data']['results'][0]  # Assuming the character is the first in the results list\n",
    "        description = character_info.get('description', 'No description available')\n",
    "\n",
    "        return description\n",
    "    \n",
    "    else:\n",
    "        raise Exception(f\"API Request failed with status code: {response.status_code}\")\n",
    "    \n",
    "   # return f'Here is the character description: {results}'"
   ]
  },
  {
   "cell_type": "code",
   "execution_count": 26,
   "id": "731ed353-a27d-42df-89a8-9767bafb23be",
   "metadata": {},
   "outputs": [
    {
     "data": {
      "text/plain": [
       "'get_character_description'"
      ]
     },
     "execution_count": 26,
     "metadata": {},
     "output_type": "execute_result"
    }
   ],
   "source": [
    "get_character_description.name"
   ]
  },
  {
   "cell_type": "code",
   "execution_count": 27,
   "id": "d4f62eb8-c528-4e4a-b078-22e9d9b20a09",
   "metadata": {},
   "outputs": [
    {
     "data": {
      "text/plain": [
       "\"get_character_description(name: str) -> <module 'json' from '/usr/local/Cellar/python@3.9/3.9.17_1/Frameworks/Python.framework/Versions/3.9/lib/python3.9/json/__init__.py'> - Fetch the description of the given character.\""
      ]
     },
     "execution_count": 27,
     "metadata": {},
     "output_type": "execute_result"
    }
   ],
   "source": [
    "get_character_description.description"
   ]
  },
  {
   "cell_type": "code",
   "execution_count": 28,
   "id": "38ebb59f-cf0f-4281-99c3-87c8cfd3377b",
   "metadata": {},
   "outputs": [
    {
     "data": {
      "text/plain": [
       "{'name': {'title': 'Name',\n",
       "  'description': 'Name of the Marvel character',\n",
       "  'type': 'string'}}"
      ]
     },
     "execution_count": 28,
     "metadata": {},
     "output_type": "execute_result"
    }
   ],
   "source": [
    "get_character_description.args"
   ]
  },
  {
   "cell_type": "code",
   "execution_count": 29,
   "id": "36aacbec-9cdd-414a-b502-168cea350a30",
   "metadata": {},
   "outputs": [],
   "source": [
    "from langchain.tools.render import format_tool_to_openai_function"
   ]
  },
  {
   "cell_type": "code",
   "execution_count": 30,
   "id": "6277b6a8-f197-4057-a96a-5ebb61e18520",
   "metadata": {},
   "outputs": [
    {
     "data": {
      "text/plain": [
       "{'name': 'get_character_description',\n",
       " 'description': \"get_character_description(name: str) -> <module 'json' from '/usr/local/Cellar/python@3.9/3.9.17_1/Frameworks/Python.framework/Versions/3.9/lib/python3.9/json/__init__.py'> - Fetch the description of the given character.\",\n",
       " 'parameters': {'title': 'SearchMarvel',\n",
       "  'type': 'object',\n",
       "  'properties': {'name': {'title': 'Name',\n",
       "    'description': 'Name of the Marvel character',\n",
       "    'type': 'string'}},\n",
       "  'required': ['name']}}"
      ]
     },
     "execution_count": 30,
     "metadata": {},
     "output_type": "execute_result"
    }
   ],
   "source": [
    "#convert the tool to an openai function\n",
    "format_tool_to_openai_function(get_character_description)"
   ]
  },
  {
   "cell_type": "code",
   "execution_count": 31,
   "id": "e088eceb-424b-4da6-981f-63322c9ac56a",
   "metadata": {},
   "outputs": [
    {
     "data": {
      "text/plain": [
       "\"Vowing to serve his country any way he could, young Steve Rogers took the super soldier serum to become America's one-man army. Fighting for the red, white and blue for over 60 years, Captain America is the living, breathing symbol of freedom and liberty.\""
      ]
     },
     "execution_count": 31,
     "metadata": {},
     "output_type": "execute_result"
    }
   ],
   "source": [
    "get_character_description({\"name\": \"Captain America\"})"
   ]
  },
  {
   "cell_type": "markdown",
   "id": "198b21dd-c9de-491d-9a0c-71ae56727689",
   "metadata": {},
   "source": [
    "### Routing\n",
    "\n",
    "In lesson 3, we show an example of function calling deciding between two candidate functions.\n",
    "\n",
    "Given our tools above, let's format these as OpenAI functions and show this same behavior."
   ]
  },
  {
   "cell_type": "code",
   "execution_count": 32,
   "id": "68e20625",
   "metadata": {},
   "outputs": [],
   "source": [
    "# my code\n",
    "#Lets see if it can distinguish between functions\n",
    "functions = [\n",
    "    format_tool_to_openai_function(f) for f in [\n",
    "        get_character_description, #add more tools here\n",
    "    ]\n",
    "]\n",
    "model = ChatOpenAI(temperature=0, model=\"gpt-3.5-turbo\").bind(functions=functions)"
   ]
  },
  {
   "cell_type": "code",
   "execution_count": 33,
   "id": "99120542-36bc-4ed1-aa9e-e2294e282c81",
   "metadata": {},
   "outputs": [
    {
     "data": {
      "text/plain": [
       "AIMessage(content='', additional_kwargs={'function_call': {'name': 'get_character_description', 'arguments': '{\\n  \"name\": \"Captain America\"\\n}'}})"
      ]
     },
     "execution_count": 33,
     "metadata": {},
     "output_type": "execute_result"
    }
   ],
   "source": [
    "model.invoke(\"Who is Captain America?\")"
   ]
  },
  {
   "cell_type": "code",
   "execution_count": 34,
   "id": "831a0506-1d5c-4bc3-b67f-24e201a4fa6d",
   "metadata": {},
   "outputs": [],
   "source": [
    "from langchain.prompts import ChatPromptTemplate\n",
    "prompt = ChatPromptTemplate.from_messages([\n",
    "    (\"system\", \"You are helpful but sassy assistant\"),\n",
    "    (\"user\", \"{input}\"),\n",
    "])\n",
    "chain = prompt | model"
   ]
  },
  {
   "cell_type": "code",
   "execution_count": 35,
   "id": "d9c32ccc-6691-4dd5-98dc-aabf02563ad5",
   "metadata": {},
   "outputs": [
    {
     "data": {
      "text/plain": [
       "AIMessage(content='', additional_kwargs={'function_call': {'name': 'get_character_description', 'arguments': '{\\n  \"name\": \"Iron Man\"\\n}'}})"
      ]
     },
     "execution_count": 35,
     "metadata": {},
     "output_type": "execute_result"
    }
   ],
   "source": [
    "chain.invoke({\"input\": \"who is Iron Man?\"})"
   ]
  },
  {
   "cell_type": "code",
   "execution_count": 36,
   "id": "921e808c-6618-4d2f-85df-1f3089497724",
   "metadata": {},
   "outputs": [],
   "source": [
    "#Add a parser\n",
    "from langchain.agents.output_parsers import OpenAIFunctionsAgentOutputParser"
   ]
  },
  {
   "cell_type": "code",
   "execution_count": 37,
   "id": "094baef1-4140-41f4-9111-ff9710826e6b",
   "metadata": {},
   "outputs": [],
   "source": [
    "chain = prompt | model | OpenAIFunctionsAgentOutputParser()"
   ]
  },
  {
   "cell_type": "code",
   "execution_count": 38,
   "id": "f105e8e8-d418-4d4a-95eb-52636d4e890f",
   "metadata": {},
   "outputs": [],
   "source": [
    "result = chain.invoke({\"input\": \"who is Iron Man?\"})"
   ]
  },
  {
   "cell_type": "code",
   "execution_count": 39,
   "id": "409b26c0-a1e0-4225-ae2e-396c1f76bf0a",
   "metadata": {},
   "outputs": [
    {
     "data": {
      "text/plain": [
       "langchain.schema.agent.AgentActionMessageLog"
      ]
     },
     "execution_count": 39,
     "metadata": {},
     "output_type": "execute_result"
    }
   ],
   "source": [
    "type(result)"
   ]
  },
  {
   "cell_type": "code",
   "execution_count": 40,
   "id": "9cdde008-4b11-4ab2-a01c-6ae394a7dccf",
   "metadata": {},
   "outputs": [
    {
     "data": {
      "text/plain": [
       "'get_character_description'"
      ]
     },
     "execution_count": 40,
     "metadata": {},
     "output_type": "execute_result"
    }
   ],
   "source": [
    "result.tool"
   ]
  },
  {
   "cell_type": "code",
   "execution_count": 41,
   "id": "66ffb308-3d77-4acb-b4b5-e2b0d38f3860",
   "metadata": {},
   "outputs": [
    {
     "data": {
      "text/plain": [
       "{'name': 'Iron Man'}"
      ]
     },
     "execution_count": 41,
     "metadata": {},
     "output_type": "execute_result"
    }
   ],
   "source": [
    "result.tool_input"
   ]
  },
  {
   "cell_type": "code",
   "execution_count": 42,
   "id": "07e661b1-6d0d-43b9-9de4-19c6cceff291",
   "metadata": {},
   "outputs": [
    {
     "data": {
      "text/plain": [
       "'Wounded, captured and forced to build a weapon by his enemies, billionaire industrialist Tony Stark instead created an advanced suit of armor to save his life and escape captivity. Now with a new outlook on life, Tony uses his money and intelligence to make the world a safer, better place as Iron Man.'"
      ]
     },
     "execution_count": 42,
     "metadata": {},
     "output_type": "execute_result"
    }
   ],
   "source": [
    "# Now run the tool\n",
    "get_character_description(result.tool_input)"
   ]
  },
  {
   "cell_type": "markdown",
   "id": "8c259f28",
   "metadata": {},
   "source": [
    "Using third party api's with a language model allows a user to interact with the api in natural language. The LLM can then infer, enhance, combine the api outputs."
   ]
  },
  {
   "cell_type": "code",
   "execution_count": null,
   "id": "057e3072-a203-4a5e-b1f6-b250cd7bd33b",
   "metadata": {},
   "outputs": [],
   "source": [
    "result = chain.invoke({\"input\": \"hi!\"})"
   ]
  },
  {
   "cell_type": "code",
   "execution_count": null,
   "id": "5be6bc0f-5b81-49fa-ac16-b8896847d87a",
   "metadata": {},
   "outputs": [],
   "source": [
    "type(result)"
   ]
  },
  {
   "cell_type": "code",
   "execution_count": null,
   "id": "dd128d20-f552-4cc5-a45e-f47b58c9982b",
   "metadata": {},
   "outputs": [],
   "source": [
    "result.return_values"
   ]
  },
  {
   "cell_type": "code",
   "execution_count": 43,
   "id": "134f422a-b72b-40df-9552-cf9f9fc2d780",
   "metadata": {},
   "outputs": [],
   "source": [
    "#differentiate betwween when a tool is called or not called\n",
    "from langchain.schema.agent import AgentFinish\n",
    "def route(result):\n",
    "    if isinstance(result, AgentFinish): # if no tool is called\n",
    "        return result.return_values['output']\n",
    "    else: # if a tool is called\n",
    "        tools = {\n",
    "            \"get_character_description\": get_character_description,\n",
    "        }\n",
    "        return tools[result.tool].run(result.tool_input)"
   ]
  },
  {
   "cell_type": "markdown",
   "id": "b114b72b",
   "metadata": {},
   "source": [
    "When you add a route, you get the actual \"answer\""
   ]
  },
  {
   "cell_type": "code",
   "execution_count": 60,
   "id": "8fefc329-b270-4ebb-b884-430e4e541e7f",
   "metadata": {},
   "outputs": [],
   "source": [
    "chain = prompt | model | OpenAIFunctionsAgentOutputParser() | route"
   ]
  },
  {
   "cell_type": "code",
   "execution_count": 45,
   "id": "b2dcb4b2-0e0d-425b-bff8-db7cd33afa16",
   "metadata": {},
   "outputs": [],
   "source": [
    "result = chain.invoke({\"input\": \"Who is Captain America?\"})"
   ]
  },
  {
   "cell_type": "code",
   "execution_count": 46,
   "id": "498d487b-ceba-4e9f-8a24-0f8c27438a18",
   "metadata": {},
   "outputs": [
    {
     "data": {
      "text/plain": [
       "\"Vowing to serve his country any way he could, young Steve Rogers took the super soldier serum to become America's one-man army. Fighting for the red, white and blue for over 60 years, Captain America is the living, breathing symbol of freedom and liberty.\""
      ]
     },
     "execution_count": 46,
     "metadata": {},
     "output_type": "execute_result"
    }
   ],
   "source": [
    "result"
   ]
  },
  {
   "cell_type": "code",
   "execution_count": null,
   "id": "a353363e-27b8-440f-a8b7-31bc2e861a42",
   "metadata": {},
   "outputs": [],
   "source": [
    "chain.invoke({\"input\": \"hi!\"})"
   ]
  },
  {
   "cell_type": "markdown",
   "id": "17addfd6",
   "metadata": {},
   "source": [
    "Get all characters and their descriptions, with pagination"
   ]
  },
  {
   "cell_type": "code",
   "execution_count": 51,
   "id": "ad6ca0db-6b1d-4d8e-8c63-3a485607fbd9",
   "metadata": {},
   "outputs": [],
   "source": [
    "\n",
    "import requests\n",
    "\n",
    "# Initialize an empty dictionary to store character data\n",
    "character_dict = {}\n",
    "\n",
    "# Assuming these variables are defined: timestamp, marvel_public_key, hash\n",
    "base_url = \"http://gateway.marvel.com/v1/public/characters\"\n",
    "\n",
    "offset = 0\n",
    "limit = 20  # Adjust if needed, based on API's allowed limits\n",
    "\n",
    "while True:\n",
    "    response = requests.get(f\"{base_url}?ts={timestamp}&apikey={marvel_public_key}&hash={hash}&offset={offset}&limit={limit}\")\n",
    "    data = response.json()\n",
    "\n",
    "    characters = data['data']['results']\n",
    "    for character in characters:\n",
    "        name = character['name']\n",
    "        description = character.get('description', 'No description available')\n",
    "        \n",
    "        # Store the name and description in the dictionary\n",
    "        character_dict[name] = description\n",
    "\n",
    "    total = data['data']['total']\n",
    "    count = data['data']['count']\n",
    "\n",
    "    if offset + count >= total:\n",
    "        break  # Exit the loop if all pages have been processed\n",
    "\n",
    "    offset += count\n",
    "\n",
    "# character_dict now contains the names and descriptions\n"
   ]
  },
  {
   "cell_type": "code",
   "execution_count": null,
   "id": "0f0ed82c-8e26-44b3-a1ea-67143ab65161",
   "metadata": {},
   "outputs": [],
   "source": [
    "character_dict"
   ]
  },
  {
   "cell_type": "code",
   "execution_count": null,
   "id": "1c9b8542-7719-412c-b240-958ea8bdbbef",
   "metadata": {},
   "outputs": [],
   "source": [
    "type(character_dict)"
   ]
  },
  {
   "cell_type": "code",
   "execution_count": 54,
   "id": "83233f7c-3820-4697-80a6-c25423cc7b26",
   "metadata": {},
   "outputs": [
    {
     "name": "stdout",
     "output_type": "stream",
     "text": [
      "Name: Violations\n",
      "Description: \n",
      "\n",
      "Name: Viper\n",
      "Description: After the apparent death of Baron von Strucker, Viper took the name Madame Hydra and took control of the New York-based faction of Hydra.\n",
      "\n",
      "Name: Virginia Dare\n",
      "Description: \n",
      "\n",
      "Name: Vision\n",
      "Description: The metal monstrosity called Ultron created the synthetic humanoid known as the Vision from the remains of the original android Human Torch of the 1940s to serve as a vehicle of vengeance against the Avengers.\n",
      "\n",
      "Name: Vivisector\n",
      "Description: \n",
      "\n",
      "Name: Vulcan (Gabriel Summers)\n",
      "Description: Vulcan is the third Summers brother and an Omega-level mutant who was thought long-dead by Professor X.\n",
      "\n",
      "Name: Vulture (Adrian Toomes)\n",
      "Description: Adrian Toomes is a former electronics engineer who employs a special harness of his own design that allows him to fly and endows him with enhanced strength.\n",
      "\n",
      "Name: Vulture (Blackie Drago)\n",
      "Description: Adrian Toomes, the Vulture, told his cellmate, Blackie Drago, the location of his Vulture costume.\n",
      "\n",
      "Name: Wallflower\n",
      "Description: Laurie Collins began to involuntarily manipulate anyone around her once her genetic mutation manifested, unable to control its effects.\n",
      "\n",
      "Name: Wallop\n",
      "Description: Walter was born, presumably in the decade of 1910s, into the ClanDestine-- his father, the immortal Adam Destine and his mother a magical genie.\n",
      "\n",
      "Name: Wallow\n",
      "Description: Max Pressman murdered his wife and attempted to murder his two children Michael and Melinda, but after police officer shot him before he could so, Pressman returned as a ghost-like entity, with only the face of Melinda's doll as his own.\n",
      "\n",
      "Name: War (Abraham Kieros)\n",
      "Description: A young veteran wounded during the Vietnam War, Abraham Kieros was selected by Apocalypse to become the Horseman War.\n",
      "\n",
      "Name: War Machine (Iron Man 3 - The Official Game)\n",
      "Description: \n",
      "\n",
      "Name: War Machine (James Rhodes)\n",
      "Description: <span style=\"color: #333333; font-family: &amp;amp;amp; font-size: 14.4px; letter-spacing: normal; line-height: normal; background-color: #eeeeee;\">U.S. Air Force pilot and Tony Stark's friend who has his own suit of Iron Man armor, nicknamed, \"War Machine.\"</span>\n",
      "\n",
      "Name: War Machine (Marvel: Avengers Alliance)\n",
      "Description: \n",
      "\n",
      "Name: War Machine (Parnell Jacobs)\n",
      "Description: Parnell Jacobs was a member of the U.S. Army who fought in Sin-Congese civil war in Asia alongside Jim Rhodes and who later encountered the discarded armor of Rhodes' superhero alter-ego, War Machine, which Jacobs studied used for the basis of many arms designs.\n",
      "\n",
      "Name: War Machine (Ultimate)\n",
      "Description: \n",
      "\n",
      "Name: Warbird\n",
      "Description: \n",
      "\n",
      "Name: Warbound\n",
      "Description: \n",
      "\n",
      "Name: Warhawk (Mitchell Tanner)\n",
      "Description: \n",
      "\n",
      "Name: Warlock (Janie Chin)\n",
      "Description: College design student Janie Chin was transformed by Adam Warlock into a female version of him, who then tried to cure the planet.\n",
      "\n",
      "Name: Warlock (Technarchy)\n",
      "Description: The New Mutants' Warlock is an alien being from an unidentified world where the a sentient life forms are \"techno-organic\" life that resembles circuitry and machinery in various ways.\n",
      "\n",
      "Name: Warpath\n",
      "Description: James Proudstar was once a member of Professor X's New Mutants and is currently a member of the X-Men black ops team, X-Force.\n",
      "\n",
      "Name: Warren Worthington III\n",
      "Description: \n",
      "\n",
      "Name: Warstar\n",
      "Description: Warstar, a former member of the Imperial Guard, was one of eight Imperial Guardsmen chosen to battle the team of superhuman Earthling mutants known as the X-Men over the fate of Phoenix, a primal force of the cosmos that had assumed the form of the X-Man Jean Grey.\n",
      "\n",
      "Name: Wasp\n",
      "Description: When Janet Van Dyne's father died, she convinced her father's associate Hank Pym to give her a supply of \"Pym particles\"; Pym also subjected her to a procedure which granted her the ability to, upon shrinking, grow wings and fire blasts of energy, which she called her \"wasp's stings.\"\n",
      "\n",
      "Name: Wasp (Ultimate)\n",
      "Description: Janet Van Dyne has the ability to shrink down to the size of an insect and has the insect-like properties of her namesake, the wasp.\n",
      "\n",
      "Name: Wave (Wave)\n",
      "Description: \n",
      "\n",
      "Name: Weapon Omega\n",
      "Description: \n",
      "\n",
      "Name: Weapon X\n",
      "Description: \n",
      "\n",
      "Name: Wendell Rand\n",
      "Description: \n",
      "\n",
      "Name: Wendell Vaughn\n",
      "Description: \n",
      "\n",
      "Name: Wendigo\n",
      "Description: \n",
      "\n",
      "Name: Werewolf By Night\n",
      "Description: Jack Russell inherited the curse of lycanthropy from his father, Gregor.\n",
      "\n",
      "Name: Whiplash (Anton Vanko)\n",
      "Description: Anton Vanko built his own Iron Man armor using a discarded Mark 16 chest plate, intent on exacting his revenge against Tony Stark for what Vanko believed was Stark's involvement in the death of his father.\n",
      "\n",
      "Name: Whiplash (Mark Scarlotti)\n",
      "Description: Filled with dreams of grandeur, Mark Scarlotti was a brilliant young man with a bright future who graduated with top honors from college and immediately had a promising job at Stark International, but it all went south, however, when he became friends with the wrong people who wanted him to develop weapons, which Scarlotti used to become the first Whiplash.\n",
      "\n",
      "Name: Whirlwind\n",
      "Description: David Cannon was always a bully, so his mutant abilities naturally led him to a life of crime and petty thievery, until his constant defeat at the hands of the Hank Pym and the Wasp led him to create the Whirlwind identity.\n",
      "\n",
      "Name: Whistler\n",
      "Description: \n",
      "\n",
      "Name: White Queen (Adrienne Frost)\n",
      "Description: \n",
      "\n",
      "Name: White Tiger (Angela Del Toro)\n",
      "Description: Federal agent Angela Del Toro is the heir to a heroic legacy that began with the Jade Tiger, a long-lost enchanted statue from the fabled kingdom of K'un-Lun, and had been last held by her uncle, Hector Ayala, who fought alongside such heroes as Daredevil and Spider-Man.\n",
      "\n",
      "Name: White Tiger (USM)\n",
      "Description: White Tiger takes everything very seriously. A constant overachiever, she wants to be better and wants the group to be better. With less flashy powers, she feels like she has to work the hardest. \r\n",
      " \r\n",
      "A skilled acrobatic fighter with feline senses and claws. Ava wears a small Tiger amulet on her belt that gives her supernatural powers.\r\n",
      "\r\n",
      "In the field, sheâ€™s constantly frustrated with Spider-Man and his irreverent attitude. But the longer the two fight side by side, the more they will understand one another.\n",
      "\n",
      "Name: Whizzer (Stanley Stewart)\n",
      "Description: Stanley Stewart is a native of the alternate Earth (Earth-S) on which the organization of the superhuman champions known as the Squadron Supreme arose.\n",
      "\n",
      "Name: Wiccan\n",
      "Description: Believing himself to be one of the Scarlet Witch's twin boys, Billy Kaplan also has reality-altering powers and is a member of the Young Avengers.\n",
      "\n",
      "Name: Wild Child\n",
      "Description: Kyle Gibney's mutant powers emerged at an early age and left him with a freakish appearance, horrifying his parents, who kicked him out of the house, where he was eventually found and experimented upon by the Secret Empire and, later, Department H, who dubbed Gibney Wild Child and placed him with Gamma Flight, the entry-level team whose recruits can eventually graduate to Alpha Flight.\n",
      "\n",
      "Name: Wild Child (Age of Apocalypse)\n",
      "Description: Kyle Gibney was one of the original volunteers for Beta Flight, Canada's attempt at building a super soldier program to secure their borders against the onslaught of Apocalypse and his Infinite soldiers.\n",
      "\n",
      "Name: Wild Pack\n",
      "Description: \n",
      "\n",
      "Name: Wildside\n",
      "Description: \n",
      "\n",
      "Name: William Stryker\n",
      "Description: William Stryker became convinced that Satan had a plot to corrupt humankind by taking over their souls while still in the womb, resulting in their mutations.\n",
      "\n",
      "Name: Wilson Fisk\n",
      "Description: \n",
      "\n",
      "Name: Wind Dancer\n",
      "Description: Given the codename Wind Dancer, Sofia Mantega stepped up to lead the New Mutants.\n",
      "\n",
      "Name: Winter Soldier\n",
      "Description: \n",
      "\n",
      "Name: Wither\n",
      "Description: When his genetic mutation manifested, Kevin Ford accidentally killed his father with his lethal and uncontrollable touch, after which he was recruited as a student at the Xavier Institute.\n",
      "\n",
      "Name: Wolf Cub\n",
      "Description: Nicholas Gleason enrolled at the Xavier Institute after being saved from a pair of mutant-haters by X-Men members Cyclops and Chamber.\n",
      "\n",
      "Name: Wolfpack\n",
      "Description: \n",
      "\n",
      "Name: Wolfsbane\n",
      "Description: Rahne Sinclair was an orphan in Scotland, raised by Reverend Craig, who, when her powers manifested, attempted to perform an exorcism to cast out what he perceived was the devil, after which Rahne was rescued by Doctor Moira MacTaggert who legally adopted her, and was introduced to Charles Xavier and enrolled as part of his New Mutants training team.\n",
      "\n",
      "Name: Wolfsbane (Age of Apocalypse)\n",
      "Description: An only child, Rahne Sinclair's mutant powers emerged during the culling of Scotland by the Apocalypse's Horseman Mikhail when her parents attempted to hide her, but failed, and Rahne was discovered by Mikhail's hounds and brought before him alongside her parents whom Mikhail made Rahne beg for their lives, making her pledge allegiance to Apocalypse.\n",
      "\n",
      "Name: Wolver-dok\n",
      "Description: \n",
      "\n",
      "Name: Wolverine\n",
      "Description: Born with super-human senses and the power to heal from almost any wound, Wolverine was captured by a secret Canadian organization and given an unbreakable skeleton and claws. Treated like an animal, it took years for him to control himself. Now, he's a premiere member of both the X-Men and the Avengers.\n",
      "\n",
      "Name: Wolverine (LEGO Marvel Super Heroes)\n",
      "Description: \n",
      "\n",
      "Name: Wolverine (Marvel War of Heroes)\n",
      "Description: \n",
      "\n",
      "Name: Wolverine (Ultimate)\n",
      "Description: Decades after participating in military airdrops with Captain America during WWII, James Howlett was abducted and experimented upon by a covert government unit, who bonded unbreakable adamantium to his skeleton, implanted three claws in each arm, dubbed him Weapon X and supposedly programmed him to kill any human he came into contact with.\n",
      "\n",
      "Name: Wolverine (X-Men: Battle of the Atom)\n",
      "Description: \n",
      "\n",
      "Name: Wonder Man\n",
      "Description: Simon Williams agreed to undergo an experiment to give him superhuman powers, and Baron Zemo gave him the costumed guise of Wonder Man, warning Simon that he would die without further treatments from Zemo in order to ensure his loyalty, but Simon betrayed Zemo to the Avengers and ultimately joined their ranks.\n",
      "\n",
      "Name: Wong\n",
      "Description: When Wong reached adulthood, the Ancient One sent him to the United States to his disciple, Doctor Stephen Strange, where has served Strange loyally and well for many years.\n",
      "\n",
      "Name: Wong (Ultimate)\n",
      "Description: \n",
      "\n",
      "Name: Wraith\n",
      "Description: \n",
      "\n",
      "Name: Wrecker\n",
      "Description: Dirk Garthwaite, the son of a construction worker and abusive father and husband, grew up filled with resentment and anger toward his father, who abandoned the family, and quickly turned to crime, in which he used a crowbar as a reminder of his father, destroying each place he robbed.\n",
      "\n",
      "Name: Wrecking Crew\n",
      "Description: \n",
      "\n",
      "Name: X-23\n",
      "Description: A clone of the mutant Wolverine, X-23 was trained as a living weapon by a secretive government agency.  Now residing with the X-Men, she strives to recover her stolen youth and become a fully realized person.\n",
      "\n",
      "Name: X-51\n",
      "Description: \n",
      "\n",
      "Name: X-Babies\n",
      "Description: \n",
      "\n",
      "Name: X-Cutioner\n",
      "Description: \n",
      "\n",
      "Name: X-Factor\n",
      "Description: \n",
      "\n",
      "Name: X-Factor Investigations\n",
      "Description: \n",
      "\n",
      "Name: X-Force\n",
      "Description: \n",
      "\n",
      "Name: X-Man\n",
      "Description: A clone of Nathan Summers (Cable), Nate Grey was created in the \"Age of Apocalypse\" timeline by that timeline's Mr. Sinister for the sole purpose of destroying Apocalypse.\n",
      "\n",
      "Name: X-Men\n",
      "Description: Feared and hated by humans because they're different, the X-Men are heroic mutants, individuals born with special powers who've sworn to use their gifts to protect mutants as well as humans.\n",
      "\n",
      "Name: X-Men (Ultimate)\n",
      "Description: \n",
      "\n",
      "Name: X-Ray (James Darnell)\n",
      "Description: James Darnell, along with his sister, was among the small group led by engineer Simon Utrecht to simulate the crash that gave the Fantastic Four their powers, and has remained with the U-Foes ever since.\n",
      "\n",
      "Name: X-Statix\n",
      "Description: \n",
      "\n",
      "Name: X.S.E.\n",
      "Description: \n",
      "\n",
      "Name: Xavin\n",
      "Description: \n",
      "\n",
      "Name: Xorn (Kuan-Yin Xorn)\n",
      "Description: Xorn, whose mutation manifested as a tiny, powerful star inside his head, was brainwashed into believing he was the reincarnation of Magneto.\n",
      "\n",
      "Name: Yellow Claw\n",
      "Description: The Yellow Claw is Plan Tzu, the 19th Century descendant of and rightful successor to the legendary warlord Temujin, a.k.a. Genghis Khan.\n",
      "\n",
      "Name: Yellowjacket (Hank Pym)\n",
      "Description: After brilliant scientist Henry Pym discovered a process in which he could manipulate a newly discovered group of subatomic particles through magnetic fields, he tested the serums on himself and accidentally shrunk himself to the size of an ant.\n",
      "\n",
      "Name: Yellowjacket (Rita DeMara)\n",
      "Description: Rita DeMara, hoping to show off her talent of engineering, stole a copy of the Yellowjacket costume from the Avengers Mansion.\n",
      "\n",
      "Name: Yondu\n",
      "Description: Yondu Udonta was a game hunter of the primitive Zatoan tribe, which were humanoid beings who were native to Centauri IV.\n",
      "\n",
      "Name: Young Avengers\n",
      "Description: \n",
      "\n",
      "Name: Young X-Men\n",
      "Description: \n",
      "\n",
      "Name: Zaladane\n",
      "Description: \n",
      "\n",
      "Name: Zaran\n",
      "Description: \n",
      "\n",
      "Name: Zarda\n",
      "Description: \n",
      "\n",
      "Name: Zarek\n",
      "Description: Zarek is a member of the Kree race with no superhuman abilities or specialized weaponry, but as a blue Kree, he has enhanced strength, stamina and durability.\n",
      "\n",
      "Name: Zeigeist\n",
      "Description: \n",
      "\n",
      "Name: Zemo\n",
      "Description: \n",
      "\n",
      "Name: Zeus\n",
      "Description: Zeus ruled a peaceful Olympus for centuries while he and his siblings populated the realm through interbreeding with humans, extradimensionals, Titans, and whatever else caught their fancy.\n",
      "\n",
      "Name: Zodiak\n",
      "Description: Twelve demons merged with Norman Harrison, who, soon after, adopted the guise of Zodiac and used his abilities to harness powers based on the astrological Zodiac.\n",
      "\n",
      "Name: Zombie (Simon Garth)\n",
      "Description: War hero Simon Garth was turned into a zombie by his secretary, Layla, who was also a voodoo priestess, after being killed by his gardener, Gyps.\n",
      "\n",
      "Name: Zuras\n",
      "Description: Zuras was once the leader of the Eternals.\n",
      "\n",
      "Name: Zzzax\n",
      "Description: A chain reaction in an atomic reactor, a result of a terrorist attack, accidentally created a force that absorbed the electrolytes of the nearby humans' brains, granting the explosion of energy a rudimentary sentience.  \n",
      "\n"
     ]
    }
   ],
   "source": [
    "#Print the last 100 entries\n",
    "# Convert the dictionary items to a list and slice the last 100 items\n",
    "last_100_characters = list(character_dict.items())[-100:]\n",
    "\n",
    "# Print each name and description pair\n",
    "for name, description in last_100_characters:\n",
    "    print(f\"Name: {name}\\nDescription: {description}\\n\")\n"
   ]
  },
  {
   "cell_type": "code",
   "execution_count": 59,
   "id": "4a950c46-1a8c-4807-9cc4-373264aaa9dc",
   "metadata": {},
   "outputs": [],
   "source": [
    "# Save as JSON\n",
    "with open('character_dict.json', 'w') as file:\n",
    "    json.dump(character_dict, file)"
   ]
  },
  {
   "cell_type": "code",
   "execution_count": null,
   "id": "b11cf095-9583-4206-8155-2a9acd5a4aad",
   "metadata": {},
   "outputs": [],
   "source": [
    "# Playing around"
   ]
  },
  {
   "cell_type": "code",
   "execution_count": 61,
   "id": "181b3737-eb4d-452a-b018-a1289f7f0d41",
   "metadata": {},
   "outputs": [
    {
     "data": {
      "text/plain": [
       "'When Janet Van Dyne\\'s father died, she convinced her father\\'s associate Hank Pym to give her a supply of \"Pym particles\"; Pym also subjected her to a procedure which granted her the ability to, upon shrinking, grow wings and fire blasts of energy, which she called her \"wasp\\'s stings.\"'"
      ]
     },
     "execution_count": 61,
     "metadata": {},
     "output_type": "execute_result"
    }
   ],
   "source": [
    "chain.invoke({\"input\": \"Who is the wasp?\"})"
   ]
  },
  {
   "cell_type": "code",
   "execution_count": 9,
   "id": "ea5cc2b6",
   "metadata": {},
   "outputs": [],
   "source": [
    "#create get_completion helper function\n",
    "def get_completion(prompt, model=\"gpt-4-1106-preview\"):\n",
    "    messages = [{\"role\": \"user\", \"content\": prompt}]\n",
    "    response = openai.ChatCompletion.create(\n",
    "        model=model,\n",
    "        messages=messages,\n",
    "        temperature =0, #this is the degree of randomness \n",
    "    )\n",
    "    return response.choices[0].message[\"content\"]"
   ]
  },
  {
   "cell_type": "code",
   "execution_count": 10,
   "id": "70795064",
   "metadata": {},
   "outputs": [],
   "source": [
    "#Load the json file\n",
    "# Load the JSON file\n",
    "with open('marvel_character_dict.json', 'r') as file:\n",
    "    marvel_character_dict = json.load(file)"
   ]
  },
  {
   "cell_type": "code",
   "execution_count": 11,
   "id": "37a19eff",
   "metadata": {},
   "outputs": [
    {
     "name": "stdout",
     "output_type": "stream",
     "text": [
      "Based on the character dictionary provided, the following characters have a close relation to insects:\n",
      "\n",
      "1. **Spider-Man (Peter Parker)** - Bitten by a radioactive spider, he gained the speed, strength, and powers of a spider.\n",
      "2. **Wasp** - Janet Van Dyne can shrink to insect size, has wings, and can fire bio-electric energy blasts.\n",
      "3. **Ant-Man (Hank Pym)** - Has the ability to shrink to the size of an ant and communicate with ants.\n",
      "4. **Ant-Man (Scott Lang)** - Inherits the Ant-Man suit and powers from Hank Pym.\n",
      "5. **Ant-Man (Eric O'Grady)** - Another character who takes on the Ant-Man mantle with similar powers.\n",
      "6. **Yellowjacket (Hank Pym)** - Another superhero identity of Hank Pym, with similar powers to Ant-Man.\n",
      "7. **Yellowjacket (Rita DeMara)** - A character who stole the Yellowjacket costume and powers.\n",
      "8. **Spider-Woman (Jessica Drew)** - Has powers similar to Spider-Man, including wall-crawling and a venom blast.\n",
      "9. **Spider-Girl (May Parker)** - The daughter of Spider-Man, with similar spider-based powers.\n",
      "10. **Araña** - A young superheroine with spider-like abilities.\n",
      "11. **Black Widow** - While not having insect powers, her codename is inspired by the black widow spider.\n",
      "12. **Mantis** - Has empathic abilities and martial arts skills, and her name and some characteristics are inspired by the praying mantis.\n",
      "13. **Beetle (Abner Jenkins)** - Uses a suit of armor with various weapons and flight capabilities, themed after a beetle.\n",
      "14. **Hornet (Eddie McDonough)** - A character who uses a suit that grants him flight and energy blasts, themed after a hornet.\n",
      "15. **Scorpion (Mac Gargan)** - Has a mechanical scorpion-like tail as part of his suit and enhanced strength and agility.\n",
      "16. **Wasp (Ultimate)** - An alternate universe version of the Wasp with similar powers.\n",
      "17. **Spider-Woman (Mattie Franklin)** - Inherits powers similar to Spider-Man's.\n",
      "18. **Spider-Woman (Charlotte Witter)** - Another character with spider-like powers.\n",
      "19. **Arachne** - A character with spider-like abilities.\n",
      "20. **Spider-Girl (Anya Corazon)** - A teenage superheroine with spider-like powers.\n",
      "21. **Humbug** - A character who can communicate with insects.\n",
      "22. **Butterfly** - While not much is detailed in the dictionary, the name suggests an insect theme.\n",
      "\n",
      "Please note that some characters may have insect-themed names or powers but are not directly related to insects in their origin or abilities.\n"
     ]
    }
   ],
   "source": [
    "#Interrogating the Marvel characters\n",
    "prompt = f\"\"\"\n",
    "The following Marvel character dictionary is delimited with triple backticks.\n",
    "Which of the characters have a close relation to insects?\n",
    "\n",
    "Character dictionary: '''{marvel_character_dict}'''\n",
    "\"\"\"\n",
    "\n",
    "response = get_completion(prompt)\n",
    "print(response)"
   ]
  },
  {
   "cell_type": "code",
   "execution_count": null,
   "id": "ea66346f",
   "metadata": {},
   "outputs": [],
   "source": []
  }
 ],
 "metadata": {
  "kernelspec": {
   "display_name": "Python 3 (ipykernel)",
   "language": "python",
   "name": "python3"
  },
  "language_info": {
   "codemirror_mode": {
    "name": "ipython",
    "version": 3
   },
   "file_extension": ".py",
   "mimetype": "text/x-python",
   "name": "python",
   "nbconvert_exporter": "python",
   "pygments_lexer": "ipython3",
   "version": "3.10.13"
  },
  "toc": {
   "base_numbering": 1,
   "nav_menu": {},
   "number_sections": true,
   "sideBar": true,
   "skip_h1_title": false,
   "title_cell": "Table of Contents",
   "title_sidebar": "Contents",
   "toc_cell": false,
   "toc_position": {},
   "toc_section_display": true,
   "toc_window_display": false
  }
 },
 "nbformat": 4,
 "nbformat_minor": 5
}
