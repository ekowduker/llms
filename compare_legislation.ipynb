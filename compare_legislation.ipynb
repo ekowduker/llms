{
 "cells": [
  {
   "cell_type": "markdown",
   "id": "16de7336",
   "metadata": {},
   "source": [
    "# Comparing legislation"
   ]
  },
  {
   "cell_type": "markdown",
   "id": "eaad1bd2",
   "metadata": {},
   "source": [
    "In this notebook I use a language model to compare pieces of legislation."
   ]
  },
  {
   "cell_type": "code",
   "execution_count": 1,
   "id": "7e6c3cbe",
   "metadata": {},
   "outputs": [
    {
     "name": "stdout",
     "output_type": "stream",
     "text": [
      "Python 3.9.17\r\n"
     ]
    }
   ],
   "source": [
    "!python --version"
   ]
  },
  {
   "cell_type": "code",
   "execution_count": 2,
   "id": "2af0acab",
   "metadata": {},
   "outputs": [
    {
     "name": "stdout",
     "output_type": "stream",
     "text": [
      "openai 0.27.10\r\n"
     ]
    }
   ],
   "source": [
    "!openai --version"
   ]
  },
  {
   "cell_type": "code",
   "execution_count": 3,
   "id": "cb41f5f4-df8d-4d04-9eaa-193b8c29b00b",
   "metadata": {
    "tags": []
   },
   "outputs": [],
   "source": [
    "import os\n",
    "import openai\n",
    "\n",
    "from dotenv import load_dotenv, find_dotenv\n",
    "_ = load_dotenv(find_dotenv()) # read local .env file\n",
    "openai.api_key = os.environ['OPENAI_API_KEY']"
   ]
  },
  {
   "cell_type": "markdown",
   "id": "4ee5a87b",
   "metadata": {},
   "source": [
    "Load the documents"
   ]
  },
  {
   "cell_type": "code",
   "execution_count": 4,
   "id": "329e9eb3",
   "metadata": {},
   "outputs": [],
   "source": [
    "from pydantic import BaseModel, Field\n",
    "\n",
    "from langchain.chat_models import ChatOpenAI\n",
    "from langchain.agents import Tool\n",
    "from langchain.embeddings.openai import OpenAIEmbeddings\n",
    "from langchain.text_splitter import CharacterTextSplitter\n",
    "from langchain.vectorstores import FAISS\n",
    "from langchain.document_loaders import PyPDFLoader\n",
    "from langchain.chains import RetrievalQA"
   ]
  },
  {
   "cell_type": "code",
   "execution_count": 5,
   "id": "aa6baecb",
   "metadata": {},
   "outputs": [],
   "source": [
    "path_to_popi_act = \"/Users/ekowduker/Library/Mobile Documents/com~apple~CloudDocs/Desktop/The AI Shop/comparing_legislation/protection_of_personal_information.pdf\"\n",
    "path_to_cybercrime_act = \"/Users/ekowduker/Library/Mobile Documents/com~apple~CloudDocs/Desktop/The AI Shop/comparing_legislation/cybercrime.pdf\""
   ]
  },
  {
   "cell_type": "code",
   "execution_count": 6,
   "id": "23fe8752-104b-4672-a024-8ef182bde883",
   "metadata": {},
   "outputs": [],
   "source": [
    "class DocumentInput(BaseModel):\n",
    "    question: str = Field()\n",
    "\n",
    "\n",
    "llm = ChatOpenAI(temperature=0, model=\"gpt-4-1106-preview\")\n",
    "\n",
    "tools = []\n",
    "files = [\n",
    "    # Protection of Personal Information Act 2013\n",
    "    {\n",
    "        \"name\": \"protection_of_personal_information_act\",\n",
    "        \"path\": path_to_popi_act,\n",
    "    },\n",
    "    # Cybercrimes Act 2020\n",
    "    {\n",
    "        \"name\": \"cybercrimes_act\",\n",
    "        \"path\": path_to_cybercrime_act,\n",
    "    },\n",
    "]\n",
    "\n",
    "for file in files:\n",
    "    loader = PyPDFLoader(file[\"path\"])\n",
    "    pages = loader.load_and_split()\n",
    "    text_splitter = CharacterTextSplitter(chunk_size=1000, chunk_overlap=0)\n",
    "    docs = text_splitter.split_documents(pages)\n",
    "    embeddings = OpenAIEmbeddings()\n",
    "    retriever = FAISS.from_documents(docs, embeddings).as_retriever()\n",
    "\n",
    "    # Wrap retrievers in a Tool\n",
    "    tools.append(\n",
    "        Tool(\n",
    "            args_schema=DocumentInput,\n",
    "            name=file[\"name\"],\n",
    "            description=f\"useful when you want to answer questions about {file['name']}\",\n",
    "            func=RetrievalQA.from_chain_type(llm=llm, retriever=retriever),\n",
    "        )\n",
    "    )"
   ]
  },
  {
   "cell_type": "code",
   "execution_count": 7,
   "id": "918dd6d5-fec4-4d08-be91-6b0bb56340ae",
   "metadata": {},
   "outputs": [],
   "source": [
    "from langchain.agents import initialize_agent\n",
    "from langchain.agents import AgentType"
   ]
  },
  {
   "cell_type": "code",
   "execution_count": 8,
   "id": "caf6b3ac-0367-4bf9-b01b-acebd6d1cfbf",
   "metadata": {},
   "outputs": [],
   "source": [
    "llm = ChatOpenAI(\n",
    "    temperature=0,\n",
    "    model = \"gpt-4-1106-preview\"\n",
    ")\n",
    "\n",
    "agent = initialize_agent(\n",
    "    agent=AgentType.OPENAI_FUNCTIONS,\n",
    "    tools=tools,\n",
    "    llm=llm,\n",
    "    verbose=True,\n",
    ")"
   ]
  },
  {
   "cell_type": "code",
   "execution_count": 9,
   "id": "9760ef13",
   "metadata": {},
   "outputs": [
    {
     "name": "stdout",
     "output_type": "stream",
     "text": [
      "\n",
      "\n",
      "\u001b[1m> Entering new AgentExecutor chain...\u001b[0m\n",
      "\u001b[32;1m\u001b[1;3m\n",
      "Invoking: `protection_of_personal_information_act` with `{'question': 'What is the POPI Act about?'}`\n",
      "\n",
      "\n",
      "\u001b[0m\u001b[36;1m\u001b[1;3m{'query': 'What is the POPI Act about?', 'result': 'The Protection of Personal Information Act (POPI Act), Act No. 4 of 2013, is a South African law designed to promote the protection of personal information processed by public and private bodies. It introduces conditions to establish minimum requirements for the processing of personal information and provides for the establishment of an Information Regulator to exercise certain powers and perform certain duties and functions in terms of this Act and the Promotion of Access to Information Act, 2000.\\n\\nThe Act aims to regulate the processing of personal information in harmony with international standards, ensuring that the right to privacy is respected while also considering the need for economic and social progress within the information society. It addresses the lawful processing of personal information, the rights of data subjects, and the regulation of the flow of personal information across the borders of the Republic of South Africa.\\n\\nThe POPI Act includes several key conditions for the lawful processing of personal information, such as accountability, processing limitation, purpose specification, further processing limitation, and information quality. It also provides for the rights of persons regarding unsolicited electronic communications and automated decision-making.'}\u001b[0m\u001b[32;1m\u001b[1;3mThe Protection of Personal Information Act (POPI Act), Act No. 4 of 2013, is a South African law that promotes the protection of personal information processed by both public and private bodies. It establishes minimum requirements for the processing of personal information and sets up an Information Regulator to oversee and enforce compliance with the Act, as well as the Promotion of Access to Information Act, 2000.\n",
      "\n",
      "The POPI Act aims to align the processing of personal information with international standards, balancing the right to privacy with the need for economic and social progress in the information society. It outlines lawful processing conditions, including accountability, processing limitation, purpose specification, further processing limitation, and information quality. Additionally, it upholds the rights of individuals concerning unsolicited electronic communications and automated decision-making, and it regulates the cross-border flow of personal information from South Africa.\u001b[0m\n",
      "\n",
      "\u001b[1m> Finished chain.\u001b[0m\n",
      "The Protection of Personal Information Act (POPI Act), Act No. 4 of 2013, is a South African law that promotes the protection of personal information processed by both public and private bodies. It establishes minimum requirements for the processing of personal information and sets up an Information Regulator to oversee and enforce compliance with the Act, as well as the Promotion of Access to Information Act, 2000.\n",
      "\n",
      "The POPI Act aims to align the processing of personal information with international standards, balancing the right to privacy with the need for economic and social progress in the information society. It outlines lawful processing conditions, including accountability, processing limitation, purpose specification, further processing limitation, and information quality. Additionally, it upholds the rights of individuals concerning unsolicited electronic communications and automated decision-making, and it regulates the cross-border flow of personal information from South Africa.\n"
     ]
    }
   ],
   "source": [
    "answer = agent({\"input\": f\"what is the popi act about?\"})\n",
    "print(answer['output'])"
   ]
  },
  {
   "cell_type": "code",
   "execution_count": 8,
   "id": "9354d5f8",
   "metadata": {},
   "outputs": [
    {
     "name": "stdout",
     "output_type": "stream",
     "text": [
      "\n",
      "\n",
      "\u001b[1m> Entering new AgentExecutor chain...\u001b[0m\n",
      "\u001b[32;1m\u001b[1;3mThe Protection of Personal Information Act (POPIA) is South Africa's data protection law that governs the processing of personal information. It was signed into law on November 19, 2013, and parts of the Act have been put into effect incrementally, with the latest sections coming into force on July 1, 2020. The Act aims to promote the protection of personal information processed by public and private bodies and to establish minimum requirements for the processing of such information.\n",
      "\n",
      "Here is a detailed summary of the key aspects of the POPI Act:\n",
      "\n",
      "1. **Scope and Application**: The POPI Act applies to the processing of personal information entered into a record by or for a responsible party by making use of automated or non-automated means. It applies to those within South Africa and sometimes to parties outside South Africa if they process personal information within the country.\n",
      "\n",
      "2. **Conditions for Lawful Processing**: The Act sets out eight conditions for the lawful processing of personal information. These include accountability, processing limitation, purpose specification, further processing limitation, information quality, openness, security safeguards, and data subject participation.\n",
      "\n",
      "3. **Data Subject Rights**: The Act grants various rights to individuals (data subjects) regarding their personal information. These rights include the right to be notified that personal information is being collected, the right to access and correct information, and the right to object to the processing of personal information.\n",
      "\n",
      "4. **Special Personal Information**: The Act provides additional protection for special categories of personal information, which include information about children, religious or philosophical beliefs, race or ethnic origin, trade union membership, political persuasion, health or sex life, biometric information, and criminal behavior.\n",
      "\n",
      "5. **Accountability**: The responsible party (the entity that determines the purpose and means of processing personal information) is required to ensure compliance with the Act and is accountable for any personal information processed.\n",
      "\n",
      "6. **Information Officer**: The Act requires the appointment of an Information Officer who is responsible for encouraging compliance with the conditions for the lawful processing of personal information and dealing with requests made to the body pursuant to the Act.\n",
      "\n",
      "7. **Cross-Border Transfer of Information**: The Act restricts the transfer of personal information to third parties in foreign countries unless certain conditions are met, such as the recipient being subject to a law, binding corporate rules, or binding agreement that provides an adequate level of protection.\n",
      "\n",
      "8. **Direct Marketing**: The Act sets rules for direct marketing by means of unsolicited electronic communications, including the requirement for data subjects to give their consent.\n",
      "\n",
      "9. **Codes of Conduct**: The Act allows for the development of codes of conduct to provide guidelines for the processing of personal information within specific sectors.\n",
      "\n",
      "10. **Remedies**: The Act provides for the enforcement of its provisions, including the establishment of an Information Regulator to handle complaints, conduct investigations, and enforce compliance. It also provides for civil remedies for data subjects, including the right to sue for damages.\n",
      "\n",
      "11. **Penalties**: Non-compliance with the POPI Act can lead to significant penalties, including fines and imprisonment.\n",
      "\n",
      "The POPI Act is comprehensive and aligns with international data protection standards, aiming to balance the right to privacy with other rights, such as access to information, and to protect individuals from harm by requiring responsible parties to process personal information in a lawful, fair, and transparent manner.\u001b[0m\n",
      "\n",
      "\u001b[1m> Finished chain.\u001b[0m\n",
      "The Protection of Personal Information Act (POPIA) is South Africa's data protection law that governs the processing of personal information. It was signed into law on November 19, 2013, and parts of the Act have been put into effect incrementally, with the latest sections coming into force on July 1, 2020. The Act aims to promote the protection of personal information processed by public and private bodies and to establish minimum requirements for the processing of such information.\n",
      "\n",
      "Here is a detailed summary of the key aspects of the POPI Act:\n",
      "\n",
      "1. **Scope and Application**: The POPI Act applies to the processing of personal information entered into a record by or for a responsible party by making use of automated or non-automated means. It applies to those within South Africa and sometimes to parties outside South Africa if they process personal information within the country.\n",
      "\n",
      "2. **Conditions for Lawful Processing**: The Act sets out eight conditions for the lawful processing of personal information. These include accountability, processing limitation, purpose specification, further processing limitation, information quality, openness, security safeguards, and data subject participation.\n",
      "\n",
      "3. **Data Subject Rights**: The Act grants various rights to individuals (data subjects) regarding their personal information. These rights include the right to be notified that personal information is being collected, the right to access and correct information, and the right to object to the processing of personal information.\n",
      "\n",
      "4. **Special Personal Information**: The Act provides additional protection for special categories of personal information, which include information about children, religious or philosophical beliefs, race or ethnic origin, trade union membership, political persuasion, health or sex life, biometric information, and criminal behavior.\n",
      "\n",
      "5. **Accountability**: The responsible party (the entity that determines the purpose and means of processing personal information) is required to ensure compliance with the Act and is accountable for any personal information processed.\n",
      "\n",
      "6. **Information Officer**: The Act requires the appointment of an Information Officer who is responsible for encouraging compliance with the conditions for the lawful processing of personal information and dealing with requests made to the body pursuant to the Act.\n",
      "\n",
      "7. **Cross-Border Transfer of Information**: The Act restricts the transfer of personal information to third parties in foreign countries unless certain conditions are met, such as the recipient being subject to a law, binding corporate rules, or binding agreement that provides an adequate level of protection.\n",
      "\n",
      "8. **Direct Marketing**: The Act sets rules for direct marketing by means of unsolicited electronic communications, including the requirement for data subjects to give their consent.\n",
      "\n",
      "9. **Codes of Conduct**: The Act allows for the development of codes of conduct to provide guidelines for the processing of personal information within specific sectors.\n",
      "\n",
      "10. **Remedies**: The Act provides for the enforcement of its provisions, including the establishment of an Information Regulator to handle complaints, conduct investigations, and enforce compliance. It also provides for civil remedies for data subjects, including the right to sue for damages.\n",
      "\n",
      "11. **Penalties**: Non-compliance with the POPI Act can lead to significant penalties, including fines and imprisonment.\n",
      "\n",
      "The POPI Act is comprehensive and aligns with international data protection standards, aiming to balance the right to privacy with other rights, such as access to information, and to protect individuals from harm by requiring responsible parties to process personal information in a lawful, fair, and transparent manner.\n"
     ]
    }
   ],
   "source": [
    "answer = agent({\"input\": f\"give me a detailed summary of the popi act\"})\n",
    "print(answer['output'])"
   ]
  },
  {
   "cell_type": "code",
   "execution_count": 9,
   "id": "b31bb740-2d2a-4fc8-8887-4e9da113e82d",
   "metadata": {},
   "outputs": [
    {
     "name": "stdout",
     "output_type": "stream",
     "text": [
      "\n",
      "\n",
      "\u001b[1m> Entering new AgentExecutor chain...\u001b[0m\n",
      "\u001b[32;1m\u001b[1;3m\n",
      "Invoking: `cybercrimes_act` with `{'question': 'What is the Cybercrimes Act about?'}`\n",
      "\n",
      "\n",
      "\u001b[0m\u001b[33;1m\u001b[1;3m{'query': 'What is the Cybercrimes Act about?', 'result': 'The Cybercrimes Act, 2020 is a South African law that aims to address cybercrime and protect against harmful data messages. It creates offenses related to cybercrime, criminalizes the disclosure of harmful data messages, and provides for interim protection orders. The Act also regulates jurisdiction in cybercrime cases, powers to investigate cybercrimes, mutual assistance in investigations, and the establishment of a designated Point of Contact. It imposes obligations to report cybercrimes, provides for capacity building, and allows the Executive to enter into agreements with foreign states to combat cybercrimes. The Act also includes provisions for the deletion and amendment of certain laws related to cybercrimes.'}\u001b[0m\u001b[32;1m\u001b[1;3mThe Cybercrimes Act, 2020 is a South African law designed to combat cybercrime and protect individuals against harmful data messages. The Act:\n",
      "\n",
      "- Creates offenses related to various forms of cybercrime.\n",
      "- Criminalizes the disclosure of harmful data messages.\n",
      "- Provides for interim protection orders.\n",
      "- Regulates jurisdiction in cybercrime cases.\n",
      "- Outlines powers to investigate cybercrimes.\n",
      "- Facilitates mutual assistance in cybercrime investigations.\n",
      "- Establishes a designated Point of Contact for such matters.\n",
      "- Imposes obligations on certain parties to report cybercrimes.\n",
      "- Provides for capacity building to deal with cybercrimes.\n",
      "- Allows the Executive to enter into agreements with foreign states to combat cybercrimes.\n",
      "- Includes provisions for the deletion and amendment of certain laws related to cybercrimes.\n",
      "\n",
      "The Act is comprehensive in its approach to addressing the challenges posed by cybercrime and ensuring that there are mechanisms in place to protect citizens and their data in the digital space.\u001b[0m\n",
      "\n",
      "\u001b[1m> Finished chain.\u001b[0m\n",
      "The Cybercrimes Act, 2020 is a South African law designed to combat cybercrime and protect individuals against harmful data messages. The Act:\n",
      "\n",
      "- Creates offenses related to various forms of cybercrime.\n",
      "- Criminalizes the disclosure of harmful data messages.\n",
      "- Provides for interim protection orders.\n",
      "- Regulates jurisdiction in cybercrime cases.\n",
      "- Outlines powers to investigate cybercrimes.\n",
      "- Facilitates mutual assistance in cybercrime investigations.\n",
      "- Establishes a designated Point of Contact for such matters.\n",
      "- Imposes obligations on certain parties to report cybercrimes.\n",
      "- Provides for capacity building to deal with cybercrimes.\n",
      "- Allows the Executive to enter into agreements with foreign states to combat cybercrimes.\n",
      "- Includes provisions for the deletion and amendment of certain laws related to cybercrimes.\n",
      "\n",
      "The Act is comprehensive in its approach to addressing the challenges posed by cybercrime and ensuring that there are mechanisms in place to protect citizens and their data in the digital space.\n"
     ]
    }
   ],
   "source": [
    "answer = agent({\"input\": \"what is the cybercrime act about?\"})\n",
    "print(answer['output'])"
   ]
  },
  {
   "cell_type": "code",
   "execution_count": 10,
   "id": "15afc439",
   "metadata": {},
   "outputs": [
    {
     "name": "stdout",
     "output_type": "stream",
     "text": [
      "\n",
      "\n",
      "\u001b[1m> Entering new AgentExecutor chain...\u001b[0m\n",
      "\u001b[32;1m\u001b[1;3m\n",
      "Invoking: `cybercrimes_act` with `{'question': 'Can you provide a detailed summary of the Cybercrimes Act?'}`\n",
      "\n",
      "\n",
      "\u001b[0m\u001b[33;1m\u001b[1;3m{'query': 'Can you provide a detailed summary of the Cybercrimes Act?', 'result': 'The Cybercrimes Act, 2020 is a piece of legislation enacted by the Parliament of the Republic of South Africa. It aims to address cybercrime and create offenses related to cybercrime. The Act criminalizes the disclosure of harmful data messages and provides for interim protection orders. It also regulates jurisdiction in relation to cybercrimes and the powers to investigate such crimes.\\n\\nThe Act covers various aspects of cybercrime, including unlawful access, unlawful interception of data, unlawful acts in respect of software or hardware tools, and unlawful interference with data or computer programs. It also addresses malicious communications and provides for sentencing and orders to protect complainants from the harmful effects of malicious communications.\\n\\nThe Act includes provisions for the establishment of a designated Point of Contact and the proof of certain facts by affidavit. It imposes obligations to report cybercrimes and provides for capacity building in dealing with cybercrimes. The Act also allows the Executive to enter into agreements with foreign states to promote measures aimed at detecting, preventing, mitigating, and investigating cybercrimes.\\n\\nIn addition, the Act includes provisions for the deletion and amendment of certain laws to align them with the provisions of the Cybercrimes Act. It covers matters connected to cybercrimes and provides a framework for addressing cybercrime in South Africa.\\n\\nPlease note that this summary is based on the available context and may not cover all the details and provisions of the Cybercrimes Act, 2020. For a comprehensive understanding of the Act, it is recommended to refer to the full text of the legislation.'}\u001b[0m\u001b[32;1m\u001b[1;3mThe Cybercrimes Act, 2020, is a comprehensive piece of legislation enacted by the Parliament of the Republic of South Africa to combat cybercrime. Here is a detailed summary of the Act:\n",
      "\n",
      "1. **Purpose**: The Act is designed to address various forms of cybercrime by creating offenses and penalties related to cybercrime activities.\n",
      "\n",
      "2. **Offenses**: The Act criminalizes a range of activities, including:\n",
      "   - Unlawful access to data or systems.\n",
      "   - Unlawful interception of data.\n",
      "   - Unlawful acts concerning software or hardware tools designed for committing cybercrime.\n",
      "   - Unlawful interference with data or computer programs.\n",
      "   - Disclosure of harmful data messages.\n",
      "\n",
      "3. **Protection Orders**: It provides for interim protection orders to safeguard complainants from the harmful effects of malicious communications.\n",
      "\n",
      "4. **Jurisdiction and Investigation**: The Act regulates jurisdiction in relation to cybercrimes and outlines the powers to investigate cybercrime offenses.\n",
      "\n",
      "5. **Malicious Communications**: It addresses the issue of malicious communications and includes provisions for sentencing and orders to protect complainants.\n",
      "\n",
      "6. **Designated Point of Contact**: The Act mandates the establishment of a designated Point of Contact to facilitate the coordination of cybercrime investigations.\n",
      "\n",
      "7. **Reporting Obligations**: There are obligations imposed on individuals and organizations to report cybercrimes.\n",
      "\n",
      "8. **Capacity Building**: The Act provides for capacity building to enhance the capabilities of law enforcement and other stakeholders in dealing with cybercrimes.\n",
      "\n",
      "9. **International Cooperation**: It allows the South African Executive to enter into agreements with foreign states to promote measures for detecting, preventing, mitigating, and investigating cybercrimes.\n",
      "\n",
      "10. **Legal Amendments**: The Act includes provisions for the deletion and amendment of certain laws to ensure they are in line with the new cybercrime legislation.\n",
      "\n",
      "11. **Framework for Cybercrime**: It provides a framework for addressing the challenges of cybercrime in South Africa and covers matters connected to cybercrimes.\n",
      "\n",
      "Please note that this summary is based on the available context and may not cover all the details and provisions of the Cybercrimes Act, 2020. For a comprehensive understanding of the Act, it is recommended to refer to the full text of the legislation.\u001b[0m\n",
      "\n",
      "\u001b[1m> Finished chain.\u001b[0m\n",
      "The Cybercrimes Act, 2020, is a comprehensive piece of legislation enacted by the Parliament of the Republic of South Africa to combat cybercrime. Here is a detailed summary of the Act:\n",
      "\n",
      "1. **Purpose**: The Act is designed to address various forms of cybercrime by creating offenses and penalties related to cybercrime activities.\n",
      "\n",
      "2. **Offenses**: The Act criminalizes a range of activities, including:\n",
      "   - Unlawful access to data or systems.\n",
      "   - Unlawful interception of data.\n",
      "   - Unlawful acts concerning software or hardware tools designed for committing cybercrime.\n",
      "   - Unlawful interference with data or computer programs.\n",
      "   - Disclosure of harmful data messages.\n",
      "\n",
      "3. **Protection Orders**: It provides for interim protection orders to safeguard complainants from the harmful effects of malicious communications.\n",
      "\n",
      "4. **Jurisdiction and Investigation**: The Act regulates jurisdiction in relation to cybercrimes and outlines the powers to investigate cybercrime offenses.\n",
      "\n",
      "5. **Malicious Communications**: It addresses the issue of malicious communications and includes provisions for sentencing and orders to protect complainants.\n",
      "\n",
      "6. **Designated Point of Contact**: The Act mandates the establishment of a designated Point of Contact to facilitate the coordination of cybercrime investigations.\n",
      "\n",
      "7. **Reporting Obligations**: There are obligations imposed on individuals and organizations to report cybercrimes.\n",
      "\n",
      "8. **Capacity Building**: The Act provides for capacity building to enhance the capabilities of law enforcement and other stakeholders in dealing with cybercrimes.\n",
      "\n",
      "9. **International Cooperation**: It allows the South African Executive to enter into agreements with foreign states to promote measures for detecting, preventing, mitigating, and investigating cybercrimes.\n",
      "\n",
      "10. **Legal Amendments**: The Act includes provisions for the deletion and amendment of certain laws to ensure they are in line with the new cybercrime legislation.\n",
      "\n",
      "11. **Framework for Cybercrime**: It provides a framework for addressing the challenges of cybercrime in South Africa and covers matters connected to cybercrimes.\n",
      "\n",
      "Please note that this summary is based on the available context and may not cover all the details and provisions of the Cybercrimes Act, 2020. For a comprehensive understanding of the Act, it is recommended to refer to the full text of the legislation.\n"
     ]
    }
   ],
   "source": [
    "answer = agent({\"input\": f\"give me a detailed summary of the cybercrime act\"})\n",
    "print(answer['output'])"
   ]
  },
  {
   "cell_type": "code",
   "execution_count": 11,
   "id": "0cdcc19b-7b03-4d7e-a90d-1f8c33d1f9d9",
   "metadata": {},
   "outputs": [
    {
     "name": "stdout",
     "output_type": "stream",
     "text": [
      "\n",
      "\n",
      "\u001b[1m> Entering new AgentExecutor chain...\u001b[0m\n",
      "\u001b[32;1m\u001b[1;3m\n",
      "Invoking: `protection_of_personal_information_act` with `{'question': 'Does the Protection of Personal Information Act cover any aspects of cybercrimes or cyber security?'}`\n",
      "\n",
      "\n",
      "\u001b[0m\u001b[36;1m\u001b[1;3m{'query': 'Does the Protection of Personal Information Act cover any aspects of cybercrimes or cyber security?', 'result': 'Based on the provided context, there is no specific mention of cybercrimes or cyber security in the Protection of Personal Information Act. Therefore, it is unclear whether the act covers these aspects.'}\u001b[0m\u001b[32;1m\u001b[1;3m\n",
      "Invoking: `cybercrimes_act` with `{'question': 'Does the Cybercrimes Act address the protection of personal information?'}`\n",
      "\n",
      "\n",
      "\u001b[0m\u001b[33;1m\u001b[1;3m{'query': 'Does the Cybercrimes Act address the protection of personal information?', 'result': 'Yes, the Cybercrimes Act does address the protection of personal information. It references the \"Protection of Personal Information Act, 2013\" and states that any failure by a responsible party to comply with the conditions for lawful processing of personal information or the provisions of the Protection of Personal Information Act, 2013, must be dealt with in terms of Chapter 10 of that Act.'}\u001b[0m\u001b[32;1m\u001b[1;3mThere is an area of overlap between the Protection of Personal Information Act (POPIA) and the Cybercrimes Act in terms of the protection of personal information. While the POPIA itself does not specifically mention cybercrimes or cyber security, the Cybercrimes Act does reference the POPIA. It states that any failure by a responsible party to comply with the conditions for lawful processing of personal information or the provisions of the POPIA must be dealt with in terms of Chapter 10 of that Act.\n",
      "\n",
      "This indicates that the Cybercrimes Act recognizes the importance of personal information protection as outlined in the POPIA and provides a mechanism for addressing non-compliance within the context of cybercrimes legislation.\u001b[0m\n",
      "\n",
      "\u001b[1m> Finished chain.\u001b[0m\n",
      "There is an area of overlap between the Protection of Personal Information Act (POPIA) and the Cybercrimes Act in terms of the protection of personal information. While the POPIA itself does not specifically mention cybercrimes or cyber security, the Cybercrimes Act does reference the POPIA. It states that any failure by a responsible party to comply with the conditions for lawful processing of personal information or the provisions of the POPIA must be dealt with in terms of Chapter 10 of that Act.\n",
      "\n",
      "This indicates that the Cybercrimes Act recognizes the importance of personal information protection as outlined in the POPIA and provides a mechanism for addressing non-compliance within the context of cybercrimes legislation.\n"
     ]
    }
   ],
   "source": [
    "areas_of_overlap = f\"are there any areas of overlap between the two pieces of legislation?\"\n",
    "answer = agent({\"input\": areas_of_overlap})\n",
    "print(answer['output'])"
   ]
  },
  {
   "cell_type": "code",
   "execution_count": 12,
   "id": "60c5f869-67cc-4b66-8d14-7d19dd01b22a",
   "metadata": {},
   "outputs": [
    {
     "name": "stdout",
     "output_type": "stream",
     "text": [
      "\n",
      "\n",
      "\u001b[1m> Entering new AgentExecutor chain...\u001b[0m\n",
      "\u001b[32;1m\u001b[1;3m\n",
      "Invoking: `protection_of_personal_information_act` with `{'question': 'Are there any contradictions between the Protection of Personal Information Act and the Cybercrimes Act?'}`\n",
      "\n",
      "\n",
      "\u001b[0m\u001b[36;1m\u001b[1;3m{'query': 'Are there any contradictions between the Protection of Personal Information Act and the Cybercrimes Act?', 'result': 'Based on the provided context, there is no mention of the Cybercrimes Act. Therefore, it is not possible to determine if there are any contradictions between the Protection of Personal Information Act and the Cybercrimes Act.'}\u001b[0m\u001b[32;1m\u001b[1;3m\n",
      "Invoking: `cybercrimes_act` with `{'question': 'Are there any contradictions between the Cybercrimes Act and the Protection of Personal Information Act?'}`\n",
      "\n",
      "\n",
      "\u001b[0m\u001b[33;1m\u001b[1;3m{'query': 'Are there any contradictions between the Cybercrimes Act and the Protection of Personal Information Act?', 'result': 'Yes, there are no contradictions between the Cybercrimes Act and the Protection of Personal Information Act. In fact, the Cybercrimes Act references the Protection of Personal Information Act and states that any failure to comply with the conditions for lawful processing of personal information or the provisions of the Protection of Personal Information Act must be dealt with in accordance with Chapter 10 of that Act.'}\u001b[0m\u001b[32;1m\u001b[1;3mBased on the information provided, there are no contradictions between the Protection of Personal Information Act (POPIA) and the Cybercrimes Act. In fact, the Cybercrimes Act references POPIA and states that any failure to comply with the conditions for lawful processing of personal information or the provisions of POPIA must be dealt with in accordance with Chapter 10 of that Act. This suggests that the two pieces of legislation are designed to complement each other, with the Cybercrimes Act acknowledging the legal framework established by POPIA for the protection of personal information.\u001b[0m\n",
      "\n",
      "\u001b[1m> Finished chain.\u001b[0m\n",
      "Based on the information provided, there are no contradictions between the Protection of Personal Information Act (POPIA) and the Cybercrimes Act. In fact, the Cybercrimes Act references POPIA and states that any failure to comply with the conditions for lawful processing of personal information or the provisions of POPIA must be dealt with in accordance with Chapter 10 of that Act. This suggests that the two pieces of legislation are designed to complement each other, with the Cybercrimes Act acknowledging the legal framework established by POPIA for the protection of personal information.\n"
     ]
    }
   ],
   "source": [
    "areas_of_contradiction = f\"Are there any areas of contradiction between the \\\n",
    "two pieces of legislation?\"\n",
    "answer = agent({\"input\": areas_of_contradiction})\n",
    "print(answer['output'])"
   ]
  },
  {
   "cell_type": "markdown",
   "id": "94fbe399",
   "metadata": {},
   "source": [
    "#### OpenAI Multifunctions"
   ]
  },
  {
   "cell_type": "markdown",
   "id": "64e35ccb",
   "metadata": {},
   "source": [
    "This type of agent allows calling multiple functions at once. This is really useful when some steps can be computed in parallel - like when asked to compare multiple documents"
   ]
  },
  {
   "cell_type": "code",
   "execution_count": 13,
   "id": "47cdbaac",
   "metadata": {},
   "outputs": [],
   "source": [
    "llm = ChatOpenAI(\n",
    "    temperature=0,\n",
    "    model=\"gpt-4-1106-preview\",\n",
    ")\n",
    "\n",
    "agent = initialize_agent(\n",
    "    agent=AgentType.OPENAI_MULTI_FUNCTIONS,\n",
    "    tools=tools,\n",
    "    llm=llm,\n",
    "    verbose=True,\n",
    ")"
   ]
  },
  {
   "cell_type": "code",
   "execution_count": 14,
   "id": "21392f29",
   "metadata": {},
   "outputs": [
    {
     "name": "stdout",
     "output_type": "stream",
     "text": [
      "\n",
      "\n",
      "\u001b[1m> Entering new AgentExecutor chain...\u001b[0m\n",
      "\u001b[32;1m\u001b[1;3mThe Protection of Personal Information Act (POPI Act) is a South African law that aims to protect the privacy and personal information of individuals. It regulates how personal information is collected, processed, stored, and shared by public and private organizations. The POPI Act establishes principles and conditions for the lawful processing of personal information, and it grants individuals certain rights and remedies in relation to their personal information. The act also imposes obligations on organizations to ensure the security and confidentiality of personal information.\u001b[0m\n",
      "\n",
      "\u001b[1m> Finished chain.\u001b[0m\n",
      "The Protection of Personal Information Act (POPI Act) is a South African law that aims to protect the privacy and personal information of individuals. It regulates how personal information is collected, processed, stored, and shared by public and private organizations. The POPI Act establishes principles and conditions for the lawful processing of personal information, and it grants individuals certain rights and remedies in relation to their personal information. The act also imposes obligations on organizations to ensure the security and confidentiality of personal information.\n"
     ]
    }
   ],
   "source": [
    "answer = agent({\"input\": f\"what is the popi act about?\"})\n",
    "print(answer['output'])"
   ]
  },
  {
   "cell_type": "code",
   "execution_count": 15,
   "id": "2568b341",
   "metadata": {},
   "outputs": [
    {
     "name": "stdout",
     "output_type": "stream",
     "text": [
      "\n",
      "\n",
      "\u001b[1m> Entering new AgentExecutor chain...\u001b[0m\n",
      "\u001b[32;1m\u001b[1;3mThe Protection of Personal Information Act (POPIA), also known as the POPI Act, is a South African law that aims to protect the privacy and personal information of individuals. It was signed into law in 2013 and came into effect on July 1, 2020.\n",
      "\n",
      "The main purpose of the POPI Act is to regulate the processing of personal information by public and private bodies. It establishes certain principles and conditions that organizations must adhere to when collecting, storing, and processing personal information.\n",
      "\n",
      "Here are some key points and provisions of the POPI Act:\n",
      "\n",
      "1. Definitions: The act provides definitions for various terms related to personal information, such as data subject, responsible party, operator, and processing.\n",
      "\n",
      "2. Conditions for lawful processing: The act sets out conditions that must be met for the lawful processing of personal information. These conditions include obtaining the consent of the data subject, processing for a legitimate purpose, and ensuring that the information is adequate, relevant, and not excessive.\n",
      "\n",
      "3. Data subject rights: The act grants certain rights to individuals whose personal information is being processed. These rights include the right to access their personal information, the right to request correction or deletion of inaccurate or outdated information, and the right to object to the processing of their information.\n",
      "\n",
      "4. Consent: The act emphasizes the importance of obtaining informed and voluntary consent from individuals before processing their personal information. It specifies that consent must be obtained in writing or through other means that can be recorded.\n",
      "\n",
      "5. Security measures: The act requires organizations to implement appropriate technical and organizational measures to safeguard personal information against loss, damage, or unauthorized access. It also mandates the notification of data breaches to the Information Regulator and affected individuals.\n",
      "\n",
      "6. Cross-border transfers: The act regulates the transfer of personal information outside of South Africa. It requires organizations to ensure that the recipient of the information is subject to a law or binding agreement that provides an adequate level of protection.\n",
      "\n",
      "7. Information Regulator: The act establishes an independent regulatory body called the Information Regulator. The Information Regulator is responsible for monitoring and enforcing compliance with the POPI Act, handling complaints, and promoting the protection of personal information.\n",
      "\n",
      "Non-compliance with the POPI Act can result in severe penalties, including fines and imprisonment. Organizations that fail to comply with the act may also face reputational damage and loss of customer trust.\n",
      "\n",
      "It is important for organizations to familiarize themselves with the provisions of the POPI Act and take the necessary steps to ensure compliance with its requirements. This may include implementing privacy policies and procedures, conducting privacy impact assessments, and providing training to employees on data protection and privacy.\u001b[0m\n",
      "\n",
      "\u001b[1m> Finished chain.\u001b[0m\n",
      "The Protection of Personal Information Act (POPIA), also known as the POPI Act, is a South African law that aims to protect the privacy and personal information of individuals. It was signed into law in 2013 and came into effect on July 1, 2020.\n",
      "\n",
      "The main purpose of the POPI Act is to regulate the processing of personal information by public and private bodies. It establishes certain principles and conditions that organizations must adhere to when collecting, storing, and processing personal information.\n",
      "\n",
      "Here are some key points and provisions of the POPI Act:\n",
      "\n",
      "1. Definitions: The act provides definitions for various terms related to personal information, such as data subject, responsible party, operator, and processing.\n",
      "\n",
      "2. Conditions for lawful processing: The act sets out conditions that must be met for the lawful processing of personal information. These conditions include obtaining the consent of the data subject, processing for a legitimate purpose, and ensuring that the information is adequate, relevant, and not excessive.\n",
      "\n",
      "3. Data subject rights: The act grants certain rights to individuals whose personal information is being processed. These rights include the right to access their personal information, the right to request correction or deletion of inaccurate or outdated information, and the right to object to the processing of their information.\n",
      "\n",
      "4. Consent: The act emphasizes the importance of obtaining informed and voluntary consent from individuals before processing their personal information. It specifies that consent must be obtained in writing or through other means that can be recorded.\n",
      "\n",
      "5. Security measures: The act requires organizations to implement appropriate technical and organizational measures to safeguard personal information against loss, damage, or unauthorized access. It also mandates the notification of data breaches to the Information Regulator and affected individuals.\n",
      "\n",
      "6. Cross-border transfers: The act regulates the transfer of personal information outside of South Africa. It requires organizations to ensure that the recipient of the information is subject to a law or binding agreement that provides an adequate level of protection.\n",
      "\n",
      "7. Information Regulator: The act establishes an independent regulatory body called the Information Regulator. The Information Regulator is responsible for monitoring and enforcing compliance with the POPI Act, handling complaints, and promoting the protection of personal information.\n",
      "\n",
      "Non-compliance with the POPI Act can result in severe penalties, including fines and imprisonment. Organizations that fail to comply with the act may also face reputational damage and loss of customer trust.\n",
      "\n",
      "It is important for organizations to familiarize themselves with the provisions of the POPI Act and take the necessary steps to ensure compliance with its requirements. This may include implementing privacy policies and procedures, conducting privacy impact assessments, and providing training to employees on data protection and privacy.\n"
     ]
    }
   ],
   "source": [
    "answer = agent({\"input\": f\"give me a detailed summary of the popi act\"})\n",
    "print(answer['output'])"
   ]
  },
  {
   "cell_type": "code",
   "execution_count": 16,
   "id": "c61c0d88",
   "metadata": {},
   "outputs": [
    {
     "name": "stdout",
     "output_type": "stream",
     "text": [
      "\n",
      "\n",
      "\u001b[1m> Entering new AgentExecutor chain...\u001b[0m\n",
      "\u001b[32;1m\u001b[1;3mThe Cybercrimes Act is a legislation that aims to address and prevent cybercrimes. It provides legal provisions and guidelines for investigating, prosecuting, and punishing individuals or groups involved in cybercrimes. The act covers a wide range of offenses, including hacking, identity theft, online fraud, cyberbullying, and the distribution of malicious software. It also outlines the procedures for collecting electronic evidence and cooperation between law enforcement agencies and internet service providers. The Cybercrimes Act is designed to protect individuals, organizations, and the overall security of cyberspace.\u001b[0m\n",
      "\n",
      "\u001b[1m> Finished chain.\u001b[0m\n",
      "The Cybercrimes Act is a legislation that aims to address and prevent cybercrimes. It provides legal provisions and guidelines for investigating, prosecuting, and punishing individuals or groups involved in cybercrimes. The act covers a wide range of offenses, including hacking, identity theft, online fraud, cyberbullying, and the distribution of malicious software. It also outlines the procedures for collecting electronic evidence and cooperation between law enforcement agencies and internet service providers. The Cybercrimes Act is designed to protect individuals, organizations, and the overall security of cyberspace.\n"
     ]
    }
   ],
   "source": [
    "answer = agent({\"input\": f\"what is the cybercrime act about?\"})\n",
    "print(answer['output'])"
   ]
  },
  {
   "cell_type": "code",
   "execution_count": 17,
   "id": "afbf9933",
   "metadata": {},
   "outputs": [
    {
     "name": "stdout",
     "output_type": "stream",
     "text": [
      "\n",
      "\n",
      "\u001b[1m> Entering new AgentExecutor chain...\u001b[0m\n",
      "\u001b[32;1m\u001b[1;3mThe Cybercrimes Act is a legislation that aims to address and combat cybercrimes in a country. It provides a legal framework to prevent, investigate, and prosecute offenses related to computer systems, networks, and electronic communications. Here is a detailed summary of the Cybercrimes Act:\n",
      "\n",
      "1. Scope and Definitions:\n",
      "   - The act defines various terms related to cybercrimes, such as computer, computer system, data, electronic communication, hacking, identity theft, phishing, etc.\n",
      "   - It specifies the scope of the act, which generally covers offenses committed using computer systems, networks, and electronic communications.\n",
      "\n",
      "2. Offenses and Penalties:\n",
      "   - The act lists various offenses related to cybercrimes, including unauthorized access to computer systems, data interference, system interference, cyber fraud, cyber stalking, cyber terrorism, etc.\n",
      "   - It defines the penalties for each offense, which may include fines, imprisonment, or both, depending on the severity of the offense.\n",
      "\n",
      "3. Investigation and Prosecution:\n",
      "   - The act provides guidelines for the investigation and prosecution of cybercrimes.\n",
      "   - It empowers law enforcement agencies to gather evidence, conduct searches, and seize electronic devices or data related to cybercrimes.\n",
      "   - It establishes procedures for the preservation and admissibility of electronic evidence in court.\n",
      "\n",
      "4. Cybersecurity Measures:\n",
      "   - The act encourages the implementation of cybersecurity measures by individuals, organizations, and government agencies.\n",
      "   - It promotes the establishment of Computer Emergency Response Teams (CERTs) to respond to cyber incidents and coordinate cybersecurity efforts.\n",
      "\n",
      "5. International Cooperation:\n",
      "   - The act facilitates international cooperation in combating cybercrimes.\n",
      "   - It allows for the extradition of individuals involved in cybercrimes, subject to the provisions of extradition treaties or agreements.\n",
      "\n",
      "6. Protection of Personal Information:\n",
      "   - The act includes provisions for the protection of personal information and privacy.\n",
      "   - It regulates the collection, storage, processing, and disclosure of personal information by individuals and organizations.\n",
      "   - It establishes penalties for the unauthorized access, use, or disclosure of personal information.\n",
      "\n",
      "7. Awareness and Education:\n",
      "   - The act emphasizes the importance of raising awareness and educating the public about cybercrimes and cybersecurity.\n",
      "   - It encourages the government, educational institutions, and other stakeholders to promote cybersecurity awareness and provide training programs.\n",
      "\n",
      "Overall, the Cybercrimes Act is a comprehensive legislation that addresses the growing threat of cybercrimes and provides a legal framework to combat such offenses. It aims to protect individuals, organizations, and the overall security of computer systems, networks, and electronic communications.\u001b[0m\n",
      "\n",
      "\u001b[1m> Finished chain.\u001b[0m\n",
      "The Cybercrimes Act is a legislation that aims to address and combat cybercrimes in a country. It provides a legal framework to prevent, investigate, and prosecute offenses related to computer systems, networks, and electronic communications. Here is a detailed summary of the Cybercrimes Act:\n",
      "\n",
      "1. Scope and Definitions:\n",
      "   - The act defines various terms related to cybercrimes, such as computer, computer system, data, electronic communication, hacking, identity theft, phishing, etc.\n",
      "   - It specifies the scope of the act, which generally covers offenses committed using computer systems, networks, and electronic communications.\n",
      "\n",
      "2. Offenses and Penalties:\n",
      "   - The act lists various offenses related to cybercrimes, including unauthorized access to computer systems, data interference, system interference, cyber fraud, cyber stalking, cyber terrorism, etc.\n",
      "   - It defines the penalties for each offense, which may include fines, imprisonment, or both, depending on the severity of the offense.\n",
      "\n",
      "3. Investigation and Prosecution:\n",
      "   - The act provides guidelines for the investigation and prosecution of cybercrimes.\n",
      "   - It empowers law enforcement agencies to gather evidence, conduct searches, and seize electronic devices or data related to cybercrimes.\n",
      "   - It establishes procedures for the preservation and admissibility of electronic evidence in court.\n",
      "\n",
      "4. Cybersecurity Measures:\n",
      "   - The act encourages the implementation of cybersecurity measures by individuals, organizations, and government agencies.\n",
      "   - It promotes the establishment of Computer Emergency Response Teams (CERTs) to respond to cyber incidents and coordinate cybersecurity efforts.\n",
      "\n",
      "5. International Cooperation:\n",
      "   - The act facilitates international cooperation in combating cybercrimes.\n",
      "   - It allows for the extradition of individuals involved in cybercrimes, subject to the provisions of extradition treaties or agreements.\n",
      "\n",
      "6. Protection of Personal Information:\n",
      "   - The act includes provisions for the protection of personal information and privacy.\n",
      "   - It regulates the collection, storage, processing, and disclosure of personal information by individuals and organizations.\n",
      "   - It establishes penalties for the unauthorized access, use, or disclosure of personal information.\n",
      "\n",
      "7. Awareness and Education:\n",
      "   - The act emphasizes the importance of raising awareness and educating the public about cybercrimes and cybersecurity.\n",
      "   - It encourages the government, educational institutions, and other stakeholders to promote cybersecurity awareness and provide training programs.\n",
      "\n",
      "Overall, the Cybercrimes Act is a comprehensive legislation that addresses the growing threat of cybercrimes and provides a legal framework to combat such offenses. It aims to protect individuals, organizations, and the overall security of computer systems, networks, and electronic communications.\n"
     ]
    }
   ],
   "source": [
    "answer = agent({\"input\": f\"give me a detailed summary of the cybercrime act\"})\n",
    "print(answer['output'])"
   ]
  },
  {
   "cell_type": "code",
   "execution_count": 18,
   "id": "1fdbb2e5",
   "metadata": {},
   "outputs": [
    {
     "name": "stdout",
     "output_type": "stream",
     "text": [
      "\n",
      "\n",
      "\u001b[1m> Entering new AgentExecutor chain...\u001b[0m\n",
      "\u001b[32;1m\u001b[1;3mThe Protection of Personal Information Act (POPIA) and the Cybercrimes Act do not directly contradict each other. However, there may be some areas where the two acts overlap or have different requirements that could potentially create some challenges or confusion in implementation. It is important to carefully review both acts and consult legal experts to ensure compliance with all relevant laws and regulations.\u001b[0m\n",
      "\n",
      "\u001b[1m> Finished chain.\u001b[0m\n",
      "The Protection of Personal Information Act (POPIA) and the Cybercrimes Act do not directly contradict each other. However, there may be some areas where the two acts overlap or have different requirements that could potentially create some challenges or confusion in implementation. It is important to carefully review both acts and consult legal experts to ensure compliance with all relevant laws and regulations.\n"
     ]
    }
   ],
   "source": [
    "answer = agent({\"input\": \"do the acts contradict each other in any way?\"})\n",
    "print(answer['output'])"
   ]
  },
  {
   "cell_type": "code",
   "execution_count": 19,
   "id": "bb307cd3",
   "metadata": {},
   "outputs": [
    {
     "name": "stdout",
     "output_type": "stream",
     "text": [
      "\n",
      "\n",
      "\u001b[1m> Entering new AgentExecutor chain...\u001b[0m\n",
      "\u001b[32;1m\u001b[1;3mThe Protection of Personal Information Act (POPIA) and the Cybercrimes Act do have some areas of overlap. Both acts aim to protect individuals' personal information and address issues related to data privacy and security. However, they have different focuses and cover different aspects of these issues.\n",
      "\n",
      "POPIA primarily focuses on the protection of personal information and sets out principles and conditions for the lawful processing of personal information. It establishes the rights of individuals regarding their personal information and imposes obligations on organizations that collect, store, and process personal information.\n",
      "\n",
      "On the other hand, the Cybercrimes Act focuses on addressing cybercrimes and provides for the investigation, prevention, and prosecution of various cyber offenses. It covers a wide range of cybercrimes, including unauthorized access to computer systems, data interference, computer-related fraud, and cyberbullying.\n",
      "\n",
      "While there may be some overlap in terms of protecting personal information in the context of cybercrimes, the Cybercrimes Act primarily deals with criminal offenses related to cyber activities, whereas POPIA focuses on the protection of personal information in general.\n",
      "\n",
      "It is important to note that both acts have their own specific provisions and requirements, and organizations and individuals need to comply with the relevant provisions of each act depending on their specific circumstances and activities.\u001b[0m\n",
      "\n",
      "\u001b[1m> Finished chain.\u001b[0m\n",
      "The Protection of Personal Information Act (POPIA) and the Cybercrimes Act do have some areas of overlap. Both acts aim to protect individuals' personal information and address issues related to data privacy and security. However, they have different focuses and cover different aspects of these issues.\n",
      "\n",
      "POPIA primarily focuses on the protection of personal information and sets out principles and conditions for the lawful processing of personal information. It establishes the rights of individuals regarding their personal information and imposes obligations on organizations that collect, store, and process personal information.\n",
      "\n",
      "On the other hand, the Cybercrimes Act focuses on addressing cybercrimes and provides for the investigation, prevention, and prosecution of various cyber offenses. It covers a wide range of cybercrimes, including unauthorized access to computer systems, data interference, computer-related fraud, and cyberbullying.\n",
      "\n",
      "While there may be some overlap in terms of protecting personal information in the context of cybercrimes, the Cybercrimes Act primarily deals with criminal offenses related to cyber activities, whereas POPIA focuses on the protection of personal information in general.\n",
      "\n",
      "It is important to note that both acts have their own specific provisions and requirements, and organizations and individuals need to comply with the relevant provisions of each act depending on their specific circumstances and activities.\n"
     ]
    }
   ],
   "source": [
    "answer = agent({\"input\": \"do the acts overlap in any way?\"})\n",
    "print(answer['output'])"
   ]
  },
  {
   "cell_type": "markdown",
   "id": "1bdac46a",
   "metadata": {},
   "source": [
    "Housekeeping"
   ]
  },
  {
   "cell_type": "code",
   "execution_count": 1,
   "id": "6088bf8c",
   "metadata": {},
   "outputs": [
    {
     "name": "stdout",
     "output_type": "stream",
     "text": [
      "Requirement already satisfied: voila in /Users/ekowduker/ml/my_python3_9_env/lib/python3.9/site-packages (0.5.5)\n",
      "Requirement already satisfied: jupyter-client<9,>=7.4.4 in /Users/ekowduker/ml/my_python3_9_env/lib/python3.9/site-packages (from voila) (7.4.9)\n",
      "Requirement already satisfied: jupyter-core>=4.11.0 in /Users/ekowduker/ml/my_python3_9_env/lib/python3.9/site-packages (from voila) (5.3.1)\n",
      "Requirement already satisfied: jupyter-server<3,>=2.0.0 in /Users/ekowduker/ml/my_python3_9_env/lib/python3.9/site-packages (from voila) (2.12.1)\n",
      "Requirement already satisfied: jupyterlab-server<3,>=2.3.0 in /Users/ekowduker/ml/my_python3_9_env/lib/python3.9/site-packages (from voila) (2.25.0)\n",
      "Requirement already satisfied: nbclient<0.8,>=0.4.0 in /Users/ekowduker/ml/my_python3_9_env/lib/python3.9/site-packages (from voila) (0.7.4)\n",
      "Requirement already satisfied: nbconvert<8,>=6.4.5 in /Users/ekowduker/ml/my_python3_9_env/lib/python3.9/site-packages (from voila) (7.11.0)\n",
      "Requirement already satisfied: traitlets<6,>=5.0.3 in /Users/ekowduker/ml/my_python3_9_env/lib/python3.9/site-packages (from voila) (5.9.0)\n",
      "Requirement already satisfied: websockets>=9.0 in /Users/ekowduker/ml/my_python3_9_env/lib/python3.9/site-packages (from voila) (11.0.3)\n",
      "Requirement already satisfied: entrypoints in /Users/ekowduker/ml/my_python3_9_env/lib/python3.9/site-packages (from jupyter-client<9,>=7.4.4->voila) (0.4)\n",
      "Requirement already satisfied: nest-asyncio>=1.5.4 in /Users/ekowduker/ml/my_python3_9_env/lib/python3.9/site-packages (from jupyter-client<9,>=7.4.4->voila) (1.5.8)\n",
      "Requirement already satisfied: python-dateutil>=2.8.2 in /Users/ekowduker/ml/my_python3_9_env/lib/python3.9/site-packages (from jupyter-client<9,>=7.4.4->voila) (2.8.2)\n",
      "Requirement already satisfied: pyzmq>=23.0 in /Users/ekowduker/ml/my_python3_9_env/lib/python3.9/site-packages (from jupyter-client<9,>=7.4.4->voila) (24.0.1)\n",
      "Requirement already satisfied: tornado>=6.2 in /Users/ekowduker/ml/my_python3_9_env/lib/python3.9/site-packages (from jupyter-client<9,>=7.4.4->voila) (6.3.2)\n",
      "Requirement already satisfied: platformdirs>=2.5 in /Users/ekowduker/ml/my_python3_9_env/lib/python3.9/site-packages (from jupyter-core>=4.11.0->voila) (3.8.1)\n",
      "Requirement already satisfied: anyio>=3.1.0 in /Users/ekowduker/ml/my_python3_9_env/lib/python3.9/site-packages (from jupyter-server<3,>=2.0.0->voila) (3.7.1)\n",
      "Requirement already satisfied: argon2-cffi in /Users/ekowduker/ml/my_python3_9_env/lib/python3.9/site-packages (from jupyter-server<3,>=2.0.0->voila) (23.1.0)\n",
      "Requirement already satisfied: jinja2 in /Users/ekowduker/ml/my_python3_9_env/lib/python3.9/site-packages (from jupyter-server<3,>=2.0.0->voila) (3.1.2)\n",
      "Requirement already satisfied: jupyter-events>=0.9.0 in /Users/ekowduker/ml/my_python3_9_env/lib/python3.9/site-packages (from jupyter-server<3,>=2.0.0->voila) (0.9.0)\n",
      "Requirement already satisfied: jupyter-server-terminals in /Users/ekowduker/ml/my_python3_9_env/lib/python3.9/site-packages (from jupyter-server<3,>=2.0.0->voila) (0.4.4)\n",
      "Requirement already satisfied: nbformat>=5.3.0 in /Users/ekowduker/ml/my_python3_9_env/lib/python3.9/site-packages (from jupyter-server<3,>=2.0.0->voila) (5.9.2)\n",
      "Requirement already satisfied: overrides in /Users/ekowduker/ml/my_python3_9_env/lib/python3.9/site-packages (from jupyter-server<3,>=2.0.0->voila) (7.3.1)\n",
      "Requirement already satisfied: packaging in /Users/ekowduker/ml/my_python3_9_env/lib/python3.9/site-packages (from jupyter-server<3,>=2.0.0->voila) (23.1)\n",
      "Requirement already satisfied: prometheus-client in /Users/ekowduker/ml/my_python3_9_env/lib/python3.9/site-packages (from jupyter-server<3,>=2.0.0->voila) (0.18.0)\n",
      "Requirement already satisfied: send2trash>=1.8.2 in /Users/ekowduker/ml/my_python3_9_env/lib/python3.9/site-packages (from jupyter-server<3,>=2.0.0->voila) (1.8.2)\n",
      "Requirement already satisfied: terminado>=0.8.3 in /Users/ekowduker/ml/my_python3_9_env/lib/python3.9/site-packages (from jupyter-server<3,>=2.0.0->voila) (0.17.1)\n",
      "Requirement already satisfied: websocket-client in /Users/ekowduker/ml/my_python3_9_env/lib/python3.9/site-packages (from jupyter-server<3,>=2.0.0->voila) (1.6.4)\n",
      "Requirement already satisfied: babel>=2.10 in /Users/ekowduker/ml/my_python3_9_env/lib/python3.9/site-packages (from jupyterlab-server<3,>=2.3.0->voila) (2.13.1)\n",
      "Requirement already satisfied: importlib-metadata>=4.8.3 in /Users/ekowduker/ml/my_python3_9_env/lib/python3.9/site-packages (from jupyterlab-server<3,>=2.3.0->voila) (6.8.0)\n",
      "Requirement already satisfied: json5>=0.9.0 in /Users/ekowduker/ml/my_python3_9_env/lib/python3.9/site-packages (from jupyterlab-server<3,>=2.3.0->voila) (0.9.14)\n",
      "Requirement already satisfied: jsonschema>=4.18.0 in /Users/ekowduker/ml/my_python3_9_env/lib/python3.9/site-packages (from jupyterlab-server<3,>=2.3.0->voila) (4.19.2)\n",
      "Requirement already satisfied: requests>=2.31 in /Users/ekowduker/ml/my_python3_9_env/lib/python3.9/site-packages (from jupyterlab-server<3,>=2.3.0->voila) (2.31.0)\n",
      "Requirement already satisfied: beautifulsoup4 in /Users/ekowduker/ml/my_python3_9_env/lib/python3.9/site-packages (from nbconvert<8,>=6.4.5->voila) (4.12.2)\n",
      "Requirement already satisfied: bleach!=5.0.0 in /Users/ekowduker/ml/my_python3_9_env/lib/python3.9/site-packages (from nbconvert<8,>=6.4.5->voila) (6.0.0)\n",
      "Requirement already satisfied: defusedxml in /Users/ekowduker/ml/my_python3_9_env/lib/python3.9/site-packages (from nbconvert<8,>=6.4.5->voila) (0.7.1)\n",
      "Requirement already satisfied: jupyterlab-pygments in /Users/ekowduker/ml/my_python3_9_env/lib/python3.9/site-packages (from nbconvert<8,>=6.4.5->voila) (0.2.2)\n",
      "Requirement already satisfied: markupsafe>=2.0 in /Users/ekowduker/ml/my_python3_9_env/lib/python3.9/site-packages (from nbconvert<8,>=6.4.5->voila) (2.1.3)\n",
      "Requirement already satisfied: mistune<4,>=2.0.3 in /Users/ekowduker/ml/my_python3_9_env/lib/python3.9/site-packages (from nbconvert<8,>=6.4.5->voila) (3.0.2)\n",
      "Requirement already satisfied: pandocfilters>=1.4.1 in /Users/ekowduker/ml/my_python3_9_env/lib/python3.9/site-packages (from nbconvert<8,>=6.4.5->voila) (1.5.0)\n",
      "Requirement already satisfied: pygments>=2.4.1 in /Users/ekowduker/ml/my_python3_9_env/lib/python3.9/site-packages (from nbconvert<8,>=6.4.5->voila) (2.15.1)\n",
      "Requirement already satisfied: tinycss2 in /Users/ekowduker/ml/my_python3_9_env/lib/python3.9/site-packages (from nbconvert<8,>=6.4.5->voila) (1.2.1)\n",
      "Requirement already satisfied: idna>=2.8 in /Users/ekowduker/ml/my_python3_9_env/lib/python3.9/site-packages (from anyio>=3.1.0->jupyter-server<3,>=2.0.0->voila) (3.4)\n",
      "Requirement already satisfied: sniffio>=1.1 in /Users/ekowduker/ml/my_python3_9_env/lib/python3.9/site-packages (from anyio>=3.1.0->jupyter-server<3,>=2.0.0->voila) (1.3.0)\n",
      "Requirement already satisfied: exceptiongroup in /Users/ekowduker/ml/my_python3_9_env/lib/python3.9/site-packages (from anyio>=3.1.0->jupyter-server<3,>=2.0.0->voila) (1.1.2)\n",
      "Requirement already satisfied: six>=1.9.0 in /Users/ekowduker/ml/my_python3_9_env/lib/python3.9/site-packages (from bleach!=5.0.0->nbconvert<8,>=6.4.5->voila) (1.16.0)\n",
      "Requirement already satisfied: webencodings in /Users/ekowduker/ml/my_python3_9_env/lib/python3.9/site-packages (from bleach!=5.0.0->nbconvert<8,>=6.4.5->voila) (0.5.1)\n",
      "Requirement already satisfied: zipp>=0.5 in /Users/ekowduker/ml/my_python3_9_env/lib/python3.9/site-packages (from importlib-metadata>=4.8.3->jupyterlab-server<3,>=2.3.0->voila) (3.16.0)\n",
      "Requirement already satisfied: attrs>=22.2.0 in /Users/ekowduker/ml/my_python3_9_env/lib/python3.9/site-packages (from jsonschema>=4.18.0->jupyterlab-server<3,>=2.3.0->voila) (23.1.0)\n",
      "Requirement already satisfied: jsonschema-specifications>=2023.03.6 in /Users/ekowduker/ml/my_python3_9_env/lib/python3.9/site-packages (from jsonschema>=4.18.0->jupyterlab-server<3,>=2.3.0->voila) (2023.7.1)\n",
      "Requirement already satisfied: referencing>=0.28.4 in /Users/ekowduker/ml/my_python3_9_env/lib/python3.9/site-packages (from jsonschema>=4.18.0->jupyterlab-server<3,>=2.3.0->voila) (0.30.2)\n",
      "Requirement already satisfied: rpds-py>=0.7.1 in /Users/ekowduker/ml/my_python3_9_env/lib/python3.9/site-packages (from jsonschema>=4.18.0->jupyterlab-server<3,>=2.3.0->voila) (0.12.0)\n",
      "Requirement already satisfied: python-json-logger>=2.0.4 in /Users/ekowduker/ml/my_python3_9_env/lib/python3.9/site-packages (from jupyter-events>=0.9.0->jupyter-server<3,>=2.0.0->voila) (2.0.7)\n",
      "Requirement already satisfied: pyyaml>=5.3 in /Users/ekowduker/ml/my_python3_9_env/lib/python3.9/site-packages (from jupyter-events>=0.9.0->jupyter-server<3,>=2.0.0->voila) (6.0)\n",
      "Requirement already satisfied: rfc3339-validator in /Users/ekowduker/ml/my_python3_9_env/lib/python3.9/site-packages (from jupyter-events>=0.9.0->jupyter-server<3,>=2.0.0->voila) (0.1.4)\n",
      "Requirement already satisfied: rfc3986-validator>=0.1.1 in /Users/ekowduker/ml/my_python3_9_env/lib/python3.9/site-packages (from jupyter-events>=0.9.0->jupyter-server<3,>=2.0.0->voila) (0.1.1)\n",
      "Requirement already satisfied: fastjsonschema in /Users/ekowduker/ml/my_python3_9_env/lib/python3.9/site-packages (from nbformat>=5.3.0->jupyter-server<3,>=2.0.0->voila) (2.18.1)\n",
      "Requirement already satisfied: charset-normalizer<4,>=2 in /Users/ekowduker/ml/my_python3_9_env/lib/python3.9/site-packages (from requests>=2.31->jupyterlab-server<3,>=2.3.0->voila) (3.2.0)\n",
      "Requirement already satisfied: urllib3<3,>=1.21.1 in /Users/ekowduker/ml/my_python3_9_env/lib/python3.9/site-packages (from requests>=2.31->jupyterlab-server<3,>=2.3.0->voila) (1.26.18)\n",
      "Requirement already satisfied: certifi>=2017.4.17 in /Users/ekowduker/ml/my_python3_9_env/lib/python3.9/site-packages (from requests>=2.31->jupyterlab-server<3,>=2.3.0->voila) (2023.5.7)\n",
      "Requirement already satisfied: ptyprocess in /Users/ekowduker/ml/my_python3_9_env/lib/python3.9/site-packages (from terminado>=0.8.3->jupyter-server<3,>=2.0.0->voila) (0.7.0)\n",
      "Requirement already satisfied: argon2-cffi-bindings in /Users/ekowduker/ml/my_python3_9_env/lib/python3.9/site-packages (from argon2-cffi->jupyter-server<3,>=2.0.0->voila) (21.2.0)\n",
      "Requirement already satisfied: soupsieve>1.2 in /Users/ekowduker/ml/my_python3_9_env/lib/python3.9/site-packages (from beautifulsoup4->nbconvert<8,>=6.4.5->voila) (2.4.1)\n",
      "Requirement already satisfied: fqdn in /Users/ekowduker/ml/my_python3_9_env/lib/python3.9/site-packages (from jsonschema[format-nongpl]>=4.18.0->jupyter-events>=0.9.0->jupyter-server<3,>=2.0.0->voila) (1.5.1)\n",
      "Requirement already satisfied: isoduration in /Users/ekowduker/ml/my_python3_9_env/lib/python3.9/site-packages (from jsonschema[format-nongpl]>=4.18.0->jupyter-events>=0.9.0->jupyter-server<3,>=2.0.0->voila) (20.11.0)\n",
      "Requirement already satisfied: jsonpointer>1.13 in /Users/ekowduker/ml/my_python3_9_env/lib/python3.9/site-packages (from jsonschema[format-nongpl]>=4.18.0->jupyter-events>=0.9.0->jupyter-server<3,>=2.0.0->voila) (2.4)\n",
      "Requirement already satisfied: uri-template in /Users/ekowduker/ml/my_python3_9_env/lib/python3.9/site-packages (from jsonschema[format-nongpl]>=4.18.0->jupyter-events>=0.9.0->jupyter-server<3,>=2.0.0->voila) (1.3.0)\n",
      "Requirement already satisfied: webcolors>=1.11 in /Users/ekowduker/ml/my_python3_9_env/lib/python3.9/site-packages (from jsonschema[format-nongpl]>=4.18.0->jupyter-events>=0.9.0->jupyter-server<3,>=2.0.0->voila) (1.13)\n",
      "Requirement already satisfied: cffi>=1.0.1 in /Users/ekowduker/ml/my_python3_9_env/lib/python3.9/site-packages (from argon2-cffi-bindings->argon2-cffi->jupyter-server<3,>=2.0.0->voila) (1.15.1)\n",
      "Requirement already satisfied: pycparser in /Users/ekowduker/ml/my_python3_9_env/lib/python3.9/site-packages (from cffi>=1.0.1->argon2-cffi-bindings->argon2-cffi->jupyter-server<3,>=2.0.0->voila) (2.21)\n",
      "Requirement already satisfied: arrow>=0.15.0 in /Users/ekowduker/ml/my_python3_9_env/lib/python3.9/site-packages (from isoduration->jsonschema[format-nongpl]>=4.18.0->jupyter-events>=0.9.0->jupyter-server<3,>=2.0.0->voila) (1.3.0)\n",
      "Requirement already satisfied: types-python-dateutil>=2.8.10 in /Users/ekowduker/ml/my_python3_9_env/lib/python3.9/site-packages (from arrow>=0.15.0->isoduration->jsonschema[format-nongpl]>=4.18.0->jupyter-events>=0.9.0->jupyter-server<3,>=2.0.0->voila) (2.8.19.14)\n",
      "\n",
      "\u001b[1m[\u001b[0m\u001b[34;49mnotice\u001b[0m\u001b[1;39;49m]\u001b[0m\u001b[39;49m A new release of pip is available: \u001b[0m\u001b[31;49m23.3.1\u001b[0m\u001b[39;49m -> \u001b[0m\u001b[32;49m23.3.2\u001b[0m\n",
      "\u001b[1m[\u001b[0m\u001b[34;49mnotice\u001b[0m\u001b[1;39;49m]\u001b[0m\u001b[39;49m To update, run: \u001b[0m\u001b[32;49mpip install --upgrade pip\u001b[0m\n"
     ]
    }
   ],
   "source": [
    "#!pip install --upgrade voila"
   ]
  },
  {
   "cell_type": "code",
   "execution_count": 2,
   "id": "97b586bf",
   "metadata": {},
   "outputs": [
    {
     "name": "stdout",
     "output_type": "stream",
     "text": [
      "Requirement already satisfied: ipywidgets in /Users/ekowduker/ml/my_python3_9_env/lib/python3.9/site-packages (7.6.5)\n",
      "Collecting ipywidgets\n",
      "  Using cached ipywidgets-8.1.1-py3-none-any.whl.metadata (2.4 kB)\n",
      "Requirement already satisfied: comm>=0.1.3 in /Users/ekowduker/ml/my_python3_9_env/lib/python3.9/site-packages (from ipywidgets) (0.1.3)\n",
      "Requirement already satisfied: ipython>=6.1.0 in /Users/ekowduker/ml/my_python3_9_env/lib/python3.9/site-packages (from ipywidgets) (8.14.0)\n",
      "Requirement already satisfied: traitlets>=4.3.1 in /Users/ekowduker/ml/my_python3_9_env/lib/python3.9/site-packages (from ipywidgets) (5.9.0)\n",
      "Collecting widgetsnbextension~=4.0.9 (from ipywidgets)\n",
      "  Using cached widgetsnbextension-4.0.9-py3-none-any.whl.metadata (1.6 kB)\n",
      "Requirement already satisfied: jupyterlab-widgets~=3.0.9 in /Users/ekowduker/ml/my_python3_9_env/lib/python3.9/site-packages (from ipywidgets) (3.0.9)\n",
      "Requirement already satisfied: backcall in /Users/ekowduker/ml/my_python3_9_env/lib/python3.9/site-packages (from ipython>=6.1.0->ipywidgets) (0.2.0)\n",
      "Requirement already satisfied: decorator in /Users/ekowduker/ml/my_python3_9_env/lib/python3.9/site-packages (from ipython>=6.1.0->ipywidgets) (5.1.1)\n",
      "Requirement already satisfied: jedi>=0.16 in /Users/ekowduker/ml/my_python3_9_env/lib/python3.9/site-packages (from ipython>=6.1.0->ipywidgets) (0.18.2)\n",
      "Requirement already satisfied: matplotlib-inline in /Users/ekowduker/ml/my_python3_9_env/lib/python3.9/site-packages (from ipython>=6.1.0->ipywidgets) (0.1.6)\n",
      "Requirement already satisfied: pickleshare in /Users/ekowduker/ml/my_python3_9_env/lib/python3.9/site-packages (from ipython>=6.1.0->ipywidgets) (0.7.5)\n",
      "Requirement already satisfied: prompt-toolkit!=3.0.37,<3.1.0,>=3.0.30 in /Users/ekowduker/ml/my_python3_9_env/lib/python3.9/site-packages (from ipython>=6.1.0->ipywidgets) (3.0.39)\n",
      "Requirement already satisfied: pygments>=2.4.0 in /Users/ekowduker/ml/my_python3_9_env/lib/python3.9/site-packages (from ipython>=6.1.0->ipywidgets) (2.15.1)\n",
      "Requirement already satisfied: stack-data in /Users/ekowduker/ml/my_python3_9_env/lib/python3.9/site-packages (from ipython>=6.1.0->ipywidgets) (0.6.2)\n",
      "Requirement already satisfied: typing-extensions in /Users/ekowduker/ml/my_python3_9_env/lib/python3.9/site-packages (from ipython>=6.1.0->ipywidgets) (4.7.1)\n",
      "Requirement already satisfied: pexpect>4.3 in /Users/ekowduker/ml/my_python3_9_env/lib/python3.9/site-packages (from ipython>=6.1.0->ipywidgets) (4.8.0)\n",
      "Requirement already satisfied: appnope in /Users/ekowduker/ml/my_python3_9_env/lib/python3.9/site-packages (from ipython>=6.1.0->ipywidgets) (0.1.3)\n",
      "Requirement already satisfied: parso<0.9.0,>=0.8.0 in /Users/ekowduker/ml/my_python3_9_env/lib/python3.9/site-packages (from jedi>=0.16->ipython>=6.1.0->ipywidgets) (0.8.3)\n",
      "Requirement already satisfied: ptyprocess>=0.5 in /Users/ekowduker/ml/my_python3_9_env/lib/python3.9/site-packages (from pexpect>4.3->ipython>=6.1.0->ipywidgets) (0.7.0)\n",
      "Requirement already satisfied: wcwidth in /Users/ekowduker/ml/my_python3_9_env/lib/python3.9/site-packages (from prompt-toolkit!=3.0.37,<3.1.0,>=3.0.30->ipython>=6.1.0->ipywidgets) (0.2.6)\n",
      "Requirement already satisfied: executing>=1.2.0 in /Users/ekowduker/ml/my_python3_9_env/lib/python3.9/site-packages (from stack-data->ipython>=6.1.0->ipywidgets) (1.2.0)\n",
      "Requirement already satisfied: asttokens>=2.1.0 in /Users/ekowduker/ml/my_python3_9_env/lib/python3.9/site-packages (from stack-data->ipython>=6.1.0->ipywidgets) (2.2.1)\n",
      "Requirement already satisfied: pure-eval in /Users/ekowduker/ml/my_python3_9_env/lib/python3.9/site-packages (from stack-data->ipython>=6.1.0->ipywidgets) (0.2.2)\n",
      "Requirement already satisfied: six in /Users/ekowduker/ml/my_python3_9_env/lib/python3.9/site-packages (from asttokens>=2.1.0->stack-data->ipython>=6.1.0->ipywidgets) (1.16.0)\n",
      "Using cached ipywidgets-8.1.1-py3-none-any.whl (139 kB)\n",
      "Using cached widgetsnbextension-4.0.9-py3-none-any.whl (2.3 MB)\n",
      "Installing collected packages: widgetsnbextension, ipywidgets\n",
      "  Attempting uninstall: widgetsnbextension\n",
      "    Found existing installation: widgetsnbextension 3.5.2\n",
      "    Uninstalling widgetsnbextension-3.5.2:\n",
      "      Successfully uninstalled widgetsnbextension-3.5.2\n",
      "  Attempting uninstall: ipywidgets\n",
      "    Found existing installation: ipywidgets 7.6.5\n",
      "    Uninstalling ipywidgets-7.6.5:\n",
      "      Successfully uninstalled ipywidgets-7.6.5\n",
      "Successfully installed ipywidgets-8.1.1 widgetsnbextension-4.0.9\n",
      "\n",
      "\u001b[1m[\u001b[0m\u001b[34;49mnotice\u001b[0m\u001b[1;39;49m]\u001b[0m\u001b[39;49m A new release of pip is available: \u001b[0m\u001b[31;49m23.3.1\u001b[0m\u001b[39;49m -> \u001b[0m\u001b[32;49m23.3.2\u001b[0m\n",
      "\u001b[1m[\u001b[0m\u001b[34;49mnotice\u001b[0m\u001b[1;39;49m]\u001b[0m\u001b[39;49m To update, run: \u001b[0m\u001b[32;49mpip install --upgrade pip\u001b[0m\n"
     ]
    }
   ],
   "source": [
    "#!pip install --upgrade ipywidgets"
   ]
  },
  {
   "cell_type": "code",
   "execution_count": null,
   "id": "5ab9176e",
   "metadata": {},
   "outputs": [],
   "source": []
  }
 ],
 "metadata": {
  "kernelspec": {
   "display_name": "Python 3 (ipykernel)",
   "language": "python",
   "name": "python3"
  },
  "language_info": {
   "codemirror_mode": {
    "name": "ipython",
    "version": 3
   },
   "file_extension": ".py",
   "mimetype": "text/x-python",
   "name": "python",
   "nbconvert_exporter": "python",
   "pygments_lexer": "ipython3",
   "version": "3.10.13"
  },
  "toc": {
   "base_numbering": 1,
   "nav_menu": {},
   "number_sections": true,
   "sideBar": true,
   "skip_h1_title": false,
   "title_cell": "Table of Contents",
   "title_sidebar": "Contents",
   "toc_cell": false,
   "toc_position": {},
   "toc_section_display": true,
   "toc_window_display": false
  }
 },
 "nbformat": 4,
 "nbformat_minor": 5
}
