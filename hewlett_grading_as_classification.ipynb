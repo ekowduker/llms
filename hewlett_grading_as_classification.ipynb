{
 "cells": [
  {
   "cell_type": "markdown",
   "id": "b43d1926-71b7-4689-8547-84f7576f3c49",
   "metadata": {
    "tags": []
   },
   "source": [
    "## Grading Student Essays"
   ]
  },
  {
   "cell_type": "markdown",
   "id": "aad80222-badc-4285-a37a-1ea5e94df7e2",
   "metadata": {
    "tags": []
   },
   "source": [
    "In this notebook, I finetune a sequence classifier model from Hugging Face using the [Hewlett Foundation scored essay data set](https://www.kaggle.com/competitions/asap-aes/data).  \n",
    "This dataset is taken from the training_set_rel3.xlsx on Kaggle. \n",
    "After changing the continuous scores to categories, the task is treated as a classification problem."
   ]
  },
  {
   "cell_type": "markdown",
   "id": "e8c28cb9-3dba-46b5-9829-9a360d45ca53",
   "metadata": {},
   "source": [
    "### 1 - Install and load required dependencies "
   ]
  },
  {
   "cell_type": "code",
   "execution_count": 2,
   "id": "0ddf4fe4-3807-4f5c-a2ad-84bbec5d4c54",
   "metadata": {
    "tags": []
   },
   "outputs": [
    {
     "name": "stdout",
     "output_type": "stream",
     "text": [
      "Requirement already satisfied: pip in /opt/conda/lib/python3.10/site-packages (23.2.1)\n",
      "Collecting pip\n",
      "  Obtaining dependency information for pip from https://files.pythonhosted.org/packages/47/6a/453160888fab7c6a432a6e25f8afe6256d0d9f2cbd25971021da6491d899/pip-23.3.1-py3-none-any.whl.metadata\n",
      "  Using cached pip-23.3.1-py3-none-any.whl.metadata (3.5 kB)\n",
      "Using cached pip-23.3.1-py3-none-any.whl (2.1 MB)\n",
      "Installing collected packages: pip\n",
      "  Attempting uninstall: pip\n",
      "    Found existing installation: pip 23.2.1\n",
      "    Uninstalling pip-23.2.1:\n",
      "      Successfully uninstalled pip-23.2.1\n",
      "Successfully installed pip-23.3.1\n",
      "\u001b[33mWARNING: Running pip as the 'root' user can result in broken permissions and conflicting behaviour with the system package manager. It is recommended to use a virtual environment instead: https://pip.pypa.io/warnings/venv\u001b[0m\u001b[33m\n",
      "\u001b[0mNote: you may need to restart the kernel to use updated packages.\n",
      "\u001b[33mWARNING: Running pip as the 'root' user can result in broken permissions and conflicting behaviour with the system package manager. It is recommended to use a virtual environment instead: https://pip.pypa.io/warnings/venv\u001b[0m\u001b[33m\n",
      "\u001b[0mNote: you may need to restart the kernel to use updated packages.\n",
      "\u001b[31mERROR: pip's dependency resolver does not currently take into account all the packages that are installed. This behaviour is the source of the following dependency conflicts.\n",
      "spyder 5.3.3 requires pyqt5<5.16, which is not installed.\n",
      "spyder 5.3.3 requires pyqtwebengine<5.16, which is not installed.\n",
      "pathos 0.3.1 requires dill>=0.3.7, but you have dill 0.3.6 which is incompatible.\n",
      "pathos 0.3.1 requires multiprocess>=0.70.15, but you have multiprocess 0.70.14 which is incompatible.\n",
      "spyder 5.3.3 requires ipython<8.0.0,>=7.31.1, but you have ipython 8.16.1 which is incompatible.\n",
      "spyder 5.3.3 requires pylint<3.0,>=2.5.0, but you have pylint 3.0.1 which is incompatible.\u001b[0m\u001b[31m\n",
      "\u001b[0m\u001b[33mWARNING: Running pip as the 'root' user can result in broken permissions and conflicting behaviour with the system package manager. It is recommended to use a virtual environment instead: https://pip.pypa.io/warnings/venv\u001b[0m\u001b[33m\n",
      "\u001b[0mNote: you may need to restart the kernel to use updated packages.\n",
      "\u001b[33mWARNING: Running pip as the 'root' user can result in broken permissions and conflicting behaviour with the system package manager. It is recommended to use a virtual environment instead: https://pip.pypa.io/warnings/venv\u001b[0m\u001b[33m\n",
      "\u001b[0mNote: you may need to restart the kernel to use updated packages.\n"
     ]
    }
   ],
   "source": [
    "%pip install --upgrade pip\n",
    "%pip install --disable-pip-version-check \\\n",
    "    torch==1.13.1 \\\n",
    "    torchdata==0.5.1 --quiet\n",
    "\n",
    "%pip install \\\n",
    "    transformers==4.27.2 \\\n",
    "    datasets==2.11.0 \\\n",
    "    evaluate==0.4.0 \\\n",
    "    loralib==0.1.1 --quiet\n",
    "\n",
    "%pip install matplotlib --quiet"
   ]
  },
  {
   "cell_type": "code",
   "execution_count": 3,
   "id": "15e7bdcc-bb8f-442a-b7f8-49b706dcca8f",
   "metadata": {
    "tags": []
   },
   "outputs": [],
   "source": [
    "import numpy as np\n",
    "import torch\n",
    "from torch.utils.data import DataLoader\n",
    "from transformers import BertTokenizer, BertForSequenceClassification, AdamW, BertConfig\n",
    "from sklearn.metrics import mean_squared_error"
   ]
  },
  {
   "cell_type": "markdown",
   "id": "426ef7fb-6d3d-41a1-83d0-ee9d660007fb",
   "metadata": {},
   "source": [
    "## 2 - Define a DataSet Class"
   ]
  },
  {
   "cell_type": "code",
   "execution_count": 4,
   "id": "a63a014c-e20f-441f-b47e-e3b9d017117d",
   "metadata": {
    "tags": []
   },
   "outputs": [],
   "source": [
    "model_name = 'bert-base-uncased'\n",
    "\n",
    "class EssayDataset(torch.utils.data.Dataset):\n",
    "    def __init__(self, essays, grades):\n",
    "        self.essays = essays\n",
    "        self.grades = grades\n",
    "        self.tokenizer = BertTokenizer.from_pretrained(model_name)\n",
    "\n",
    "    def __len__(self):\n",
    "        return len(self.essays)\n",
    "\n",
    "    def __getitem__(self, idx):\n",
    "        essay = self.essays[idx]\n",
    "        grade = self.grades[idx]\n",
    "        tokens = self.tokenizer(essay, truncation=True, padding='max_length', max_length=512)\n",
    "        return {key: torch.tensor(val, dtype=torch.long) for key, val in tokens.items()}, torch.tensor(grade, dtype=torch.float)\n"
   ]
  },
  {
   "cell_type": "markdown",
   "id": "70af0fc5-3926-4b18-a297-1246bb979553",
   "metadata": {},
   "source": [
    "### 3 - Load data"
   ]
  },
  {
   "cell_type": "code",
   "execution_count": 5,
   "id": "1c925743-ef2d-4c60-ab82-57bf6dc270e8",
   "metadata": {
    "tags": []
   },
   "outputs": [
    {
     "name": "stderr",
     "output_type": "stream",
     "text": [
      "Found cached dataset csv (/root/.cache/huggingface/datasets/csv/default-635f8d9d43b9c06c/0.0.0/6954658bab30a358235fa864b05cf819af0e179325c740e4bc853bcc7ec513e1)\n"
     ]
    },
    {
     "data": {
      "application/vnd.jupyter.widget-view+json": {
       "model_id": "f7be96b006524ec2ab4af41a18c14878",
       "version_major": 2,
       "version_minor": 0
      },
      "text/plain": [
       "  0%|          | 0/1 [00:00<?, ?it/s]"
      ]
     },
     "metadata": {},
     "output_type": "display_data"
    },
    {
     "name": "stdout",
     "output_type": "stream",
     "text": [
      "DatasetDict({\n",
      "    train: Dataset({\n",
      "        features: ['essay_id', 'essay', 'category'],\n",
      "        num_rows: 12978\n",
      "    })\n",
      "})\n"
     ]
    }
   ],
   "source": [
    "from datasets import load_dataset\n",
    "\n",
    "dataset = load_dataset('csv', data_files='categorised_essays.csv')\n",
    "print(dataset)"
   ]
  },
  {
   "cell_type": "markdown",
   "id": "cc1b1a66-f9c3-4cd6-a96e-676f7f567f5b",
   "metadata": {},
   "source": [
    "#### 3.1 Encode the labels as integers"
   ]
  },
  {
   "cell_type": "code",
   "execution_count": 6,
   "id": "1f122f9c-4143-4484-91f5-2b645b2fd6d7",
   "metadata": {
    "tags": []
   },
   "outputs": [
    {
     "name": "stderr",
     "output_type": "stream",
     "text": [
      "Loading cached processed dataset at /root/.cache/huggingface/datasets/csv/default-635f8d9d43b9c06c/0.0.0/6954658bab30a358235fa864b05cf819af0e179325c740e4bc853bcc7ec513e1/cache-55ab6ca522103b74.arrow\n"
     ]
    },
    {
     "name": "stdout",
     "output_type": "stream",
     "text": [
      "DatasetDict({\n",
      "    train: Dataset({\n",
      "        features: ['essay_id', 'essay', 'category', 'encoded_labels'],\n",
      "        num_rows: 12978\n",
      "    })\n",
      "})\n"
     ]
    }
   ],
   "source": [
    "from sklearn.preprocessing import LabelEncoder\n",
    "from datasets import Dataset\n",
    "\n",
    "# Instantiate the LabelEncoder\n",
    "label_encoder = LabelEncoder()\n",
    "\n",
    "# Function to encode the labels within the 'map' method\n",
    "def encode_labels(example):\n",
    "    example['encoded_labels'] = label_encoder.transform([example['category']])[0]\n",
    "    return example\n",
    "\n",
    "# Fit the LabelEncoder on the categories\n",
    "label_encoder.fit(dataset['train']['category'])\n",
    "\n",
    "# Use the 'map' function to apply the encoding to each example\n",
    "dataset['train'] = dataset['train'].map(encode_labels, batched=False)\n",
    "\n",
    "print(dataset)"
   ]
  },
  {
   "cell_type": "markdown",
   "id": "fcbec697-5f1a-4f06-8e6a-daed5b9cfa91",
   "metadata": {},
   "source": [
    "#### 3.2 Save the label encoder so you can inverse transform the predictions later on "
   ]
  },
  {
   "cell_type": "code",
   "execution_count": 7,
   "id": "d42209c0-3ae2-4b30-9761-c90a3341d3ae",
   "metadata": {
    "tags": []
   },
   "outputs": [
    {
     "data": {
      "text/plain": [
       "['label_encoder.joblib']"
      ]
     },
     "execution_count": 7,
     "metadata": {},
     "output_type": "execute_result"
    }
   ],
   "source": [
    "import joblib\n",
    "\n",
    "# Save the fitted LabelEncoder to a file so you can load it again and apply the inverse transform\n",
    "joblib.dump(label_encoder, 'label_encoder.joblib')\n",
    "\n",
    "# Later on, or in another script, you can load it back\n",
    "#label_encoder = joblib.load('label_encoder.joblib')\n",
    "\n",
    "# And then use it to inverse transform your predictions\n",
    "#predicted_categories = label_encoder.inverse_transform(predictions)"
   ]
  },
  {
   "cell_type": "markdown",
   "id": "b82bcc14-c9b4-434b-b69c-a38b92871a65",
   "metadata": {
    "tags": []
   },
   "source": [
    "#### 3.3 - Shuffle and sample a smaller dataset"
   ]
  },
  {
   "cell_type": "code",
   "execution_count": 8,
   "id": "76245a47-70ae-45b5-9e93-42cc99b10b66",
   "metadata": {
    "tags": []
   },
   "outputs": [
    {
     "name": "stderr",
     "output_type": "stream",
     "text": [
      "Loading cached shuffled indices for dataset at /root/.cache/huggingface/datasets/csv/default-635f8d9d43b9c06c/0.0.0/6954658bab30a358235fa864b05cf819af0e179325c740e4bc853bcc7ec513e1/cache-203d54942b8fa79c.arrow\n"
     ]
    },
    {
     "name": "stdout",
     "output_type": "stream",
     "text": [
      "Dataset({\n",
      "    features: ['essay_id', 'essay', 'category', 'encoded_labels'],\n",
      "    num_rows: 2000\n",
      "})\n"
     ]
    }
   ],
   "source": [
    "# Shuffle the dataset\n",
    "shuffled_dataset = dataset['train'].shuffle(seed=42)\n",
    "\n",
    "# Select n random samples\n",
    "n_samples = 2000\n",
    "scored_essays = shuffled_dataset.select(range(n_samples))\n",
    "\n",
    "print(scored_essays)\n"
   ]
  },
  {
   "cell_type": "markdown",
   "id": "f4954fc1-f0ef-4ae0-8c42-b744262057f8",
   "metadata": {},
   "source": [
    "#### 3.4 - Extract the essays and grades"
   ]
  },
  {
   "cell_type": "code",
   "execution_count": 9,
   "id": "1c71d5e3-613b-4ca3-9dee-df6fb5ac822f",
   "metadata": {
    "tags": []
   },
   "outputs": [],
   "source": [
    "essays = scored_essays['essay'] # list of essay strings\n",
    "grades = scored_essays['encoded_labels'] # list of categorical grades"
   ]
  },
  {
   "cell_type": "markdown",
   "id": "ae7ee900-dad5-4e1a-b203-3bf3e55e7eb0",
   "metadata": {
    "tags": []
   },
   "source": [
    "Split the data"
   ]
  },
  {
   "cell_type": "code",
   "execution_count": 10,
   "id": "6a0e7509-be66-41dc-96d2-bd460659c785",
   "metadata": {
    "tags": []
   },
   "outputs": [],
   "source": [
    "from sklearn.model_selection import train_test_split\n",
    "\n",
    "# Split into training and temporary sets (80/20 split)\n",
    "essays_train, essays_temp, grades_train, grades_temp = train_test_split(\n",
    "    essays, grades, test_size=0.2, random_state=42)\n",
    "\n",
    "# Split the temporary set into validation and test sets (50/50 split)\n",
    "essays_val, essays_test, grades_val, grades_test = train_test_split(\n",
    "    essays_temp, grades_temp, test_size=0.5, random_state=42)\n"
   ]
  },
  {
   "cell_type": "markdown",
   "id": "a63a7507-3546-4b9e-9be1-a742ae3ffc28",
   "metadata": {},
   "source": [
    "### 4 - Tokenize the data  \n",
    "Create a dataset where each item is a tuple containing the tokenized essay and the corresponding categorical grade.  \n",
    "These datasets can then be used to create DataLoaders which will handle batching of data for training."
   ]
  },
  {
   "cell_type": "code",
   "execution_count": 11,
   "id": "157f9051-5b8f-441e-a2bb-de8a026c540f",
   "metadata": {
    "tags": []
   },
   "outputs": [],
   "source": [
    "train_dataset = EssayDataset(essays_train, grades_train)\n",
    "val_dataset = EssayDataset(essays_val, grades_val)\n",
    "\n",
    "train_dataloader = DataLoader(train_dataset, batch_size=8, shuffle=True)\n",
    "val_dataloader = DataLoader(val_dataset, batch_size=8, shuffle=False)"
   ]
  },
  {
   "cell_type": "markdown",
   "id": "0f4ad8cc-dafe-4a69-8c5b-b6ed35873f69",
   "metadata": {},
   "source": [
    "#### 4.1 - Initialize the original model and optimizer"
   ]
  },
  {
   "cell_type": "code",
   "execution_count": 12,
   "id": "fe49bd43-c526-4c49-84ae-ae9ee5c48688",
   "metadata": {
    "tags": []
   },
   "outputs": [
    {
     "name": "stderr",
     "output_type": "stream",
     "text": [
      "Some weights of the model checkpoint at bert-base-uncased were not used when initializing BertForSequenceClassification: ['cls.predictions.transform.LayerNorm.weight', 'cls.seq_relationship.bias', 'cls.predictions.transform.dense.weight', 'cls.predictions.transform.LayerNorm.bias', 'cls.predictions.transform.dense.bias', 'cls.seq_relationship.weight', 'cls.predictions.decoder.weight', 'cls.predictions.bias']\n",
      "- This IS expected if you are initializing BertForSequenceClassification from the checkpoint of a model trained on another task or with another architecture (e.g. initializing a BertForSequenceClassification model from a BertForPreTraining model).\n",
      "- This IS NOT expected if you are initializing BertForSequenceClassification from the checkpoint of a model that you expect to be exactly identical (initializing a BertForSequenceClassification model from a BertForSequenceClassification model).\n",
      "Some weights of BertForSequenceClassification were not initialized from the model checkpoint at bert-base-uncased and are newly initialized: ['classifier.bias', 'classifier.weight']\n",
      "You should probably TRAIN this model on a down-stream task to be able to use it for predictions and inference.\n",
      "/opt/conda/lib/python3.10/site-packages/transformers/optimization.py:391: FutureWarning: This implementation of AdamW is deprecated and will be removed in a future version. Use the PyTorch implementation torch.optim.AdamW instead, or set `no_deprecation_warning=True` to disable this warning\n",
      "  warnings.warn(\n"
     ]
    }
   ],
   "source": [
    "num_classes = 6\n",
    "original_model = BertForSequenceClassification.from_pretrained(\n",
    "    model_name,\n",
    "    num_labels=num_classes,  # this is the number of classes\n",
    "    problem_type=\"single_label_classification\"  # make sure to set this for single-label classification\n",
    ")\n",
    "\n",
    "optimizer = AdamW(original_model.parameters(), lr=1e-5)"
   ]
  },
  {
   "cell_type": "markdown",
   "id": "04d1fe95-3fa1-42e3-b850-d7fe89a3dfbe",
   "metadata": {},
   "source": [
    "#### 4.2 - Print the number of trainable model parameters"
   ]
  },
  {
   "cell_type": "code",
   "execution_count": 13,
   "id": "918a4389-6dd9-4a39-81fd-fbef1484a175",
   "metadata": {
    "tags": []
   },
   "outputs": [
    {
     "name": "stdout",
     "output_type": "stream",
     "text": [
      "trainable model parameters: 109486854\n",
      "all model parameters: 109486854\n",
      "percentage of trainable model parameters: 100.00%\n"
     ]
    }
   ],
   "source": [
    "def print_number_of_trainable_model_parameters(model):\n",
    "    trainable_model_params = 0\n",
    "    all_model_params = 0\n",
    "    for _, param in model.named_parameters():\n",
    "        all_model_params += param.numel()\n",
    "        if param.requires_grad:\n",
    "            trainable_model_params += param.numel()\n",
    "    return f\"trainable model parameters: {trainable_model_params}\\nall model parameters: {all_model_params}\\npercentage of trainable model parameters: {100 * trainable_model_params / all_model_params:.2f}%\"\n",
    "\n",
    "print(print_number_of_trainable_model_parameters(original_model))"
   ]
  },
  {
   "cell_type": "markdown",
   "id": "eb580252-1972-481c-8e97-de20b8704ace",
   "metadata": {
    "tags": []
   },
   "source": [
    "### 5 - Full fine tuning\n",
    "\n"
   ]
  },
  {
   "cell_type": "markdown",
   "id": "2a0af371-2517-4779-9a0d-0d173663e7ac",
   "metadata": {},
   "source": [
    "Train for 1 epoch to ensure the training and validation steps work."
   ]
  },
  {
   "cell_type": "code",
   "execution_count": 21,
   "id": "4f44c28c-859b-4e4e-ae0a-a753bc3d3ff8",
   "metadata": {
    "tags": []
   },
   "outputs": [
    {
     "name": "stdout",
     "output_type": "stream",
     "text": [
      "Epoch 1, Training loss: 0.4019169419631362\n",
      "Epoch 1, Validation loss: 0.45629968523979186\n",
      "Validation Accuracy: 0.825\n",
      "Validation loss decreased from inf to 0.45629968523979186. Saving model to ./full-finetune-essay-categories\n",
      "              precision    recall  f1-score   support\n",
      "\n",
      "           A       1.00      0.95      0.98        21\n",
      "           B       0.82      0.86      0.84        21\n",
      "           C       0.84      0.80      0.82        20\n",
      "           D       0.90      0.88      0.89        69\n",
      "           E       0.51      0.74      0.61        27\n",
      "           F       0.94      0.71      0.81        42\n",
      "\n",
      "    accuracy                           0.82       200\n",
      "   macro avg       0.83      0.82      0.82       200\n",
      "weighted avg       0.85      0.82      0.83       200\n",
      "\n"
     ]
    }
   ],
   "source": [
    "from sklearn.metrics import accuracy_score, classification_report\n",
    "import copy\n",
    "\n",
    "n_epochs = 1  # Set a higher number of epochs to take advantage of early stopping\n",
    "patience = 2  # Number of epochs to wait for improvement before stopping\n",
    "patience_counter = 0  # To keep track of how many epochs without improvement\n",
    "best_val_loss = float('inf')\n",
    "best_model = None\n",
    "original_model_path = './full-finetune-essay-categories' # Define a path to save the model\n",
    "\n",
    "\n",
    "for epoch in range(n_epochs):\n",
    "    # Training\n",
    "    original_model.train()\n",
    "    train_loss = 0\n",
    "    for batch in train_dataloader:\n",
    "        optimizer.zero_grad()\n",
    "\n",
    "        # Unpack the tokenized tensors and encoded labels from the batch\n",
    "        tokenized_tensors = batch[0]\n",
    "        labels = batch[1]\n",
    "\n",
    "        # Extract the tokenized tensors\n",
    "        input_ids = tokenized_tensors['input_ids']\n",
    "        attention_mask = tokenized_tensors['attention_mask']\n",
    "        \n",
    "        # Convert labels to long integers\n",
    "        labels = labels.long()\n",
    "\n",
    "        # Forward pass with labels to compute loss\n",
    "        outputs = original_model(input_ids=input_ids, attention_mask=attention_mask, labels=labels)\n",
    "        logits = outputs.logits\n",
    "        loss = outputs.loss\n",
    "        loss.backward()  # Backward pass\n",
    "        optimizer.step()\n",
    "        train_loss += loss.item()\n",
    "\n",
    "    avg_train_loss = train_loss / len(train_dataloader)\n",
    "    print(f'Epoch {epoch + 1}, Training loss: {avg_train_loss}')\n",
    "\n",
    "    # Validation\n",
    "    original_model.eval()\n",
    "    val_loss = 0\n",
    "    val_preds, val_labels = [], []\n",
    "\n",
    "    with torch.no_grad():\n",
    "        for batch in val_dataloader:\n",
    "            # Unpack the tokenized tensors and labels from the batch\n",
    "            tokenized_tensors = batch[0]\n",
    "            labels = batch[1]\n",
    "\n",
    "            input_ids = tokenized_tensors['input_ids']\n",
    "            attention_mask = tokenized_tensors['attention_mask']\n",
    "\n",
    "            # Convert labels to long integers\n",
    "            labels = labels.long()\n",
    "\n",
    "            # Forward pass, we don't provide labels during inference\n",
    "            outputs = original_model(input_ids=input_ids, attention_mask=attention_mask, labels=labels)\n",
    "            logits = outputs.logits\n",
    "            val_loss += outputs.loss.item()\n",
    "            preds = torch.argmax(logits, dim=-1)\n",
    "            val_preds.extend(preds.cpu().numpy())\n",
    "            val_labels.extend(labels.cpu().numpy())\n",
    "\n",
    "    avg_val_loss = val_loss / len(val_dataloader)\n",
    "    print(f'Epoch {epoch + 1}, Validation loss: {avg_val_loss}')\n",
    "\n",
    "    # Calculate classification metrics\n",
    "    accuracy = accuracy_score(val_labels, val_preds)\n",
    "    report = classification_report(val_labels, val_preds, target_names=label_encoder.classes_)\n",
    "    print(f'Validation Accuracy: {accuracy}')\n",
    "\n",
    "    # Save model if validation loss has improved\n",
    "    if avg_val_loss < best_val_loss:\n",
    "        print(f'Validation loss decreased from {best_val_loss} to {avg_val_loss}. Saving model to {original_model_path}')\n",
    "        best_val_loss = avg_val_loss\n",
    "        best_model = copy.deepcopy(original_model.state_dict())\n",
    "        patience_counter = 0\n",
    "        \n",
    "        # Save best model to disk\n",
    "        # First ensure the best model weights are loaded\n",
    "        original_model.load_state_dict(best_model)\n",
    "\n",
    "        # Save model weights\n",
    "        original_model.save_pretrained(original_model_path)\n",
    "\n",
    "        # Save tokenizer from the train_dataset\n",
    "        train_dataset.tokenizer.save_pretrained(original_model_path)\n",
    "    else:\n",
    "        patience_counter += 1\n",
    "        print(f'Validation loss did not improve. Patience: {patience_counter}/{patience}')\n",
    "        if patience_counter >= patience:\n",
    "            print(\"Early stopping triggered\")\n",
    "            break\n",
    "            \n",
    "    print(report)\n"
   ]
  },
  {
   "cell_type": "markdown",
   "id": "fdec38dd-9631-4f9c-86af-e39fbf892da6",
   "metadata": {
    "tags": []
   },
   "source": [
    "Save the best model and the corresponding tokenizer"
   ]
  },
  {
   "cell_type": "code",
   "execution_count": 22,
   "id": "6435ddb3-0b54-45ca-b86e-1ae0dc1c4381",
   "metadata": {
    "tags": []
   },
   "outputs": [
    {
     "data": {
      "text/plain": [
       "('./full-finetune-essay-categories/tokenizer_config.json',\n",
       " './full-finetune-essay-categories/special_tokens_map.json',\n",
       " './full-finetune-essay-categories/vocab.txt',\n",
       " './full-finetune-essay-categories/added_tokens.json')"
      ]
     },
     "execution_count": 22,
     "metadata": {},
     "output_type": "execute_result"
    }
   ],
   "source": [
    "# Ensure the best model weights are loaded\n",
    "original_model.load_state_dict(best_model)\n",
    "\n",
    "# Save model weights\n",
    "original_model.save_pretrained(original_model_path)\n",
    "\n",
    "# Save tokenizer from the train_dataset\n",
    "train_dataset.tokenizer.save_pretrained(original_model_path)\n"
   ]
  },
  {
   "cell_type": "markdown",
   "id": "325f1af2-4720-495b-8cd2-8e8f08525cea",
   "metadata": {},
   "source": [
    "Optional: Reload model and tokenizer from file when needed"
   ]
  },
  {
   "cell_type": "code",
   "execution_count": 23,
   "id": "cdf013fe-7f98-4f00-88e8-8b76d7a25b51",
   "metadata": {
    "tags": []
   },
   "outputs": [],
   "source": [
    "original_model = BertForSequenceClassification.from_pretrained(original_model_path)\n",
    "tokenizer = BertTokenizer.from_pretrained(original_model_path)"
   ]
  },
  {
   "cell_type": "markdown",
   "id": "ab60039e-d3b4-47d7-a00f-1d04bd99f83c",
   "metadata": {},
   "source": [
    "### 6 - Parameter efficient fine tuning"
   ]
  },
  {
   "cell_type": "markdown",
   "id": "509c9833-b1e9-414c-bf2a-e3d05f181d5d",
   "metadata": {},
   "source": [
    "#### 6.1 - Setup the PEFT/LoRA model for Fine-Tuning\n",
    "\n",
    "Performing full-finetuning can lead to catastrophic forgetting because it changes all parameters on the model. Since PEFT only updates a small subset of parameters, it's more robust against this catastrophic forgetting effect.\n",
    "\n",
    "Set up the PEFT/LoRA model for fine-tuning with a new layer/parameter adapter. Using PEFT/LoRA, you are freezing the underlying LLM and only training the adapter. Have a look at the LoRA configuration below. Note the rank (`r`) hyper-parameter, which defines the rank/dimension of the adapter to be trained."
   ]
  },
  {
   "cell_type": "code",
   "execution_count": 28,
   "id": "10b388af-0a15-47ee-97ff-e4f688d3034b",
   "metadata": {
    "tags": []
   },
   "outputs": [
    {
     "name": "stdout",
     "output_type": "stream",
     "text": [
      "\u001b[33mWARNING: Running pip as the 'root' user can result in broken permissions and conflicting behaviour with the system package manager. It is recommended to use a virtual environment instead: https://pip.pypa.io/warnings/venv\u001b[0m\u001b[33m\n",
      "\u001b[0mNote: you may need to restart the kernel to use updated packages.\n"
     ]
    }
   ],
   "source": [
    "%pip install peft==0.3.0 --quiet\n",
    "\n",
    "from peft import LoraConfig, get_peft_model, TaskType\n",
    "\n",
    "lora_config = LoraConfig(\n",
    "    r=32,  # Rank\n",
    "    lora_alpha=32,\n",
    "    target_modules=[\"attention.self.query\", \"attention.self.value\"],\n",
    "    lora_dropout=0.05,\n",
    "    bias=\"none\",\n",
    "    task_type=TaskType.SEQ_CLS # Sequence classificatio task\n",
    ")\n"
   ]
  },
  {
   "cell_type": "markdown",
   "id": "d78c927b-7aee-4cb9-b1b9-4b7a1d99cb16",
   "metadata": {
    "tags": []
   },
   "source": [
    "#### 6.2 - Add LoRA adapter layers/parameters to the original LLM to be trained."
   ]
  },
  {
   "cell_type": "code",
   "execution_count": 29,
   "id": "0c9bbd6f-e4f5-436c-b8da-b58c65983e58",
   "metadata": {
    "tags": []
   },
   "outputs": [
    {
     "name": "stdout",
     "output_type": "stream",
     "text": [
      "trainable model parameters: 1179648\n",
      "all model parameters: 110671116\n",
      "percentage of trainable model parameters: 1.07%\n"
     ]
    }
   ],
   "source": [
    "peft_model = get_peft_model(original_model, lora_config)\n",
    "\n",
    "print(print_number_of_trainable_model_parameters(peft_model))"
   ]
  },
  {
   "cell_type": "markdown",
   "id": "082e1d4c-b2b6-485e-a7bb-1fe7926ba97c",
   "metadata": {},
   "source": [
    "#### 6.3 - Train PEFT Adapter\n",
    "\n",
    "Define training arguments and create `Trainer` instance."
   ]
  },
  {
   "cell_type": "code",
   "execution_count": null,
   "id": "0c368380-e1d4-40bd-baf0-2670e91934ba",
   "metadata": {
    "tags": []
   },
   "outputs": [
    {
     "name": "stderr",
     "output_type": "stream",
     "text": [
      "/opt/conda/lib/python3.10/site-packages/transformers/optimization.py:391: FutureWarning: This implementation of AdamW is deprecated and will be removed in a future version. Use the PyTorch implementation torch.optim.AdamW instead, or set `no_deprecation_warning=True` to disable this warning\n",
      "  warnings.warn(\n"
     ]
    },
    {
     "name": "stdout",
     "output_type": "stream",
     "text": [
      "Epoch 1, Training loss: 1.54435546875\n",
      "Epoch 1, Validation loss: 1.34453125\n",
      "Validation Accuracy: 0.455\n",
      "Validation loss decreased from inf to 1.34453125. Saving model to ./peft-essay-categories\n"
     ]
    },
    {
     "name": "stderr",
     "output_type": "stream",
     "text": [
      "/opt/conda/lib/python3.10/site-packages/sklearn/metrics/_classification.py:1308: UndefinedMetricWarning: Precision and F-score are ill-defined and being set to 0.0 in labels with no predicted samples. Use `zero_division` parameter to control this behavior.\n",
      "  _warn_prf(average, modifier, msg_start, len(result))\n",
      "/opt/conda/lib/python3.10/site-packages/sklearn/metrics/_classification.py:1308: UndefinedMetricWarning: Precision and F-score are ill-defined and being set to 0.0 in labels with no predicted samples. Use `zero_division` parameter to control this behavior.\n",
      "  _warn_prf(average, modifier, msg_start, len(result))\n",
      "/opt/conda/lib/python3.10/site-packages/sklearn/metrics/_classification.py:1308: UndefinedMetricWarning: Precision and F-score are ill-defined and being set to 0.0 in labels with no predicted samples. Use `zero_division` parameter to control this behavior.\n",
      "  _warn_prf(average, modifier, msg_start, len(result))\n"
     ]
    },
    {
     "name": "stdout",
     "output_type": "stream",
     "text": [
      "              precision    recall  f1-score   support\n",
      "\n",
      "           A       0.60      0.14      0.23        21\n",
      "           B       0.00      0.00      0.00        21\n",
      "           C       0.50      0.40      0.44        20\n",
      "           D       0.50      0.97      0.66        69\n",
      "           E       0.17      0.22      0.19        27\n",
      "           F       0.78      0.17      0.27        42\n",
      "\n",
      "    accuracy                           0.46       200\n",
      "   macro avg       0.42      0.32      0.30       200\n",
      "weighted avg       0.47      0.46      0.38       200\n",
      "\n",
      "Epoch 2, Training loss: 1.34390625\n",
      "Epoch 2, Validation loss: 1.2125\n",
      "Validation Accuracy: 0.555\n",
      "Validation loss decreased from 1.34453125 to 1.2125. Saving model to ./peft-essay-categories\n",
      "              precision    recall  f1-score   support\n",
      "\n",
      "           A       1.00      0.10      0.17        21\n",
      "           B       0.61      0.52      0.56        21\n",
      "           C       0.75      0.30      0.43        20\n",
      "           D       0.55      0.96      0.70        69\n",
      "           E       0.29      0.37      0.33        27\n",
      "           F       0.84      0.38      0.52        42\n",
      "\n",
      "    accuracy                           0.56       200\n",
      "   macro avg       0.68      0.44      0.45       200\n",
      "weighted avg       0.65      0.56      0.52       200\n",
      "\n",
      "Epoch 3, Training loss: 1.24919921875\n",
      "Epoch 3, Validation loss: 1.2021875\n",
      "Validation Accuracy: 0.515\n",
      "Validation loss decreased from 1.2125 to 1.2021875. Saving model to ./peft-essay-categories\n"
     ]
    },
    {
     "name": "stderr",
     "output_type": "stream",
     "text": [
      "/opt/conda/lib/python3.10/site-packages/sklearn/metrics/_classification.py:1308: UndefinedMetricWarning: Precision and F-score are ill-defined and being set to 0.0 in labels with no predicted samples. Use `zero_division` parameter to control this behavior.\n",
      "  _warn_prf(average, modifier, msg_start, len(result))\n",
      "/opt/conda/lib/python3.10/site-packages/sklearn/metrics/_classification.py:1308: UndefinedMetricWarning: Precision and F-score are ill-defined and being set to 0.0 in labels with no predicted samples. Use `zero_division` parameter to control this behavior.\n",
      "  _warn_prf(average, modifier, msg_start, len(result))\n",
      "/opt/conda/lib/python3.10/site-packages/sklearn/metrics/_classification.py:1308: UndefinedMetricWarning: Precision and F-score are ill-defined and being set to 0.0 in labels with no predicted samples. Use `zero_division` parameter to control this behavior.\n",
      "  _warn_prf(average, modifier, msg_start, len(result))\n"
     ]
    },
    {
     "name": "stdout",
     "output_type": "stream",
     "text": [
      "              precision    recall  f1-score   support\n",
      "\n",
      "           A       0.75      0.14      0.24        21\n",
      "           B       0.00      0.00      0.00        21\n",
      "           C       0.52      0.65      0.58        20\n",
      "           D       0.60      0.86      0.71        69\n",
      "           E       0.24      0.48      0.32        27\n",
      "           F       0.79      0.36      0.49        42\n",
      "\n",
      "    accuracy                           0.52       200\n",
      "   macro avg       0.48      0.41      0.39       200\n",
      "weighted avg       0.54      0.52      0.47       200\n",
      "\n",
      "Epoch 4, Training loss: 1.1851171875\n",
      "Epoch 4, Validation loss: 1.07890625\n",
      "Validation Accuracy: 0.615\n",
      "Validation loss decreased from 1.2021875 to 1.07890625. Saving model to ./peft-essay-categories\n",
      "              precision    recall  f1-score   support\n",
      "\n",
      "           A       0.92      0.52      0.67        21\n",
      "           B       0.67      0.29      0.40        21\n",
      "           C       0.39      0.75      0.52        20\n",
      "           D       0.66      0.74      0.70        69\n",
      "           E       0.44      0.26      0.33        27\n",
      "           F       0.69      0.79      0.73        42\n",
      "\n",
      "    accuracy                           0.61       200\n",
      "   macro avg       0.63      0.56      0.56       200\n",
      "weighted avg       0.64      0.61      0.60       200\n",
      "\n",
      "Epoch 5, Training loss: 1.148837890625\n",
      "Epoch 5, Validation loss: 1.08859375\n",
      "Validation Accuracy: 0.6\n",
      "Validation loss did not improve. Patience: 1/5\n",
      "              precision    recall  f1-score   support\n",
      "\n",
      "           A       1.00      0.10      0.17        21\n",
      "           B       0.69      0.52      0.59        21\n",
      "           C       0.65      0.65      0.65        20\n",
      "           D       0.54      0.96      0.69        69\n",
      "           E       0.14      0.04      0.06        27\n",
      "           F       0.84      0.64      0.73        42\n",
      "\n",
      "    accuracy                           0.60       200\n",
      "   macro avg       0.64      0.48      0.48       200\n",
      "weighted avg       0.62      0.60      0.54       200\n",
      "\n",
      "Epoch 6, Training loss: 1.1049609375\n",
      "Epoch 6, Validation loss: 1.08359375\n",
      "Validation Accuracy: 0.585\n",
      "Validation loss did not improve. Patience: 2/5\n",
      "              precision    recall  f1-score   support\n",
      "\n",
      "           A       0.72      0.62      0.67        21\n",
      "           B       1.00      0.05      0.09        21\n",
      "           C       0.48      0.75      0.59        20\n",
      "           D       0.65      0.88      0.75        69\n",
      "           E       0.28      0.37      0.32        27\n",
      "           F       0.85      0.40      0.55        42\n",
      "\n",
      "    accuracy                           0.58       200\n",
      "   macro avg       0.66      0.51      0.49       200\n",
      "weighted avg       0.67      0.58      0.55       200\n",
      "\n",
      "Epoch 7, Training loss: 1.080771484375\n",
      "Epoch 7, Validation loss: 1.0853125\n",
      "Validation Accuracy: 0.575\n",
      "Validation loss did not improve. Patience: 3/5\n",
      "              precision    recall  f1-score   support\n",
      "\n",
      "           A       0.80      0.57      0.67        21\n",
      "           B       0.71      0.57      0.63        21\n",
      "           C       1.00      0.30      0.46        20\n",
      "           D       0.55      0.96      0.70        69\n",
      "           E       0.19      0.19      0.19        27\n",
      "           F       0.88      0.33      0.48        42\n",
      "\n",
      "    accuracy                           0.57       200\n",
      "   macro avg       0.69      0.49      0.52       200\n",
      "weighted avg       0.66      0.57      0.55       200\n",
      "\n",
      "Epoch 8, Training loss: 1.07572265625\n",
      "Epoch 8, Validation loss: 1.030703125\n",
      "Validation Accuracy: 0.585\n",
      "Validation loss decreased from 1.07890625 to 1.030703125. Saving model to ./peft-essay-categories\n",
      "              precision    recall  f1-score   support\n",
      "\n",
      "           A       0.64      0.76      0.70        21\n",
      "           B       0.00      0.00      0.00        21\n",
      "           C       0.86      0.30      0.44        20\n",
      "           D       0.53      0.94      0.68        69\n",
      "           E       0.00      0.00      0.00        27\n",
      "           F       0.71      0.71      0.71        42\n",
      "\n",
      "    accuracy                           0.58       200\n",
      "   macro avg       0.46      0.45      0.42       200\n",
      "weighted avg       0.49      0.58      0.50       200\n",
      "\n",
      "Epoch 9, Training loss: 1.048056640625\n",
      "Epoch 9, Validation loss: 0.989375\n",
      "Validation Accuracy: 0.6\n",
      "Validation loss decreased from 1.030703125 to 0.989375. Saving model to ./peft-essay-categories\n",
      "              precision    recall  f1-score   support\n",
      "\n",
      "           A       0.68      0.62      0.65        21\n",
      "           B       0.50      0.05      0.09        21\n",
      "           C       0.68      0.65      0.67        20\n",
      "           D       0.57      0.94      0.71        69\n",
      "           E       0.17      0.07      0.10        27\n",
      "           F       0.79      0.62      0.69        42\n",
      "\n",
      "    accuracy                           0.60       200\n",
      "   macro avg       0.56      0.49      0.48       200\n",
      "weighted avg       0.58      0.60      0.55       200\n",
      "\n",
      "Epoch 10, Training loss: 1.04916015625\n",
      "Epoch 10, Validation loss: 1.0515625\n",
      "Validation Accuracy: 0.6\n",
      "Validation loss did not improve. Patience: 1/5\n",
      "              precision    recall  f1-score   support\n",
      "\n",
      "           A       0.93      0.62      0.74        21\n",
      "           B       0.61      0.67      0.64        21\n",
      "           C       1.00      0.40      0.57        20\n",
      "           D       0.65      0.88      0.75        69\n",
      "           E       0.29      0.56      0.38        27\n",
      "           F       0.90      0.21      0.35        42\n",
      "\n",
      "    accuracy                           0.60       200\n",
      "   macro avg       0.73      0.56      0.57       200\n",
      "weighted avg       0.71      0.60      0.58       200\n",
      "\n",
      "Epoch 11, Training loss: 1.0151953125\n",
      "Epoch 11, Validation loss: 1.045859375\n",
      "Validation Accuracy: 0.575\n",
      "Validation loss did not improve. Patience: 2/5\n",
      "              precision    recall  f1-score   support\n",
      "\n",
      "           A       0.82      0.43      0.56        21\n",
      "           B       0.75      0.14      0.24        21\n",
      "           C       0.65      0.65      0.65        20\n",
      "           D       0.53      0.96      0.68        69\n",
      "           E       0.22      0.15      0.18        27\n",
      "           F       0.87      0.48      0.62        42\n",
      "\n",
      "    accuracy                           0.57       200\n",
      "   macro avg       0.64      0.47      0.49       200\n",
      "weighted avg       0.63      0.57      0.54       200\n",
      "\n",
      "Epoch 12, Training loss: 1.002734375\n",
      "Epoch 12, Validation loss: 0.963046875\n",
      "Validation Accuracy: 0.63\n",
      "Validation loss decreased from 0.989375 to 0.963046875. Saving model to ./peft-essay-categories\n",
      "              precision    recall  f1-score   support\n",
      "\n",
      "           A       0.64      0.76      0.70        21\n",
      "           B       0.75      0.14      0.24        21\n",
      "           C       0.58      0.70      0.64        20\n",
      "           D       0.61      0.93      0.74        69\n",
      "           E       0.18      0.07      0.11        27\n",
      "           F       0.87      0.64      0.74        42\n",
      "\n",
      "    accuracy                           0.63       200\n",
      "   macro avg       0.61      0.54      0.53       200\n",
      "weighted avg       0.62      0.63      0.59       200\n",
      "\n",
      "Epoch 13, Training loss: 1.01501953125\n",
      "Epoch 13, Validation loss: 0.925625\n",
      "Validation Accuracy: 0.65\n",
      "Validation loss decreased from 0.963046875 to 0.925625. Saving model to ./peft-essay-categories\n",
      "              precision    recall  f1-score   support\n",
      "\n",
      "           A       0.68      0.71      0.70        21\n",
      "           B       0.77      0.48      0.59        21\n",
      "           C       1.00      0.45      0.62        20\n",
      "           D       0.61      0.94      0.74        69\n",
      "           E       0.33      0.30      0.31        27\n",
      "           F       0.88      0.55      0.68        42\n",
      "\n",
      "    accuracy                           0.65       200\n",
      "   macro avg       0.71      0.57      0.61       200\n",
      "weighted avg       0.69      0.65      0.64       200\n",
      "\n",
      "Epoch 14, Training loss: 0.97296875\n",
      "Epoch 14, Validation loss: 0.981875\n",
      "Validation Accuracy: 0.645\n",
      "Validation loss did not improve. Patience: 1/5\n",
      "              precision    recall  f1-score   support\n",
      "\n",
      "           A       0.93      0.62      0.74        21\n",
      "           B       0.79      0.52      0.63        21\n",
      "           C       0.58      0.70      0.64        20\n",
      "           D       0.74      0.80      0.77        69\n",
      "           E       0.35      0.70      0.46        27\n",
      "           F       0.89      0.40      0.56        42\n",
      "\n",
      "    accuracy                           0.65       200\n",
      "   macro avg       0.71      0.62      0.63       200\n",
      "weighted avg       0.73      0.65      0.65       200\n",
      "\n",
      "Epoch 15, Training loss: 1.0140625\n",
      "Epoch 15, Validation loss: 0.896640625\n",
      "Validation Accuracy: 0.675\n",
      "Validation loss decreased from 0.925625 to 0.896640625. Saving model to ./peft-essay-categories\n",
      "              precision    recall  f1-score   support\n",
      "\n",
      "           A       0.68      0.71      0.70        21\n",
      "           B       0.64      0.33      0.44        21\n",
      "           C       0.70      0.70      0.70        20\n",
      "           D       0.68      0.93      0.79        69\n",
      "           E       0.38      0.37      0.38        27\n",
      "           F       0.93      0.60      0.72        42\n",
      "\n",
      "    accuracy                           0.68       200\n",
      "   macro avg       0.67      0.61      0.62       200\n",
      "weighted avg       0.69      0.68      0.66       200\n",
      "\n",
      "Epoch 16, Training loss: 0.983173828125\n",
      "Epoch 16, Validation loss: 0.99359375\n",
      "Validation Accuracy: 0.615\n",
      "Validation loss did not improve. Patience: 1/5\n",
      "              precision    recall  f1-score   support\n",
      "\n",
      "           A       0.67      0.67      0.67        21\n",
      "           B       0.71      0.24      0.36        21\n",
      "           C       0.92      0.60      0.73        20\n",
      "           D       0.66      0.88      0.76        69\n",
      "           E       0.33      0.63      0.43        27\n",
      "           F       0.93      0.33      0.49        42\n",
      "\n",
      "    accuracy                           0.61       200\n",
      "   macro avg       0.70      0.56      0.57       200\n",
      "weighted avg       0.71      0.61      0.60       200\n",
      "\n",
      "Epoch 17, Training loss: 0.996201171875\n",
      "Epoch 17, Validation loss: 0.938515625\n",
      "Validation Accuracy: 0.635\n",
      "Validation loss did not improve. Patience: 2/5\n",
      "              precision    recall  f1-score   support\n",
      "\n",
      "           A       0.69      0.86      0.77        21\n",
      "           B       0.80      0.19      0.31        21\n",
      "           C       0.52      0.70      0.60        20\n",
      "           D       0.69      0.87      0.77        69\n",
      "           E       0.31      0.37      0.34        27\n",
      "           F       0.91      0.50      0.65        42\n",
      "\n",
      "    accuracy                           0.64       200\n",
      "   macro avg       0.65      0.58      0.57       200\n",
      "weighted avg       0.68      0.64      0.62       200\n",
      "\n",
      "Epoch 18, Training loss: 0.990576171875\n",
      "Epoch 18, Validation loss: 0.9284375\n",
      "Validation Accuracy: 0.665\n",
      "Validation loss did not improve. Patience: 3/5\n",
      "              precision    recall  f1-score   support\n",
      "\n",
      "           A       0.87      0.62      0.72        21\n",
      "           B       0.60      0.57      0.59        21\n",
      "           C       0.64      0.70      0.67        20\n",
      "           D       0.75      0.80      0.77        69\n",
      "           E       0.38      0.67      0.49        27\n",
      "           F       0.91      0.50      0.65        42\n",
      "\n",
      "    accuracy                           0.67       200\n",
      "   macro avg       0.69      0.64      0.65       200\n",
      "weighted avg       0.72      0.67      0.67       200\n",
      "\n",
      "Epoch 19, Training loss: 0.968583984375\n",
      "Epoch 19, Validation loss: 0.91703125\n",
      "Epoch 00019: reducing learning rate of group 0 to 1.0000e-04.\n",
      "Validation Accuracy: 0.64\n",
      "Validation loss did not improve. Patience: 4/5\n",
      "              precision    recall  f1-score   support\n",
      "\n",
      "           A       0.65      0.81      0.72        21\n",
      "           B       0.83      0.24      0.37        21\n",
      "           C       0.92      0.60      0.73        20\n",
      "           D       0.59      0.94      0.72        69\n",
      "           E       0.23      0.11      0.15        27\n",
      "           F       0.84      0.62      0.71        42\n",
      "\n",
      "    accuracy                           0.64       200\n",
      "   macro avg       0.68      0.55      0.57       200\n",
      "weighted avg       0.66      0.64      0.61       200\n",
      "\n",
      "Epoch 20, Training loss: 0.955390625\n",
      "Epoch 20, Validation loss: 0.90375\n",
      "Validation Accuracy: 0.65\n",
      "Validation loss did not improve. Patience: 5/5\n",
      "Early stopping triggered\n"
     ]
    }
   ],
   "source": [
    "from torch.optim.lr_scheduler import ReduceLROnPlateau\n",
    "from sklearn.metrics import accuracy_score, classification_report\n",
    "import copy\n",
    "\n",
    "n_epochs = 20  # Set a higher number of epochs for early stopping\n",
    "patience = 5  # Number of epochs to wait for improvement before stopping\n",
    "patience_counter = 0  # To keep track of how many epochs without improvement\n",
    "best_val_loss = float('inf')\n",
    "best_model = None\n",
    "peft_model_path = './peft-essay-categories' # Define a path to save the model\n",
    "optimizer = AdamW(peft_model.parameters(), lr=1e-3) # Higher learning rate than full fine tuning\n",
    "\n",
    "# Initialize the learning rate scheduler\n",
    "scheduler = ReduceLROnPlateau(optimizer, mode='min', factor=0.1, patience=3, verbose=True)\n",
    "\n",
    "\n",
    "for epoch in range(n_epochs):\n",
    "    # Training\n",
    "    peft_model.train()\n",
    "    train_loss = 0\n",
    "    for batch in train_dataloader:\n",
    "        optimizer.zero_grad()\n",
    "\n",
    "        # Unpack the tokenized tensors and encoded labels from the batch\n",
    "        tokenized_tensors = batch[0]\n",
    "        labels = batch[1]\n",
    "\n",
    "        # Extract the tokenized tensors\n",
    "        input_ids = tokenized_tensors['input_ids']\n",
    "        attention_mask = tokenized_tensors['attention_mask']\n",
    "        \n",
    "        # Convert labels to long integers\n",
    "        labels = labels.long()\n",
    "\n",
    "        # Forward pass with labels to compute loss\n",
    "        outputs = peft_model(input_ids=input_ids, attention_mask=attention_mask, labels=labels)\n",
    "        logits = outputs.logits\n",
    "        loss = outputs.loss\n",
    "        loss.backward()  # Backward pass\n",
    "        optimizer.step()\n",
    "        train_loss += loss.item()\n",
    "\n",
    "    avg_train_loss = train_loss / len(train_dataloader)\n",
    "    print(f'Epoch {epoch + 1}, Training loss: {avg_train_loss}')\n",
    "\n",
    "    # Validation\n",
    "    peft_model.eval()\n",
    "    val_loss = 0\n",
    "    val_preds, val_labels = [], []\n",
    "\n",
    "    with torch.no_grad():\n",
    "        for batch in val_dataloader:\n",
    "            # Unpack the tokenized tensors and labels from the batch\n",
    "            tokenized_tensors = batch[0]\n",
    "            labels = batch[1]\n",
    "\n",
    "            input_ids = tokenized_tensors['input_ids']\n",
    "            attention_mask = tokenized_tensors['attention_mask']\n",
    "\n",
    "            # Convert labels to long integers\n",
    "            labels = labels.long()\n",
    "\n",
    "            # Forward pass, we don't provide labels during inference\n",
    "            outputs = peft_model(input_ids=input_ids, attention_mask=attention_mask, labels=labels)\n",
    "            logits = outputs.logits\n",
    "            val_loss += outputs.loss.item()\n",
    "            preds = torch.argmax(logits, dim=-1)\n",
    "            val_preds.extend(preds.cpu().numpy())\n",
    "            val_labels.extend(labels.cpu().numpy())\n",
    "\n",
    "    avg_val_loss = val_loss / len(val_dataloader)\n",
    "    print(f'Epoch {epoch + 1}, Validation loss: {avg_val_loss}')\n",
    "    \n",
    "    # Step the scheduler with the validation loss\n",
    "    scheduler.step(avg_val_loss)\n",
    "\n",
    "    # Calculate classification metrics\n",
    "    accuracy = accuracy_score(val_labels, val_preds)\n",
    "    report = classification_report(val_labels, val_preds, target_names=label_encoder.classes_)\n",
    "    print(f'Validation Accuracy: {accuracy}')\n",
    "\n",
    "    # Save model if validation loss has improved\n",
    "    if avg_val_loss < best_val_loss:\n",
    "        print(f'Validation loss decreased from {best_val_loss} to {avg_val_loss}. Saving model to {peft_model_path}')\n",
    "        best_val_loss = avg_val_loss\n",
    "        best_model = copy.deepcopy(peft_model.state_dict())\n",
    "        patience_counter = 0\n",
    "        \n",
    "        # Save best model to disk\n",
    "        # First ensure the best model weights are loaded\n",
    "        peft_model.load_state_dict(best_model)\n",
    "\n",
    "        # Save model weights\n",
    "        peft_model.save_pretrained(peft_model_path)\n",
    "\n",
    "        # Save tokenizer from the train_dataset\n",
    "        train_dataset.tokenizer.save_pretrained(peft_model_path)\n",
    "    else:\n",
    "        patience_counter += 1\n",
    "        print(f'Validation loss did not improve. Patience: {patience_counter}/{patience}')\n",
    "        if patience_counter >= patience:\n",
    "            print(\"Early stopping triggered\")\n",
    "            break\n",
    "            \n",
    "    print(report)"
   ]
  },
  {
   "cell_type": "markdown",
   "id": "61aaba6c-2e0d-4c8a-840c-dbab9adc5840",
   "metadata": {},
   "source": [
    "#### Precision, Recall and F1 score"
   ]
  },
  {
   "cell_type": "markdown",
   "id": "75e51463-5035-4ea1-8130-87bec8306366",
   "metadata": {},
   "source": [
    "In the context of grading essays using a fine-tuned language model, the relative importance of precision and recall may depend on the specific objectives and consequences of the grading system.\n",
    "\n",
    "Here are some considerations:\n",
    "\n",
    "1. **Precision (Positive Predictive Value)**: Precision measures the accuracy of the positive predictions. In essay grading, a high precision would mean that when the model assigns a specific grade, it is usually correct. This is important when you want to ensure that students are only awarded a certain grade if their essays truly merit it. For example, if precision is crucial, you wouldn't want to give an \"A\" to a student unless you are quite certain their work deserves an \"A\".\n",
    "\n",
    "2. **Recall (Sensitivity)**: Recall measures the ability of the model to find all the relevant cases (all the essays that truly deserve a particular grade). High recall in essay grading means that most essays that deserve a certain grade are correctly identified and assigned that grade by the model. This is important when it is crucial to identify all the students who deserve a particular grade. For instance, if every student who deserves an \"A\" must receive one, then recall is vital.\n",
    "\n",
    "Depending on the context, you might prioritize differently:\n",
    "\n",
    "- **If you are more concerned about fairness and equality**, you might prioritize recall to ensure that every student who deserves a high grade receives it, minimizing the chances that a high-quality essay is graded too harshly.\n",
    "- **If you are more concerned about maintaining high standards**, you might prioritize precision to ensure that only truly outstanding essays receive the highest grades, minimizing the chances that a lower-quality essay is graded too leniently.\n",
    "\n",
    "In many educational contexts, a balance between precision and recall is sought. This balance can be measured by the F1 score, which is the harmonic mean of precision and recall. The F1 score provides a single metric that takes into account both the precision and the recall. This is useful when you need to ensure that the grading model is both accurate and fair in assigning grades."
   ]
  },
  {
   "cell_type": "markdown",
   "id": "bfda7e6a-ffa9-439b-a18d-a66191d0a4b6",
   "metadata": {},
   "source": [
    "#### 6.4 - Save the final best model and the corresponding tokenizer "
   ]
  },
  {
   "cell_type": "code",
   "execution_count": 81,
   "id": "0702c218-10ba-431f-8729-48d22f821811",
   "metadata": {
    "tags": []
   },
   "outputs": [
    {
     "data": {
      "text/plain": [
       "('./peft-essay-categories/tokenizer_config.json',\n",
       " './peft-essay-categories/special_tokens_map.json',\n",
       " './peft-essay-categories/vocab.txt',\n",
       " './peft-essay-categories/added_tokens.json')"
      ]
     },
     "execution_count": 81,
     "metadata": {},
     "output_type": "execute_result"
    }
   ],
   "source": [
    "# Ensure the best model weights are loaded\n",
    "peft_model.load_state_dict(best_model)\n",
    "\n",
    "# Save model weights\n",
    "peft_model.save_pretrained(peft_model_path)\n",
    "\n",
    "# Save tokenizer from the train_dataset\n",
    "train_dataset.tokenizer.save_pretrained(peft_model_path)\n"
   ]
  },
  {
   "cell_type": "markdown",
   "id": "6ce46479-2196-4867-b975-2d3fbd65f56a",
   "metadata": {},
   "source": [
    "### 7 - Inference"
   ]
  },
  {
   "cell_type": "markdown",
   "id": "b1185701-56e8-4bec-bac4-af00df418518",
   "metadata": {},
   "source": [
    "#### 7.1 - Prepare this model by adding an adapter to the original model.   \n",
    "Set is_trainable=False because the plan is only to perform inference with this PEFT model. If you were preparing the model for further training, you would set is_trainable=True."
   ]
  },
  {
   "cell_type": "code",
   "execution_count": 82,
   "id": "8e9e73d0-a705-43de-be8e-9ecb1c17b212",
   "metadata": {
    "tags": []
   },
   "outputs": [
    {
     "name": "stderr",
     "output_type": "stream",
     "text": [
      "Some weights of the model checkpoint at bert-base-uncased were not used when initializing BertForSequenceClassification: ['cls.predictions.transform.LayerNorm.weight', 'cls.seq_relationship.bias', 'cls.predictions.transform.dense.weight', 'cls.predictions.transform.LayerNorm.bias', 'cls.predictions.transform.dense.bias', 'cls.seq_relationship.weight', 'cls.predictions.decoder.weight', 'cls.predictions.bias']\n",
      "- This IS expected if you are initializing BertForSequenceClassification from the checkpoint of a model trained on another task or with another architecture (e.g. initializing a BertForSequenceClassification model from a BertForPreTraining model).\n",
      "- This IS NOT expected if you are initializing BertForSequenceClassification from the checkpoint of a model that you expect to be exactly identical (initializing a BertForSequenceClassification model from a BertForSequenceClassification model).\n",
      "Some weights of BertForSequenceClassification were not initialized from the model checkpoint at bert-base-uncased and are newly initialized: ['classifier.bias', 'classifier.weight']\n",
      "You should probably TRAIN this model on a down-stream task to be able to use it for predictions and inference.\n"
     ]
    }
   ],
   "source": [
    "from peft import PeftModel, PeftConfig\n",
    "\n",
    "peft_model_base = BertForSequenceClassification.from_pretrained(model_name, num_labels=num_classes, torch_dtype=torch.bfloat16)\n",
    "tokenizer = BertTokenizer.from_pretrained(model_name)\n",
    "\n",
    "peft_model = PeftModel.from_pretrained(peft_model_base, \n",
    "                                       peft_model_path, \n",
    "                                       torch_dtype=torch.bfloat16,\n",
    "                                       num_labels=num_classes,\n",
    "                                       is_trainable=False)"
   ]
  },
  {
   "cell_type": "markdown",
   "id": "10883037-14df-4fd7-9b18-e1a1e1d4028f",
   "metadata": {
    "tags": []
   },
   "source": [
    "#### 7.2 - Evaluate the Model Qualitatively (Human Evaluation)\n",
    "\n",
    "Make inferences with the original model and PEFT model for one test instance initially.  \n",
    "Please note the original model would normally be the fully fine tuned model.  \n",
    "I have not fine tuned the original model fully to conserve resources."
   ]
  },
  {
   "cell_type": "code",
   "execution_count": 83,
   "id": "8b562d37-a0ea-484a-a38e-cf74539954ee",
   "metadata": {
    "tags": []
   },
   "outputs": [
    {
     "name": "stdout",
     "output_type": "stream",
     "text": [
      "ACTUAL CATEGORY: F\n",
      "ORIGINAL MODEL PREDICTED CATEGORY: E\n",
      "PEFT MODEL PREDICTED CATEGORY: D\n"
     ]
    },
    {
     "name": "stderr",
     "output_type": "stream",
     "text": [
      "/opt/conda/lib/python3.10/site-packages/sklearn/preprocessing/_label.py:154: DataConversionWarning: A column-vector y was passed when a 1d array was expected. Please change the shape of y to (n_samples, ), for example using ravel().\n",
      "  y = column_or_1d(y, warn=True)\n"
     ]
    }
   ],
   "source": [
    "index = 12\n",
    "\n",
    "essay = essays_test[index]\n",
    "category_label = grades_test[index]  # Assuming this is the original encoded category label\n",
    "\n",
    "# Prepare the prompt and tokenize\n",
    "prompt = f\"Assign a score to the following essay:\\n\\n{essay}\\n\\nScore:\"\n",
    "inputs = tokenizer(prompt, return_tensors=\"pt\", truncation=True, padding=True, max_length=512)\n",
    "\n",
    "# Move tensors to the same device as the model\n",
    "device = torch.device(\"cuda\" if torch.cuda.is_available() else \"cpu\")\n",
    "inputs = {k: v.to(device) for k, v in inputs.items()}\n",
    "\n",
    "# Make sure your models are in evaluation mode\n",
    "original_model.eval()\n",
    "peft_model.eval()\n",
    "\n",
    "# Disable gradient calculation for inference\n",
    "with torch.no_grad():\n",
    "    # Get model predictions\n",
    "    original_model_outputs = original_model(**inputs)\n",
    "    peft_model_outputs = peft_model(**inputs)\n",
    "\n",
    "    # Extract the predicted class index from the outputs\n",
    "    original_model_pred_index = torch.argmax(original_model_outputs.logits, dim=-1)\n",
    "    peft_model_pred_index = torch.argmax(peft_model_outputs.logits, dim=-1)\n",
    "\n",
    "    # Convert predicted indices to class labels using the label encoder\n",
    "    original_model_label = label_encoder.inverse_transform([original_model_pred_index.cpu().numpy()])[0]\n",
    "    peft_model_label = label_encoder.inverse_transform([peft_model_pred_index.cpu().numpy()])[0]\n",
    "    category_label_true = label_encoder.inverse_transform([category_label])[0]\n",
    "    \n",
    "\n",
    "# Print results\n",
    "print(f\"ACTUAL CATEGORY: {category_label_true.item()}\")\n",
    "print(f\"ORIGINAL MODEL PREDICTED CATEGORY: {original_model_label}\")\n",
    "print(f\"PEFT MODEL PREDICTED CATEGORY: {peft_model_label}\")\n"
   ]
  },
  {
   "cell_type": "markdown",
   "id": "b4e1993a-7744-414e-ade5-a09af520df3d",
   "metadata": {
    "tags": []
   },
   "source": [
    "#### 7.3 - Evaluate the performance on the test set"
   ]
  },
  {
   "cell_type": "code",
   "execution_count": 84,
   "id": "e5f1bf57-b7f8-4806-b01c-479cc376460d",
   "metadata": {
    "tags": []
   },
   "outputs": [
    {
     "name": "stdout",
     "output_type": "stream",
     "text": [
      "Processing batch 0/200\n"
     ]
    },
    {
     "name": "stderr",
     "output_type": "stream",
     "text": [
      "Token indices sequence length is longer than the specified maximum sequence length for this model (766 > 512). Running this sequence through the model will result in indexing errors\n"
     ]
    },
    {
     "name": "stdout",
     "output_type": "stream",
     "text": [
      "Skipping essay 5 with length 766...\n",
      "Processing batch 10/200\n",
      "Skipping essay 11 with length 834...\n",
      "Skipping essay 20 with length 720...\n",
      "Processing batch 30/200\n",
      "Skipping essay 37 with length 624...\n",
      "Processing batch 40/200\n",
      "Skipping essay 42 with length 861...\n",
      "Skipping essay 45 with length 576...\n",
      "Skipping essay 49 with length 595...\n",
      "Processing batch 50/200\n",
      "Skipping essay 55 with length 570...\n",
      "Skipping essay 57 with length 626...\n",
      "Processing batch 60/200\n",
      "Skipping essay 66 with length 776...\n",
      "Processing batch 70/200\n",
      "Skipping essay 71 with length 669...\n",
      "Skipping essay 75 with length 539...\n",
      "Skipping essay 76 with length 627...\n",
      "Skipping essay 79 with length 611...\n",
      "Processing batch 80/200\n",
      "Skipping essay 83 with length 695...\n",
      "Skipping essay 87 with length 996...\n",
      "Skipping essay 89 with length 747...\n",
      "Processing batch 90/200\n",
      "Skipping essay 93 with length 525...\n",
      "Skipping essay 98 with length 777...\n",
      "Processing batch 100/200\n",
      "Skipping essay 105 with length 588...\n",
      "Skipping essay 109 with length 840...\n",
      "Processing batch 110/200\n",
      "Skipping essay 117 with length 810...\n",
      "Processing batch 120/200\n",
      "Skipping essay 121 with length 568...\n",
      "Skipping essay 125 with length 531...\n",
      "Skipping essay 126 with length 515...\n",
      "Processing batch 130/200\n",
      "Skipping essay 131 with length 637...\n",
      "Processing batch 140/200\n",
      "Skipping essay 141 with length 927...\n",
      "Skipping essay 145 with length 940...\n",
      "Skipping essay 150 with length 544...\n",
      "Skipping essay 151 with length 1098...\n",
      "Skipping essay 154 with length 689...\n",
      "Skipping essay 156 with length 670...\n",
      "Processing batch 160/200\n",
      "Skipping essay 165 with length 762...\n",
      "Processing batch 170/200\n",
      "Skipping essay 175 with length 740...\n",
      "Skipping essay 176 with length 1068...\n",
      "Processing batch 180/200\n",
      "Processing batch 190/200\n",
      "              precision    recall  f1-score   support\n",
      "\n",
      "           A       0.33      0.67      0.44         3\n",
      "           B       0.37      0.67      0.48        15\n",
      "           C       1.00      0.10      0.18        30\n",
      "           D       0.47      0.94      0.62        50\n",
      "           E       0.33      0.06      0.10        34\n",
      "           F       0.86      0.58      0.69        33\n",
      "\n",
      "    accuracy                           0.50       165\n",
      "   macro avg       0.56      0.50      0.42       165\n",
      "weighted avg       0.60      0.50      0.43       165\n",
      "\n"
     ]
    }
   ],
   "source": [
    "import numpy as np\n",
    "from sklearn.metrics import accuracy_score, classification_report\n",
    "\n",
    "n=10 # print progress every nth batch\n",
    "y_test = []\n",
    "y_pred = []\n",
    "max_length = 512  # Maximum length for BERT-based models\n",
    "\n",
    "for index in range(len(essays_test)):\n",
    "    \n",
    "    essay = essays_test[index]\n",
    "    category_label = grades_test[index]  # This is the original encoded category label\n",
    "    \n",
    "    prompt = f\"\"\"\n",
    "    Assign a score to the following essay.\n",
    "    \n",
    "    {essay}\n",
    "    \n",
    "    Score:\n",
    "    \"\"\"\n",
    "\n",
    "    # Prepare the essay and tokenize\n",
    "    inputs = tokenizer(prompt, return_tensors=\"pt\")\n",
    "\n",
    "    # Check the length of the tokenized essay\n",
    "    input_length = inputs.input_ids.size(1)\n",
    "    if input_length > max_length:\n",
    "        print(f\"Skipping essay {index} with length {input_length}...\")\n",
    "        continue\n",
    "    \n",
    "    # Move tensors to the same device as the model\n",
    "    device = torch.device(\"cuda\" if torch.cuda.is_available() else \"cpu\")\n",
    "    inputs = {k: v.to(device) for k, v in inputs.items()}\n",
    "\n",
    "    # Make sure your models are in evaluation mode\n",
    "    original_model.eval()\n",
    "    peft_model.eval()\n",
    "\n",
    "    # Disable gradient calculation for inference\n",
    "    with torch.no_grad():\n",
    "    # Get model predictions\n",
    "        peft_model_outputs = peft_model(**inputs)\n",
    "\n",
    "        # Extract the predicted class index from the outputs\n",
    "        peft_model_pred_index = torch.argmax(peft_model_outputs.logits, dim=-1)\n",
    "\n",
    "        # Convert predicted indices to class labels using the label encoder\n",
    "        # Ensure that the output is reshaped to 1D if necessary.\n",
    "        peft_model_label = label_encoder.inverse_transform(peft_model_pred_index.cpu().numpy().reshape(-1))[0]\n",
    "        \n",
    "        # Populate y_test and y_pred\n",
    "        category_label_true=label_encoder.inverse_transform([category_label])[0]\n",
    "        y_test.append(category_label_true.item()) \n",
    "        y_pred.append(peft_model_label)  \n",
    "        \n",
    "        # Print progress message every nth iteration\n",
    "        if index % n == 0:\n",
    "            print(f\"Processing batch {index}/{len(essays_test)}\")    \n",
    "\n",
    "\n",
    "# Calculate classification metrics\n",
    "accuracy = accuracy_score(y_test, y_pred)\n",
    "report = classification_report(y_test, y_pred, target_names=label_encoder.classes_)\n",
    "print(report)\n"
   ]
  },
  {
   "cell_type": "markdown",
   "id": "a3bc81d8-2f4e-470a-8873-c2806c10ad78",
   "metadata": {},
   "source": [
    "#### Confusion matrix"
   ]
  },
  {
   "cell_type": "code",
   "execution_count": 89,
   "id": "8da563de-3f99-49d7-af7f-37eda1a3bcf0",
   "metadata": {
    "tags": []
   },
   "outputs": [
    {
     "data": {
      "image/png": "[encoded data removed]",
      "text/plain": [
       "<Figure size 1000x700 with 2 Axes>"
      ]
     },
     "metadata": {},
     "output_type": "display_data"
    }
   ],
   "source": [
    "from sklearn.metrics import confusion_matrix\n",
    "import seaborn as sns\n",
    "import matplotlib.pyplot as plt\n",
    "\n",
    "# Calculate the confusion matrix\n",
    "cm = confusion_matrix(y_test, y_pred, labels=[\"A\", \"B\", \"C\", \"D\", \"E\", \"F\"])\n",
    "\n",
    "# Plot the confusion matrix\n",
    "plt.figure(figsize=(10, 7))\n",
    "sns.heatmap(cm, annot=True, fmt='g', cmap='Blues', xticklabels=[\"A\", \"B\", \"C\", \"D\", \"E\", \"F\"], yticklabels=[\"A\", \"B\", \"C\", \"D\", \"E\", \"F\"])\n",
    "plt.xlabel('Predicted Labels')\n",
    "plt.ylabel('True Labels')\n",
    "plt.title('Confusion Matrix')\n",
    "plt.show()\n"
   ]
  },
  {
   "cell_type": "markdown",
   "id": "2f5400f1-1045-434a-b568-fce242cd0457",
   "metadata": {},
   "source": [
    "#### Save y_test and y_pred"
   ]
  },
  {
   "cell_type": "code",
   "execution_count": 92,
   "id": "2dded424-2713-424c-99f0-0250d73723f9",
   "metadata": {
    "tags": []
   },
   "outputs": [
    {
     "data": {
      "text/plain": [
       "'y_test_y_pred.csv'"
      ]
     },
     "execution_count": 92,
     "metadata": {},
     "output_type": "execute_result"
    }
   ],
   "source": [
    "import csv\n",
    "\n",
    "# Combine y_test and y_pred into a single list of tuples for easier CSV writing\n",
    "combined_data = list(zip(y_test, y_pred))\n",
    "\n",
    "# Specify the CSV file path\n",
    "csv_file_path = 'y_test_y_pred.csv'\n",
    "\n",
    "# Writing to csv file\n",
    "with open(csv_file_path, 'w', newline='') as file:\n",
    "    writer = csv.writer(file)\n",
    "    # Optionally write header\n",
    "    writer.writerow(['y_test', 'y_pred'])\n",
    "    writer.writerows(combined_data)\n",
    "\n",
    "# Return the path for download\n",
    "csv_file_path\n"
   ]
  },
  {
   "cell_type": "markdown",
   "id": "4c46c2b3-9bf4-4a84-b704-4dd62cd8df33",
   "metadata": {},
   "source": [
    "#### Combine classes"
   ]
  },
  {
   "cell_type": "code",
   "execution_count": 94,
   "id": "1ac61ad0-42bb-4ea2-b22b-778aab15d24c",
   "metadata": {
    "tags": []
   },
   "outputs": [
    {
     "name": "stdout",
     "output_type": "stream",
     "text": [
      "              precision    recall  f1-score   support\n",
      "\n",
      "          AB       0.48      0.89      0.63        18\n",
      "          CD       0.62      0.81      0.71        80\n",
      "          EF       0.96      0.40      0.57        67\n",
      "\n",
      "    accuracy                           0.65       165\n",
      "   macro avg       0.69      0.70      0.63       165\n",
      "weighted avg       0.75      0.65      0.64       165\n",
      "\n"
     ]
    }
   ],
   "source": [
    "# Define a function to map old classes to new classes\n",
    "def map_to_new_class(old_class):\n",
    "    if old_class in ['A', 'B']:\n",
    "        return 'AB'\n",
    "    elif old_class in ['C', 'D']:\n",
    "        return 'CD'\n",
    "    elif old_class in ['E', 'F']:\n",
    "        return 'EF'\n",
    "\n",
    "# Map the original classes to the new classes\n",
    "new_true_labels = [map_to_new_class(label) for label in y_test]\n",
    "new_predictions = [map_to_new_class(label) for label in y_pred]\n",
    "    \n",
    "# Calculate the new classification report\n",
    "new_report = classification_report(new_true_labels, new_predictions)\n",
    "print(new_report)\n"
   ]
  },
  {
   "cell_type": "markdown",
   "id": "d9c8305a-cb80-436a-92b1-27f3cdb19b0a",
   "metadata": {},
   "source": [
    "#### Confusion matrix"
   ]
  },
  {
   "cell_type": "code",
   "execution_count": 98,
   "id": "f5a98c62-6b20-467f-a87f-8b8cbdee3bdf",
   "metadata": {
    "tags": []
   },
   "outputs": [
    {
     "data": {
      "image/png": "[encoded data removed]",
      "text/plain": [
       "<Figure size 1000x700 with 2 Axes>"
      ]
     },
     "metadata": {},
     "output_type": "display_data"
    }
   ],
   "source": [
    "# Calculate the confusion matrix\n",
    "cm = confusion_matrix(new_true_labels, new_predictions, labels=[\"AB\", \"CD\", \"EF\"])\n",
    "\n",
    "# Plot the confusion matrix\n",
    "plt.figure(figsize=(10, 7))\n",
    "sns.heatmap(cm, annot=True, fmt='g', cmap='Blues', xticklabels=[\"AB\", \"CD\", \"EF\"], yticklabels=[\"AB\",\"CD\",\"EF\"])\n",
    "plt.xlabel('Predicted Labels')\n",
    "plt.ylabel('True Labels')\n",
    "plt.title('Confusion Matrix')\n",
    "plt.show()\n"
   ]
  },
  {
   "cell_type": "code",
   "execution_count": null,
   "id": "127b0b51-6138-48a7-92cb-6d9d5c8c94d4",
   "metadata": {},
   "outputs": [],
   "source": []
  }
 ],
 "metadata": {
  "availableInstances": [
   {
    "_defaultOrder": 0,
    "_isFastLaunch": true,
    "category": "General purpose",
    "gpuNum": 0,
    "hideHardwareSpecs": false,
    "memoryGiB": 4,
    "name": "ml.t3.medium",
    "vcpuNum": 2
   },
   {
    "_defaultOrder": 1,
    "_isFastLaunch": false,
    "category": "General purpose",
    "gpuNum": 0,
    "hideHardwareSpecs": false,
    "memoryGiB": 8,
    "name": "ml.t3.large",
    "vcpuNum": 2
   },
   {
    "_defaultOrder": 2,
    "_isFastLaunch": false,
    "category": "General purpose",
    "gpuNum": 0,
    "hideHardwareSpecs": false,
    "memoryGiB": 16,
    "name": "ml.t3.xlarge",
    "vcpuNum": 4
   },
   {
    "_defaultOrder": 3,
    "_isFastLaunch": false,
    "category": "General purpose",
    "gpuNum": 0,
    "hideHardwareSpecs": false,
    "memoryGiB": 32,
    "name": "ml.t3.2xlarge",
    "vcpuNum": 8
   },
   {
    "_defaultOrder": 4,
    "_isFastLaunch": true,
    "category": "General purpose",
    "gpuNum": 0,
    "hideHardwareSpecs": false,
    "memoryGiB": 8,
    "name": "ml.m5.large",
    "vcpuNum": 2
   },
   {
    "_defaultOrder": 5,
    "_isFastLaunch": false,
    "category": "General purpose",
    "gpuNum": 0,
    "hideHardwareSpecs": false,
    "memoryGiB": 16,
    "name": "ml.m5.xlarge",
    "vcpuNum": 4
   },
   {
    "_defaultOrder": 6,
    "_isFastLaunch": false,
    "category": "General purpose",
    "gpuNum": 0,
    "hideHardwareSpecs": false,
    "memoryGiB": 32,
    "name": "ml.m5.2xlarge",
    "vcpuNum": 8
   },
   {
    "_defaultOrder": 7,
    "_isFastLaunch": false,
    "category": "General purpose",
    "gpuNum": 0,
    "hideHardwareSpecs": false,
    "memoryGiB": 64,
    "name": "ml.m5.4xlarge",
    "vcpuNum": 16
   },
   {
    "_defaultOrder": 8,
    "_isFastLaunch": false,
    "category": "General purpose",
    "gpuNum": 0,
    "hideHardwareSpecs": false,
    "memoryGiB": 128,
    "name": "ml.m5.8xlarge",
    "vcpuNum": 32
   },
   {
    "_defaultOrder": 9,
    "_isFastLaunch": false,
    "category": "General purpose",
    "gpuNum": 0,
    "hideHardwareSpecs": false,
    "memoryGiB": 192,
    "name": "ml.m5.12xlarge",
    "vcpuNum": 48
   },
   {
    "_defaultOrder": 10,
    "_isFastLaunch": false,
    "category": "General purpose",
    "gpuNum": 0,
    "hideHardwareSpecs": false,
    "memoryGiB": 256,
    "name": "ml.m5.16xlarge",
    "vcpuNum": 64
   },
   {
    "_defaultOrder": 11,
    "_isFastLaunch": false,
    "category": "General purpose",
    "gpuNum": 0,
    "hideHardwareSpecs": false,
    "memoryGiB": 384,
    "name": "ml.m5.24xlarge",
    "vcpuNum": 96
   },
   {
    "_defaultOrder": 12,
    "_isFastLaunch": false,
    "category": "General purpose",
    "gpuNum": 0,
    "hideHardwareSpecs": false,
    "memoryGiB": 8,
    "name": "ml.m5d.large",
    "vcpuNum": 2
   },
   {
    "_defaultOrder": 13,
    "_isFastLaunch": false,
    "category": "General purpose",
    "gpuNum": 0,
    "hideHardwareSpecs": false,
    "memoryGiB": 16,
    "name": "ml.m5d.xlarge",
    "vcpuNum": 4
   },
   {
    "_defaultOrder": 14,
    "_isFastLaunch": false,
    "category": "General purpose",
    "gpuNum": 0,
    "hideHardwareSpecs": false,
    "memoryGiB": 32,
    "name": "ml.m5d.2xlarge",
    "vcpuNum": 8
   },
   {
    "_defaultOrder": 15,
    "_isFastLaunch": false,
    "category": "General purpose",
    "gpuNum": 0,
    "hideHardwareSpecs": false,
    "memoryGiB": 64,
    "name": "ml.m5d.4xlarge",
    "vcpuNum": 16
   },
   {
    "_defaultOrder": 16,
    "_isFastLaunch": false,
    "category": "General purpose",
    "gpuNum": 0,
    "hideHardwareSpecs": false,
    "memoryGiB": 128,
    "name": "ml.m5d.8xlarge",
    "vcpuNum": 32
   },
   {
    "_defaultOrder": 17,
    "_isFastLaunch": false,
    "category": "General purpose",
    "gpuNum": 0,
    "hideHardwareSpecs": false,
    "memoryGiB": 192,
    "name": "ml.m5d.12xlarge",
    "vcpuNum": 48
   },
   {
    "_defaultOrder": 18,
    "_isFastLaunch": false,
    "category": "General purpose",
    "gpuNum": 0,
    "hideHardwareSpecs": false,
    "memoryGiB": 256,
    "name": "ml.m5d.16xlarge",
    "vcpuNum": 64
   },
   {
    "_defaultOrder": 19,
    "_isFastLaunch": false,
    "category": "General purpose",
    "gpuNum": 0,
    "hideHardwareSpecs": false,
    "memoryGiB": 384,
    "name": "ml.m5d.24xlarge",
    "vcpuNum": 96
   },
   {
    "_defaultOrder": 20,
    "_isFastLaunch": false,
    "category": "General purpose",
    "gpuNum": 0,
    "hideHardwareSpecs": true,
    "memoryGiB": 0,
    "name": "ml.geospatial.interactive",
    "supportedImageNames": [
     "sagemaker-geospatial-v1-0"
    ],
    "vcpuNum": 0
   },
   {
    "_defaultOrder": 21,
    "_isFastLaunch": true,
    "category": "Compute optimized",
    "gpuNum": 0,
    "hideHardwareSpecs": false,
    "memoryGiB": 4,
    "name": "ml.c5.large",
    "vcpuNum": 2
   },
   {
    "_defaultOrder": 22,
    "_isFastLaunch": false,
    "category": "Compute optimized",
    "gpuNum": 0,
    "hideHardwareSpecs": false,
    "memoryGiB": 8,
    "name": "ml.c5.xlarge",
    "vcpuNum": 4
   },
   {
    "_defaultOrder": 23,
    "_isFastLaunch": false,
    "category": "Compute optimized",
    "gpuNum": 0,
    "hideHardwareSpecs": false,
    "memoryGiB": 16,
    "name": "ml.c5.2xlarge",
    "vcpuNum": 8
   },
   {
    "_defaultOrder": 24,
    "_isFastLaunch": false,
    "category": "Compute optimized",
    "gpuNum": 0,
    "hideHardwareSpecs": false,
    "memoryGiB": 32,
    "name": "ml.c5.4xlarge",
    "vcpuNum": 16
   },
   {
    "_defaultOrder": 25,
    "_isFastLaunch": false,
    "category": "Compute optimized",
    "gpuNum": 0,
    "hideHardwareSpecs": false,
    "memoryGiB": 72,
    "name": "ml.c5.9xlarge",
    "vcpuNum": 36
   },
   {
    "_defaultOrder": 26,
    "_isFastLaunch": false,
    "category": "Compute optimized",
    "gpuNum": 0,
    "hideHardwareSpecs": false,
    "memoryGiB": 96,
    "name": "ml.c5.12xlarge",
    "vcpuNum": 48
   },
   {
    "_defaultOrder": 27,
    "_isFastLaunch": false,
    "category": "Compute optimized",
    "gpuNum": 0,
    "hideHardwareSpecs": false,
    "memoryGiB": 144,
    "name": "ml.c5.18xlarge",
    "vcpuNum": 72
   },
   {
    "_defaultOrder": 28,
    "_isFastLaunch": false,
    "category": "Compute optimized",
    "gpuNum": 0,
    "hideHardwareSpecs": false,
    "memoryGiB": 192,
    "name": "ml.c5.24xlarge",
    "vcpuNum": 96
   },
   {
    "_defaultOrder": 29,
    "_isFastLaunch": true,
    "category": "Accelerated computing",
    "gpuNum": 1,
    "hideHardwareSpecs": false,
    "memoryGiB": 16,
    "name": "ml.g4dn.xlarge",
    "vcpuNum": 4
   },
   {
    "_defaultOrder": 30,
    "_isFastLaunch": false,
    "category": "Accelerated computing",
    "gpuNum": 1,
    "hideHardwareSpecs": false,
    "memoryGiB": 32,
    "name": "ml.g4dn.2xlarge",
    "vcpuNum": 8
   },
   {
    "_defaultOrder": 31,
    "_isFastLaunch": false,
    "category": "Accelerated computing",
    "gpuNum": 1,
    "hideHardwareSpecs": false,
    "memoryGiB": 64,
    "name": "ml.g4dn.4xlarge",
    "vcpuNum": 16
   },
   {
    "_defaultOrder": 32,
    "_isFastLaunch": false,
    "category": "Accelerated computing",
    "gpuNum": 1,
    "hideHardwareSpecs": false,
    "memoryGiB": 128,
    "name": "ml.g4dn.8xlarge",
    "vcpuNum": 32
   },
   {
    "_defaultOrder": 33,
    "_isFastLaunch": false,
    "category": "Accelerated computing",
    "gpuNum": 4,
    "hideHardwareSpecs": false,
    "memoryGiB": 192,
    "name": "ml.g4dn.12xlarge",
    "vcpuNum": 48
   },
   {
    "_defaultOrder": 34,
    "_isFastLaunch": false,
    "category": "Accelerated computing",
    "gpuNum": 1,
    "hideHardwareSpecs": false,
    "memoryGiB": 256,
    "name": "ml.g4dn.16xlarge",
    "vcpuNum": 64
   },
   {
    "_defaultOrder": 35,
    "_isFastLaunch": false,
    "category": "Accelerated computing",
    "gpuNum": 1,
    "hideHardwareSpecs": false,
    "memoryGiB": 61,
    "name": "ml.p3.2xlarge",
    "vcpuNum": 8
   },
   {
    "_defaultOrder": 36,
    "_isFastLaunch": false,
    "category": "Accelerated computing",
    "gpuNum": 4,
    "hideHardwareSpecs": false,
    "memoryGiB": 244,
    "name": "ml.p3.8xlarge",
    "vcpuNum": 32
   },
   {
    "_defaultOrder": 37,
    "_isFastLaunch": false,
    "category": "Accelerated computing",
    "gpuNum": 8,
    "hideHardwareSpecs": false,
    "memoryGiB": 488,
    "name": "ml.p3.16xlarge",
    "vcpuNum": 64
   },
   {
    "_defaultOrder": 38,
    "_isFastLaunch": false,
    "category": "Accelerated computing",
    "gpuNum": 8,
    "hideHardwareSpecs": false,
    "memoryGiB": 768,
    "name": "ml.p3dn.24xlarge",
    "vcpuNum": 96
   },
   {
    "_defaultOrder": 39,
    "_isFastLaunch": false,
    "category": "Memory Optimized",
    "gpuNum": 0,
    "hideHardwareSpecs": false,
    "memoryGiB": 16,
    "name": "ml.r5.large",
    "vcpuNum": 2
   },
   {
    "_defaultOrder": 40,
    "_isFastLaunch": false,
    "category": "Memory Optimized",
    "gpuNum": 0,
    "hideHardwareSpecs": false,
    "memoryGiB": 32,
    "name": "ml.r5.xlarge",
    "vcpuNum": 4
   },
   {
    "_defaultOrder": 41,
    "_isFastLaunch": false,
    "category": "Memory Optimized",
    "gpuNum": 0,
    "hideHardwareSpecs": false,
    "memoryGiB": 64,
    "name": "ml.r5.2xlarge",
    "vcpuNum": 8
   },
   {
    "_defaultOrder": 42,
    "_isFastLaunch": false,
    "category": "Memory Optimized",
    "gpuNum": 0,
    "hideHardwareSpecs": false,
    "memoryGiB": 128,
    "name": "ml.r5.4xlarge",
    "vcpuNum": 16
   },
   {
    "_defaultOrder": 43,
    "_isFastLaunch": false,
    "category": "Memory Optimized",
    "gpuNum": 0,
    "hideHardwareSpecs": false,
    "memoryGiB": 256,
    "name": "ml.r5.8xlarge",
    "vcpuNum": 32
   },
   {
    "_defaultOrder": 44,
    "_isFastLaunch": false,
    "category": "Memory Optimized",
    "gpuNum": 0,
    "hideHardwareSpecs": false,
    "memoryGiB": 384,
    "name": "ml.r5.12xlarge",
    "vcpuNum": 48
   },
   {
    "_defaultOrder": 45,
    "_isFastLaunch": false,
    "category": "Memory Optimized",
    "gpuNum": 0,
    "hideHardwareSpecs": false,
    "memoryGiB": 512,
    "name": "ml.r5.16xlarge",
    "vcpuNum": 64
   },
   {
    "_defaultOrder": 46,
    "_isFastLaunch": false,
    "category": "Memory Optimized",
    "gpuNum": 0,
    "hideHardwareSpecs": false,
    "memoryGiB": 768,
    "name": "ml.r5.24xlarge",
    "vcpuNum": 96
   },
   {
    "_defaultOrder": 47,
    "_isFastLaunch": false,
    "category": "Accelerated computing",
    "gpuNum": 1,
    "hideHardwareSpecs": false,
    "memoryGiB": 16,
    "name": "ml.g5.xlarge",
    "vcpuNum": 4
   },
   {
    "_defaultOrder": 48,
    "_isFastLaunch": false,
    "category": "Accelerated computing",
    "gpuNum": 1,
    "hideHardwareSpecs": false,
    "memoryGiB": 32,
    "name": "ml.g5.2xlarge",
    "vcpuNum": 8
   },
   {
    "_defaultOrder": 49,
    "_isFastLaunch": false,
    "category": "Accelerated computing",
    "gpuNum": 1,
    "hideHardwareSpecs": false,
    "memoryGiB": 64,
    "name": "ml.g5.4xlarge",
    "vcpuNum": 16
   },
   {
    "_defaultOrder": 50,
    "_isFastLaunch": false,
    "category": "Accelerated computing",
    "gpuNum": 1,
    "hideHardwareSpecs": false,
    "memoryGiB": 128,
    "name": "ml.g5.8xlarge",
    "vcpuNum": 32
   },
   {
    "_defaultOrder": 51,
    "_isFastLaunch": false,
    "category": "Accelerated computing",
    "gpuNum": 1,
    "hideHardwareSpecs": false,
    "memoryGiB": 256,
    "name": "ml.g5.16xlarge",
    "vcpuNum": 64
   },
   {
    "_defaultOrder": 52,
    "_isFastLaunch": false,
    "category": "Accelerated computing",
    "gpuNum": 4,
    "hideHardwareSpecs": false,
    "memoryGiB": 192,
    "name": "ml.g5.12xlarge",
    "vcpuNum": 48
   },
   {
    "_defaultOrder": 53,
    "_isFastLaunch": false,
    "category": "Accelerated computing",
    "gpuNum": 4,
    "hideHardwareSpecs": false,
    "memoryGiB": 384,
    "name": "ml.g5.24xlarge",
    "vcpuNum": 96
   },
   {
    "_defaultOrder": 54,
    "_isFastLaunch": false,
    "category": "Accelerated computing",
    "gpuNum": 8,
    "hideHardwareSpecs": false,
    "memoryGiB": 768,
    "name": "ml.g5.48xlarge",
    "vcpuNum": 192
   },
   {
    "_defaultOrder": 55,
    "_isFastLaunch": false,
    "category": "Accelerated computing",
    "gpuNum": 8,
    "hideHardwareSpecs": false,
    "memoryGiB": 1152,
    "name": "ml.p4d.24xlarge",
    "vcpuNum": 96
   },
   {
    "_defaultOrder": 56,
    "_isFastLaunch": false,
    "category": "Accelerated computing",
    "gpuNum": 8,
    "hideHardwareSpecs": false,
    "memoryGiB": 1152,
    "name": "ml.p4de.24xlarge",
    "vcpuNum": 96
   }
  ],
  "instance_type": "ml.m5.24xlarge",
  "kernelspec": {
   "display_name": "Python 3 (Data Science 3.0)",
   "language": "python",
   "name": "python3__SAGEMAKER_INTERNAL__arn:aws:sagemaker:us-east-1:081325390199:image/sagemaker-data-science-310-v1"
  },
  "language_info": {
   "codemirror_mode": {
    "name": "ipython",
    "version": 3
   },
   "file_extension": ".py",
   "mimetype": "text/x-python",
   "name": "python",
   "nbconvert_exporter": "python",
   "pygments_lexer": "ipython3",
   "version": "3.10.6"
  },
  "toc": {
   "base_numbering": 1,
   "nav_menu": {},
   "number_sections": true,
   "sideBar": true,
   "skip_h1_title": false,
   "title_cell": "Table of Contents",
   "title_sidebar": "Contents",
   "toc_cell": false,
   "toc_position": {},
   "toc_section_display": true,
   "toc_window_display": false
  }
 },
 "nbformat": 4,
 "nbformat_minor": 5
}
